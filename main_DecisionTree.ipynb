{
  "cells": [
    {
      "cell_type": "markdown",
      "metadata": {
        "id": "view-in-github",
        "colab_type": "text"
      },
      "source": [
        "<a href=\"https://colab.research.google.com/github/matheusfigueiredoo/detection-of-cyber-attacks/blob/main/main_DecisionTree.ipynb\" target=\"_parent\"><img src=\"https://colab.research.google.com/assets/colab-badge.svg\" alt=\"Open In Colab\"/></a>"
      ]
    },
    {
      "cell_type": "markdown",
      "id": "796ac486",
      "metadata": {
        "id": "796ac486"
      },
      "source": [
        "Decision Tree"
      ]
    },
    {
      "cell_type": "code",
      "execution_count": 1,
      "id": "e3fbd576",
      "metadata": {
        "id": "e3fbd576"
      },
      "outputs": [],
      "source": [
        "import numpy as np\n",
        "import pandas as pd\n",
        "import csv"
      ]
    },
    {
      "cell_type": "code",
      "source": [
        "from google.colab import drive\n",
        "drive.mount('/content/drive')"
      ],
      "metadata": {
        "colab": {
          "base_uri": "https://localhost:8080/"
        },
        "id": "PUWfj1kDEiSb",
        "outputId": "d5cabc70-6b64-4526-fe72-d9d0c943e4f9"
      },
      "id": "PUWfj1kDEiSb",
      "execution_count": 2,
      "outputs": [
        {
          "output_type": "stream",
          "name": "stdout",
          "text": [
            "Drive already mounted at /content/drive; to attempt to forcibly remount, call drive.mount(\"/content/drive\", force_remount=True).\n"
          ]
        }
      ]
    },
    {
      "cell_type": "code",
      "execution_count": 3,
      "id": "4ef16d64",
      "metadata": {
        "id": "4ef16d64"
      },
      "outputs": [],
      "source": [
        "train = pd.read_csv(\"drive/MyDrive/MQTTset/train70_augmented.csv\", nrows=6000000)\n",
        "test = pd.read_csv(\"drive/MyDrive/MQTTset/test30_augmented.csv\", nrows=2000000)"
      ]
    },
    {
      "cell_type": "code",
      "execution_count": 4,
      "id": "3971a49c",
      "metadata": {
        "id": "3971a49c"
      },
      "outputs": [],
      "source": [
        "train = pd.DataFrame(train)\n",
        "test = pd.DataFrame(test)"
      ]
    },
    {
      "cell_type": "code",
      "execution_count": 5,
      "id": "66e8e9f3",
      "metadata": {
        "colab": {
          "base_uri": "https://localhost:8080/"
        },
        "id": "66e8e9f3",
        "outputId": "57d8cd39-bfa8-4615-ba99-ba33465d8212"
      },
      "outputs": [
        {
          "output_type": "stream",
          "name": "stdout",
          "text": [
            "target\n",
            "legitimate    2999826\n",
            "malformed      600923\n",
            "bruteforce     600826\n",
            "slowite        600007\n",
            "flood          599218\n",
            "dos            599200\n",
            "Name: count, dtype: int64\n",
            "target\n",
            "legitimate    999587\n",
            "dos           200454\n",
            "flood         200440\n",
            "malformed     200182\n",
            "slowite       200106\n",
            "bruteforce    199231\n",
            "Name: count, dtype: int64\n"
          ]
        }
      ],
      "source": [
        "# distribuição das targets\n",
        "\n",
        "print(train['target'].value_counts())\n",
        "print(test['target'].value_counts())"
      ]
    },
    {
      "cell_type": "code",
      "execution_count": 6,
      "id": "64f6bb86-474b-453b-96e2-3a564a94d2ca",
      "metadata": {
        "id": "64f6bb86-474b-453b-96e2-3a564a94d2ca"
      },
      "outputs": [],
      "source": [
        "'''\n",
        "'rows' e o vetor que sera usado para acumular as linhas que serao excluidas a fim de balancear\n",
        "as targets\n",
        "'''\n",
        "rows_train = []\n",
        "rows_test = []\n",
        "\n",
        "for i in train.index:\n",
        "    if train['target'][i] == 'legitimate':\n",
        "        rows_train.append(i)\n",
        "\n",
        "for i in test.index:\n",
        "    if test['target'][i] == 'legitimate':\n",
        "        rows_test.append(i)"
      ]
    },
    {
      "cell_type": "code",
      "execution_count": 7,
      "id": "c077adc6-77dd-4c59-ad5d-59542b85f595",
      "metadata": {
        "id": "c077adc6-77dd-4c59-ad5d-59542b85f595"
      },
      "outputs": [],
      "source": [
        "# aqui, e feita a leitura da diferenca para igualar os valores\n",
        "\n",
        "rows_train = rows_train[:2399826]\n",
        "rows_test = rows_test[:799587]"
      ]
    },
    {
      "cell_type": "code",
      "execution_count": 8,
      "id": "4fe0c261-bf73-415a-a1a9-a074585f45a0",
      "metadata": {
        "id": "4fe0c261-bf73-415a-a1a9-a074585f45a0",
        "colab": {
          "base_uri": "https://localhost:8080/"
        },
        "outputId": "6fe8be4e-262a-4063-b0d4-d91c65eb06c5"
      },
      "outputs": [
        {
          "output_type": "stream",
          "name": "stdout",
          "text": [
            "Dados de treino:  target\n",
            "malformed     600923\n",
            "bruteforce    600826\n",
            "slowite       600007\n",
            "legitimate    600000\n",
            "flood         599218\n",
            "dos           599200\n",
            "Name: count, dtype: int64\n",
            "Dados de teste:  target\n",
            "dos           200454\n",
            "flood         200440\n",
            "malformed     200182\n",
            "slowite       200106\n",
            "legitimate    200000\n",
            "bruteforce    199231\n",
            "Name: count, dtype: int64\n"
          ]
        }
      ],
      "source": [
        "# atualizacao e igualacao dos valores\n",
        "\n",
        "train = train.drop(rows_train)\n",
        "test = test.drop(rows_test)\n",
        "\n",
        "print(\"Dados de treino: \", train['target'].value_counts())\n",
        "print(\"Dados de teste: \", test['target'].value_counts())"
      ]
    },
    {
      "cell_type": "code",
      "execution_count": 9,
      "id": "3df84781",
      "metadata": {
        "colab": {
          "base_uri": "https://localhost:8080/"
        },
        "id": "3df84781",
        "outputId": "d51a8506-4aac-4d65-9b33-76773346bf9c"
      },
      "outputs": [
        {
          "output_type": "stream",
          "name": "stdout",
          "text": [
            "(3600174, 33)\n",
            "(1200413, 33)\n"
          ]
        }
      ],
      "source": [
        "# pre processamento de dados\n",
        "# separacao de features e targets\n",
        "\n",
        "X_train = train.iloc[:,:-1]\n",
        "y_train = train['target']\n",
        "\n",
        "X_test = test.iloc[:,:-1]\n",
        "y_test = test['target']\n",
        "\n",
        "print(X_train.shape)\n",
        "print(X_test.shape)"
      ]
    },
    {
      "cell_type": "code",
      "execution_count": 10,
      "id": "94ba6123",
      "metadata": {
        "id": "94ba6123"
      },
      "outputs": [],
      "source": [
        "# transformacao de targets categoricas em numeros inteiros\n",
        "\n",
        "from sklearn.preprocessing import LabelEncoder\n",
        "label = LabelEncoder()"
      ]
    },
    {
      "cell_type": "code",
      "source": [
        "label.fit(y_train)\n",
        "label.fit(y_test)"
      ],
      "metadata": {
        "colab": {
          "base_uri": "https://localhost:8080/",
          "height": 75
        },
        "id": "2afuT_CcUNNj",
        "outputId": "e612b3af-8a8a-4c02-a09d-2ef19a3f3ddb"
      },
      "id": "2afuT_CcUNNj",
      "execution_count": 11,
      "outputs": [
        {
          "output_type": "execute_result",
          "data": {
            "text/plain": [
              "LabelEncoder()"
            ],
            "text/html": [
              "<style>#sk-container-id-1 {color: black;background-color: white;}#sk-container-id-1 pre{padding: 0;}#sk-container-id-1 div.sk-toggleable {background-color: white;}#sk-container-id-1 label.sk-toggleable__label {cursor: pointer;display: block;width: 100%;margin-bottom: 0;padding: 0.3em;box-sizing: border-box;text-align: center;}#sk-container-id-1 label.sk-toggleable__label-arrow:before {content: \"▸\";float: left;margin-right: 0.25em;color: #696969;}#sk-container-id-1 label.sk-toggleable__label-arrow:hover:before {color: black;}#sk-container-id-1 div.sk-estimator:hover label.sk-toggleable__label-arrow:before {color: black;}#sk-container-id-1 div.sk-toggleable__content {max-height: 0;max-width: 0;overflow: hidden;text-align: left;background-color: #f0f8ff;}#sk-container-id-1 div.sk-toggleable__content pre {margin: 0.2em;color: black;border-radius: 0.25em;background-color: #f0f8ff;}#sk-container-id-1 input.sk-toggleable__control:checked~div.sk-toggleable__content {max-height: 200px;max-width: 100%;overflow: auto;}#sk-container-id-1 input.sk-toggleable__control:checked~label.sk-toggleable__label-arrow:before {content: \"▾\";}#sk-container-id-1 div.sk-estimator input.sk-toggleable__control:checked~label.sk-toggleable__label {background-color: #d4ebff;}#sk-container-id-1 div.sk-label input.sk-toggleable__control:checked~label.sk-toggleable__label {background-color: #d4ebff;}#sk-container-id-1 input.sk-hidden--visually {border: 0;clip: rect(1px 1px 1px 1px);clip: rect(1px, 1px, 1px, 1px);height: 1px;margin: -1px;overflow: hidden;padding: 0;position: absolute;width: 1px;}#sk-container-id-1 div.sk-estimator {font-family: monospace;background-color: #f0f8ff;border: 1px dotted black;border-radius: 0.25em;box-sizing: border-box;margin-bottom: 0.5em;}#sk-container-id-1 div.sk-estimator:hover {background-color: #d4ebff;}#sk-container-id-1 div.sk-parallel-item::after {content: \"\";width: 100%;border-bottom: 1px solid gray;flex-grow: 1;}#sk-container-id-1 div.sk-label:hover label.sk-toggleable__label {background-color: #d4ebff;}#sk-container-id-1 div.sk-serial::before {content: \"\";position: absolute;border-left: 1px solid gray;box-sizing: border-box;top: 0;bottom: 0;left: 50%;z-index: 0;}#sk-container-id-1 div.sk-serial {display: flex;flex-direction: column;align-items: center;background-color: white;padding-right: 0.2em;padding-left: 0.2em;position: relative;}#sk-container-id-1 div.sk-item {position: relative;z-index: 1;}#sk-container-id-1 div.sk-parallel {display: flex;align-items: stretch;justify-content: center;background-color: white;position: relative;}#sk-container-id-1 div.sk-item::before, #sk-container-id-1 div.sk-parallel-item::before {content: \"\";position: absolute;border-left: 1px solid gray;box-sizing: border-box;top: 0;bottom: 0;left: 50%;z-index: -1;}#sk-container-id-1 div.sk-parallel-item {display: flex;flex-direction: column;z-index: 1;position: relative;background-color: white;}#sk-container-id-1 div.sk-parallel-item:first-child::after {align-self: flex-end;width: 50%;}#sk-container-id-1 div.sk-parallel-item:last-child::after {align-self: flex-start;width: 50%;}#sk-container-id-1 div.sk-parallel-item:only-child::after {width: 0;}#sk-container-id-1 div.sk-dashed-wrapped {border: 1px dashed gray;margin: 0 0.4em 0.5em 0.4em;box-sizing: border-box;padding-bottom: 0.4em;background-color: white;}#sk-container-id-1 div.sk-label label {font-family: monospace;font-weight: bold;display: inline-block;line-height: 1.2em;}#sk-container-id-1 div.sk-label-container {text-align: center;}#sk-container-id-1 div.sk-container {/* jupyter's `normalize.less` sets `[hidden] { display: none; }` but bootstrap.min.css set `[hidden] { display: none !important; }` so we also need the `!important` here to be able to override the default hidden behavior on the sphinx rendered scikit-learn.org. See: https://github.com/scikit-learn/scikit-learn/issues/21755 */display: inline-block !important;position: relative;}#sk-container-id-1 div.sk-text-repr-fallback {display: none;}</style><div id=\"sk-container-id-1\" class=\"sk-top-container\"><div class=\"sk-text-repr-fallback\"><pre>LabelEncoder()</pre><b>In a Jupyter environment, please rerun this cell to show the HTML representation or trust the notebook. <br />On GitHub, the HTML representation is unable to render, please try loading this page with nbviewer.org.</b></div><div class=\"sk-container\" hidden><div class=\"sk-item\"><div class=\"sk-estimator sk-toggleable\"><input class=\"sk-toggleable__control sk-hidden--visually\" id=\"sk-estimator-id-1\" type=\"checkbox\" checked><label for=\"sk-estimator-id-1\" class=\"sk-toggleable__label sk-toggleable__label-arrow\">LabelEncoder</label><div class=\"sk-toggleable__content\"><pre>LabelEncoder()</pre></div></div></div></div></div>"
            ]
          },
          "metadata": {},
          "execution_count": 11
        }
      ]
    },
    {
      "cell_type": "code",
      "execution_count": 12,
      "id": "2b377084",
      "metadata": {
        "colab": {
          "base_uri": "https://localhost:8080/"
        },
        "id": "2b377084",
        "outputId": "54a04d27-4ec0-40ac-d935-ec2ec5bfdcdf"
      },
      "outputs": [
        {
          "output_type": "execute_result",
          "data": {
            "text/plain": [
              "['bruteforce', 'dos', 'flood', 'legitimate', 'malformed', 'slowite']"
            ]
          },
          "metadata": {},
          "execution_count": 12
        }
      ],
      "source": [
        "list(label.classes_)"
      ]
    },
    {
      "cell_type": "code",
      "source": [
        "y_train = label.transform(y_train)\n",
        "y_test = label.transform(y_test)"
      ],
      "metadata": {
        "id": "T-NZabzlGzVi"
      },
      "id": "T-NZabzlGzVi",
      "execution_count": 13,
      "outputs": []
    },
    {
      "cell_type": "code",
      "execution_count": 14,
      "id": "505c10f4",
      "metadata": {
        "colab": {
          "base_uri": "https://localhost:8080/"
        },
        "id": "505c10f4",
        "outputId": "5f7bd0d7-3944-4c5a-fe76-5439c8259b94"
      },
      "outputs": [
        {
          "output_type": "stream",
          "name": "stdout",
          "text": [
            "(3600174, 19)\n",
            "(1200413, 19)\n"
          ]
        }
      ],
      "source": [
        "# ajuste de dados\n",
        "\n",
        "# 'columns' sao as features com valores irrelevantes para o treinamento\n",
        "\n",
        "columns = ['mqtt.conack.flags.reserved', 'mqtt.conack.flags.sp', 'mqtt.conflag.qos',\n",
        "           'mqtt.conflag.reserved', 'mqtt.conflag.retain', 'mqtt.conflag.willflag',\n",
        "           'mqtt.retain', 'mqtt.sub.qos', 'mqtt.suback.qos', 'mqtt.willmsg', 'mqtt.willmsg_len',\n",
        "           'mqtt.willtopic', 'mqtt.willtopic_len', 'mqtt.msg']\n",
        "\n",
        "# features = features.drop(columns, axis=1)\n",
        "\n",
        "X_train = X_train.drop(columns, axis=1)\n",
        "X_test = X_test.drop(columns, axis=1)\n",
        "\n",
        "\n",
        "print(X_train.shape)\n",
        "print(X_test.shape)"
      ]
    },
    {
      "cell_type": "code",
      "execution_count": 15,
      "id": "ea6611a7",
      "metadata": {
        "colab": {
          "base_uri": "https://localhost:8080/"
        },
        "id": "ea6611a7",
        "outputId": "cb167124-b44a-496d-fbfe-bb984ac88878"
      },
      "outputs": [
        {
          "output_type": "stream",
          "name": "stdout",
          "text": [
            "(3600174, 44)\n",
            "(1200413, 44)\n"
          ]
        }
      ],
      "source": [
        "# ajuste de variáveis categóricas\n",
        "\n",
        "# features = pd.get_dummies(features)\n",
        "\n",
        "X_train = pd.get_dummies(X_train)\n",
        "X_test = pd.get_dummies(X_test)\n",
        "\n",
        "print(X_train.shape)\n",
        "print(X_test.shape)"
      ]
    },
    {
      "cell_type": "code",
      "execution_count": 16,
      "id": "99445dd0",
      "metadata": {
        "id": "99445dd0"
      },
      "outputs": [],
      "source": [
        "# 'col' sao as features categoricas com valores True/False\n",
        "\n",
        "col = ['tcp.flags_0x00000002',\n",
        "       'tcp.flags_0x00000004', 'tcp.flags_0x00000010', 'tcp.flags_0x00000011',\n",
        "       'tcp.flags_0x00000012', 'tcp.flags_0x00000014', 'tcp.flags_0x00000018',\n",
        "       'tcp.flags_0x00000019', 'mqtt.conack.flags_0',\n",
        "       'mqtt.conack.flags_0x00000000', 'mqtt.hdrflags_0',\n",
        "       'mqtt.hdrflags_0x00000010', 'mqtt.hdrflags_0x00000020',\n",
        "       'mqtt.hdrflags_0x00000030', 'mqtt.hdrflags_0x00000031',\n",
        "       'mqtt.hdrflags_0x00000032', 'mqtt.hdrflags_0x0000003a',\n",
        "       'mqtt.hdrflags_0x00000040', 'mqtt.hdrflags_0x00000050',\n",
        "       'mqtt.hdrflags_0x00000082', 'mqtt.hdrflags_0x00000090',\n",
        "       'mqtt.hdrflags_0x000000c0', 'mqtt.hdrflags_0x000000d0',\n",
        "       'mqtt.hdrflags_0x000000e0', 'mqtt.protoname_0', 'mqtt.protoname_MQTT']"
      ]
    },
    {
      "cell_type": "code",
      "execution_count": 17,
      "id": "5c1ec2ca",
      "metadata": {
        "id": "5c1ec2ca"
      },
      "outputs": [],
      "source": [
        "# substituicao dos valores True/False por 1/0 respectivamente\n",
        "\n",
        "# features[col] = features[col].replace({True: 1, False: 0})\n",
        "\n",
        "X_train[col] = X_train[col].replace({1: True, 0: False})\n",
        "X_test[col] = X_test[col].replace({1: True, 0: False})"
      ]
    },
    {
      "cell_type": "code",
      "execution_count": 18,
      "id": "c216e6ce",
      "metadata": {
        "colab": {
          "base_uri": "https://localhost:8080/"
        },
        "id": "c216e6ce",
        "outputId": "0ed990ef-5537-426b-8ba0-a7182307163d"
      },
      "outputs": [
        {
          "output_type": "stream",
          "name": "stdout",
          "text": [
            "<class 'numpy.ndarray'>\n",
            "<class 'numpy.ndarray'>\n"
          ]
        }
      ],
      "source": [
        "# features = features.values\n",
        "\n",
        "X_train = X_train.values\n",
        "X_test = X_test.values\n",
        "\n",
        "print(type(X_train))\n",
        "print(type(X_test))"
      ]
    },
    {
      "cell_type": "code",
      "execution_count": 19,
      "id": "ab42cfe8",
      "metadata": {
        "id": "ab42cfe8"
      },
      "outputs": [],
      "source": [
        "# embaralhamento de dados\n",
        "\n",
        "# from sklearn.model_selection import train_test_split"
      ]
    },
    {
      "cell_type": "code",
      "execution_count": 20,
      "id": "a666cecd",
      "metadata": {
        "id": "a666cecd"
      },
      "outputs": [],
      "source": [
        "# X_train, X_test, y_train, y_test = train_test_split(features, target, shuffle=True, random_state=0)"
      ]
    },
    {
      "cell_type": "code",
      "execution_count": 21,
      "id": "b26c2a9c",
      "metadata": {
        "id": "b26c2a9c"
      },
      "outputs": [],
      "source": [
        "# decision tree\n",
        "\n",
        "from sklearn.tree import DecisionTreeClassifier"
      ]
    },
    {
      "cell_type": "code",
      "execution_count": 22,
      "id": "33635491",
      "metadata": {
        "id": "33635491"
      },
      "outputs": [],
      "source": [
        "tree = DecisionTreeClassifier(criterion='gini', splitter='best', max_depth=None)"
      ]
    },
    {
      "cell_type": "code",
      "execution_count": 23,
      "id": "a226867a",
      "metadata": {
        "colab": {
          "base_uri": "https://localhost:8080/",
          "height": 75
        },
        "id": "a226867a",
        "outputId": "70483169-4a67-47f7-dfad-fc9682e871e4"
      },
      "outputs": [
        {
          "output_type": "execute_result",
          "data": {
            "text/plain": [
              "DecisionTreeClassifier()"
            ],
            "text/html": [
              "<style>#sk-container-id-2 {color: black;background-color: white;}#sk-container-id-2 pre{padding: 0;}#sk-container-id-2 div.sk-toggleable {background-color: white;}#sk-container-id-2 label.sk-toggleable__label {cursor: pointer;display: block;width: 100%;margin-bottom: 0;padding: 0.3em;box-sizing: border-box;text-align: center;}#sk-container-id-2 label.sk-toggleable__label-arrow:before {content: \"▸\";float: left;margin-right: 0.25em;color: #696969;}#sk-container-id-2 label.sk-toggleable__label-arrow:hover:before {color: black;}#sk-container-id-2 div.sk-estimator:hover label.sk-toggleable__label-arrow:before {color: black;}#sk-container-id-2 div.sk-toggleable__content {max-height: 0;max-width: 0;overflow: hidden;text-align: left;background-color: #f0f8ff;}#sk-container-id-2 div.sk-toggleable__content pre {margin: 0.2em;color: black;border-radius: 0.25em;background-color: #f0f8ff;}#sk-container-id-2 input.sk-toggleable__control:checked~div.sk-toggleable__content {max-height: 200px;max-width: 100%;overflow: auto;}#sk-container-id-2 input.sk-toggleable__control:checked~label.sk-toggleable__label-arrow:before {content: \"▾\";}#sk-container-id-2 div.sk-estimator input.sk-toggleable__control:checked~label.sk-toggleable__label {background-color: #d4ebff;}#sk-container-id-2 div.sk-label input.sk-toggleable__control:checked~label.sk-toggleable__label {background-color: #d4ebff;}#sk-container-id-2 input.sk-hidden--visually {border: 0;clip: rect(1px 1px 1px 1px);clip: rect(1px, 1px, 1px, 1px);height: 1px;margin: -1px;overflow: hidden;padding: 0;position: absolute;width: 1px;}#sk-container-id-2 div.sk-estimator {font-family: monospace;background-color: #f0f8ff;border: 1px dotted black;border-radius: 0.25em;box-sizing: border-box;margin-bottom: 0.5em;}#sk-container-id-2 div.sk-estimator:hover {background-color: #d4ebff;}#sk-container-id-2 div.sk-parallel-item::after {content: \"\";width: 100%;border-bottom: 1px solid gray;flex-grow: 1;}#sk-container-id-2 div.sk-label:hover label.sk-toggleable__label {background-color: #d4ebff;}#sk-container-id-2 div.sk-serial::before {content: \"\";position: absolute;border-left: 1px solid gray;box-sizing: border-box;top: 0;bottom: 0;left: 50%;z-index: 0;}#sk-container-id-2 div.sk-serial {display: flex;flex-direction: column;align-items: center;background-color: white;padding-right: 0.2em;padding-left: 0.2em;position: relative;}#sk-container-id-2 div.sk-item {position: relative;z-index: 1;}#sk-container-id-2 div.sk-parallel {display: flex;align-items: stretch;justify-content: center;background-color: white;position: relative;}#sk-container-id-2 div.sk-item::before, #sk-container-id-2 div.sk-parallel-item::before {content: \"\";position: absolute;border-left: 1px solid gray;box-sizing: border-box;top: 0;bottom: 0;left: 50%;z-index: -1;}#sk-container-id-2 div.sk-parallel-item {display: flex;flex-direction: column;z-index: 1;position: relative;background-color: white;}#sk-container-id-2 div.sk-parallel-item:first-child::after {align-self: flex-end;width: 50%;}#sk-container-id-2 div.sk-parallel-item:last-child::after {align-self: flex-start;width: 50%;}#sk-container-id-2 div.sk-parallel-item:only-child::after {width: 0;}#sk-container-id-2 div.sk-dashed-wrapped {border: 1px dashed gray;margin: 0 0.4em 0.5em 0.4em;box-sizing: border-box;padding-bottom: 0.4em;background-color: white;}#sk-container-id-2 div.sk-label label {font-family: monospace;font-weight: bold;display: inline-block;line-height: 1.2em;}#sk-container-id-2 div.sk-label-container {text-align: center;}#sk-container-id-2 div.sk-container {/* jupyter's `normalize.less` sets `[hidden] { display: none; }` but bootstrap.min.css set `[hidden] { display: none !important; }` so we also need the `!important` here to be able to override the default hidden behavior on the sphinx rendered scikit-learn.org. See: https://github.com/scikit-learn/scikit-learn/issues/21755 */display: inline-block !important;position: relative;}#sk-container-id-2 div.sk-text-repr-fallback {display: none;}</style><div id=\"sk-container-id-2\" class=\"sk-top-container\"><div class=\"sk-text-repr-fallback\"><pre>DecisionTreeClassifier()</pre><b>In a Jupyter environment, please rerun this cell to show the HTML representation or trust the notebook. <br />On GitHub, the HTML representation is unable to render, please try loading this page with nbviewer.org.</b></div><div class=\"sk-container\" hidden><div class=\"sk-item\"><div class=\"sk-estimator sk-toggleable\"><input class=\"sk-toggleable__control sk-hidden--visually\" id=\"sk-estimator-id-2\" type=\"checkbox\" checked><label for=\"sk-estimator-id-2\" class=\"sk-toggleable__label sk-toggleable__label-arrow\">DecisionTreeClassifier</label><div class=\"sk-toggleable__content\"><pre>DecisionTreeClassifier()</pre></div></div></div></div></div>"
            ]
          },
          "metadata": {},
          "execution_count": 23
        }
      ],
      "source": [
        "tree.fit(X_train, y_train)"
      ]
    },
    {
      "cell_type": "code",
      "execution_count": 24,
      "id": "58615958",
      "metadata": {
        "id": "58615958"
      },
      "outputs": [],
      "source": [
        "# predição de valores\n",
        "\n",
        "predict = tree.predict(X_test)"
      ]
    },
    {
      "cell_type": "code",
      "execution_count": 25,
      "id": "15647045",
      "metadata": {
        "colab": {
          "base_uri": "https://localhost:8080/"
        },
        "id": "15647045",
        "outputId": "2b84ac64-0de1-41c5-c777-3829b25b0764"
      },
      "outputs": [
        {
          "output_type": "stream",
          "name": "stdout",
          "text": [
            "              precision    recall  f1-score   support\n",
            "\n",
            "           0       0.82      0.78      0.80    199231\n",
            "           1       0.91      0.87      0.89    200454\n",
            "           2       0.83      0.87      0.85    200440\n",
            "           3       0.87      0.86      0.86    200000\n",
            "           4       0.88      0.71      0.79    200182\n",
            "           5       0.73      0.92      0.82    200106\n",
            "\n",
            "    accuracy                           0.83   1200413\n",
            "   macro avg       0.84      0.83      0.83   1200413\n",
            "weighted avg       0.84      0.83      0.83   1200413\n",
            "\n"
          ]
        }
      ],
      "source": [
        "# metrics\n",
        "\n",
        "from sklearn.metrics import classification_report\n",
        "\n",
        "\n",
        "print(classification_report(y_test, predict))"
      ]
    },
    {
      "cell_type": "code",
      "execution_count": 26,
      "id": "339ec0b8",
      "metadata": {
        "colab": {
          "base_uri": "https://localhost:8080/"
        },
        "id": "339ec0b8",
        "outputId": "328a779a-3295-432c-8fcf-d6f52de2d13b"
      },
      "outputs": [
        {
          "output_type": "stream",
          "name": "stdout",
          "text": [
            "Accuracy train: 0.8334236067478961\n",
            "Accuracy test: 0.8335647814543827\n"
          ]
        }
      ],
      "source": [
        "print(\"Accuracy train: {}\".format(tree.score(X_train, y_train)))\n",
        "print(\"Accuracy test: {}\".format(tree.score(X_test, y_test)))"
      ]
    },
    {
      "cell_type": "code",
      "execution_count": 27,
      "id": "24ea9356",
      "metadata": {
        "id": "24ea9356"
      },
      "outputs": [],
      "source": [
        "# confusion matrix\n",
        "\n",
        "from sklearn.metrics import confusion_matrix"
      ]
    },
    {
      "cell_type": "code",
      "execution_count": 28,
      "id": "d607d966",
      "metadata": {
        "id": "d607d966"
      },
      "outputs": [],
      "source": [
        "matrix = confusion_matrix(y_test, predict)"
      ]
    },
    {
      "cell_type": "code",
      "execution_count": 29,
      "id": "12de3972",
      "metadata": {
        "colab": {
          "base_uri": "https://localhost:8080/"
        },
        "id": "12de3972",
        "outputId": "363e9882-e703-489c-970a-054cdb557c6b"
      },
      "outputs": [
        {
          "output_type": "stream",
          "name": "stdout",
          "text": [
            "[[155000   8555    390     48  13997  21241]\n",
            " [  2594 174518   6567   6587   3279   6909]\n",
            " [     0    811 174057  19586    385   5601]\n",
            " [    19    739  15403 171469    139  12231]\n",
            " [ 30002   5088   1807    376 141701  21208]\n",
            " [   736   2232  11902     45   1314 183877]]\n"
          ]
        }
      ],
      "source": [
        "print(matrix)"
      ]
    },
    {
      "cell_type": "code",
      "execution_count": 30,
      "id": "5866bb39",
      "metadata": {
        "id": "5866bb39"
      },
      "outputs": [],
      "source": [
        "# display matrix\n",
        "\n",
        "import matplotlib.pyplot as plt\n",
        "from sklearn.metrics import ConfusionMatrixDisplay\n",
        "\n",
        "%matplotlib inline"
      ]
    },
    {
      "cell_type": "code",
      "execution_count": 31,
      "id": "7ef6a6a6",
      "metadata": {
        "colab": {
          "base_uri": "https://localhost:8080/",
          "height": 449
        },
        "id": "7ef6a6a6",
        "outputId": "0c2a78e3-1df0-459b-c38d-154bb9796ae0"
      },
      "outputs": [
        {
          "output_type": "display_data",
          "data": {
            "text/plain": [
              "<Figure size 640x480 with 2 Axes>"
            ],
            "image/png": "[encoded data removed]"
          },
          "metadata": {}
        }
      ],
      "source": [
        "cm = confusion_matrix(y_test, predict, labels=tree.classes_)\n",
        "disp = ConfusionMatrixDisplay(confusion_matrix=cm, display_labels=tree.classes_)\n",
        "\n",
        "disp.plot()\n",
        "plt.show()"
      ]
    }
  ],
  "metadata": {
    "kernelspec": {
      "display_name": "Python 3 (ipykernel)",
      "language": "python",
      "name": "python3"
    },
    "language_info": {
      "codemirror_mode": {
        "name": "ipython",
        "version": 3
      },
      "file_extension": ".py",
      "mimetype": "text/x-python",
      "name": "python",
      "nbconvert_exporter": "python",
      "pygments_lexer": "ipython3",
      "version": "3.11.7"
    },
    "colab": {
      "provenance": [],
      "include_colab_link": true
    }
  },
  "nbformat": 4,
  "nbformat_minor": 5
}