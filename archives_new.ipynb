{
 "cells": [
  {
   "cell_type": "code",
   "execution_count": 1,
   "id": "e3fbd576",
   "metadata": {},
   "outputs": [],
   "source": [
    "import numpy as np\n",
    "import pandas as pd"
   ]
  },
  {
   "cell_type": "code",
   "execution_count": 2,
   "id": "4ef16d64",
   "metadata": {},
   "outputs": [],
   "source": [
    "train70_augmented = pd.read_csv(\"train70_augmented.csv\")"
   ]
  },
  {
   "cell_type": "code",
   "execution_count": 3,
   "id": "3971a49c",
   "metadata": {},
   "outputs": [],
   "source": [
    "train70_augmented = pd.DataFrame(data)"
   ]
  },
  {
   "cell_type": "code",
   "execution_count": 4,
   "id": "f7ddefbe",
   "metadata": {},
   "outputs": [
    {
     "name": "stdout",
     "output_type": "stream",
     "text": [
      "(14000000, 34)\n"
     ]
    }
   ],
   "source": [
    "print(train70_augmented.shape)"
   ]
  },
  {
   "cell_type": "code",
   "execution_count": 5,
   "id": "46149759",
   "metadata": {},
   "outputs": [
    {
     "name": "stdout",
     "output_type": "stream",
     "text": [
      "target\n",
      "legitimate    7000000\n",
      "bruteforce    1400000\n",
      "flood         1400000\n",
      "slowite       1400000\n",
      "dos           1400000\n",
      "malformed     1400000\n",
      "Name: count, dtype: int64\n"
     ]
    }
   ],
   "source": [
    "print(train70_augmented['target'].value_counts())"
   ]
  },
  {
   "cell_type": "code",
   "execution_count": 7,
   "id": "74345d77",
   "metadata": {},
   "outputs": [
    {
     "name": "stderr",
     "output_type": "stream",
     "text": [
      "C:\\Users\\mathe\\AppData\\Local\\Temp\\ipykernel_16296\\943711885.py:1: DtypeWarning: Columns (3,14,19,23) have mixed types. Specify dtype option on import or set low_memory=False.\n",
      "  train70 = pd.read_csv(\"train70.csv\")\n"
     ]
    }
   ],
   "source": [
    "train70 = pd.read_csv(\"train70.csv\")"
   ]
  },
  {
   "cell_type": "code",
   "execution_count": 9,
   "id": "17259aef",
   "metadata": {},
   "outputs": [],
   "source": [
    "train70 = pd.DataFrame(train70)"
   ]
  },
  {
   "cell_type": "code",
   "execution_count": 10,
   "id": "d191aaa8",
   "metadata": {},
   "outputs": [
    {
     "name": "stdout",
     "output_type": "stream",
     "text": [
      "(8456823, 34)\n"
     ]
    }
   ],
   "source": [
    "print(train70.shape)"
   ]
  },
  {
   "cell_type": "code",
   "execution_count": 13,
   "id": "66e8e9f3",
   "metadata": {},
   "outputs": [
    {
     "name": "stdout",
     "output_type": "stream",
     "text": [
      "target\n",
      "legitimate    8341001\n",
      "dos             91156\n",
      "bruteforce      10150\n",
      "malformed        7646\n",
      "slowite          6441\n",
      "flood             429\n",
      "Name: count, dtype: int64\n"
     ]
    }
   ],
   "source": [
    "print(train70['target'].value_counts())"
   ]
  },
  {
   "cell_type": "code",
   "execution_count": null,
   "id": "ba17ff37",
   "metadata": {},
   "outputs": [],
   "source": []
  }
 ],
 "metadata": {
  "kernelspec": {
   "display_name": "Python 3 (ipykernel)",
   "language": "python",
   "name": "python3"
  },
  "language_info": {
   "codemirror_mode": {
    "name": "ipython",
    "version": 3
   },
   "file_extension": ".py",
   "mimetype": "text/x-python",
   "name": "python",
   "nbconvert_exporter": "python",
   "pygments_lexer": "ipython3",
   "version": "3.11.5"
  }
 },
 "nbformat": 4,
 "nbformat_minor": 5
}
