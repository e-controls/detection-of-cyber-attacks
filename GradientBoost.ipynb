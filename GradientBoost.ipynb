{
  "cells": [
    {
      "cell_type": "markdown",
      "metadata": {
        "id": "view-in-github",
        "colab_type": "text"
      },
      "source": [
        "<a href=\"https://colab.research.google.com/github/matheusfigueiredoo/detection-of-cyber-attacks/blob/main/GradientBoost.ipynb\" target=\"_parent\"><img src=\"https://colab.research.google.com/assets/colab-badge.svg\" alt=\"Open In Colab\"/></a>"
      ]
    },
    {
      "cell_type": "markdown",
      "id": "796ac486",
      "metadata": {
        "id": "796ac486"
      },
      "source": [
        "Decision Tree"
      ]
    },
    {
      "cell_type": "code",
      "execution_count": 1,
      "id": "e3fbd576",
      "metadata": {
        "id": "e3fbd576"
      },
      "outputs": [],
      "source": [
        "import numpy as np\n",
        "import pandas as pd\n",
        "import csv"
      ]
    },
    {
      "cell_type": "code",
      "source": [
        "from google.colab import drive\n",
        "drive.mount('/content/drive')"
      ],
      "metadata": {
        "colab": {
          "base_uri": "https://localhost:8080/"
        },
        "id": "PUWfj1kDEiSb",
        "outputId": "12d41d46-ea31-4715-b1c2-38c3cb49d510"
      },
      "id": "PUWfj1kDEiSb",
      "execution_count": 2,
      "outputs": [
        {
          "output_type": "stream",
          "name": "stdout",
          "text": [
            "Mounted at /content/drive\n"
          ]
        }
      ]
    },
    {
      "cell_type": "code",
      "execution_count": 3,
      "id": "4ef16d64",
      "metadata": {
        "id": "4ef16d64"
      },
      "outputs": [],
      "source": [
        "train = pd.read_csv(\"drive/MyDrive/MQTTset/train70_augmented.csv\", nrows=5000000)\n",
        "test = pd.read_csv(\"drive/MyDrive/MQTTset/test30_augmented.csv\", nrows=3000000)"
      ]
    },
    {
      "cell_type": "code",
      "execution_count": 4,
      "id": "3971a49c",
      "metadata": {
        "id": "3971a49c"
      },
      "outputs": [],
      "source": [
        "train = pd.DataFrame(train)\n",
        "test = pd.DataFrame(test)"
      ]
    },
    {
      "cell_type": "code",
      "execution_count": 5,
      "id": "66e8e9f3",
      "metadata": {
        "colab": {
          "base_uri": "https://localhost:8080/"
        },
        "id": "66e8e9f3",
        "outputId": "f6002c4a-9613-4db3-e5fb-f66994c10ec0"
      },
      "outputs": [
        {
          "output_type": "stream",
          "name": "stdout",
          "text": [
            "target\n",
            "legitimate    2499426\n",
            "malformed      500978\n",
            "bruteforce     500848\n",
            "slowite        500570\n",
            "flood          499314\n",
            "dos            498864\n",
            "Name: count, dtype: int64\n",
            "target\n",
            "legitimate    1499770\n",
            "dos            300558\n",
            "slowite        300371\n",
            "flood          300107\n",
            "malformed      299830\n",
            "bruteforce     299364\n",
            "Name: count, dtype: int64\n"
          ]
        }
      ],
      "source": [
        "# distribuição das targets\n",
        "\n",
        "print(train['target'].value_counts())\n",
        "print(test['target'].value_counts())"
      ]
    },
    {
      "cell_type": "code",
      "execution_count": 6,
      "id": "64f6bb86-474b-453b-96e2-3a564a94d2ca",
      "metadata": {
        "id": "64f6bb86-474b-453b-96e2-3a564a94d2ca"
      },
      "outputs": [],
      "source": [
        "'''\n",
        "'rows' e o vetor que sera usado para acumular as linhas que serao excluidas a fim de balancear\n",
        "as targets\n",
        "'''\n",
        "rows_train = []\n",
        "rows_test = []\n",
        "\n",
        "for i in train.index:\n",
        "    if train['target'][i] == 'legitimate':\n",
        "        rows_train.append(i)\n",
        "\n",
        "for i in test.index:\n",
        "    if test['target'][i] == 'legitimate':\n",
        "        rows_test.append(i)"
      ]
    },
    {
      "cell_type": "code",
      "execution_count": 7,
      "id": "c077adc6-77dd-4c59-ad5d-59542b85f595",
      "metadata": {
        "id": "c077adc6-77dd-4c59-ad5d-59542b85f595"
      },
      "outputs": [],
      "source": [
        "# aqui, e feita a leitura da diferenca para igualar os valores\n",
        "\n",
        "rows_train = rows_train[:1999426]\n",
        "rows_test = rows_test[:1199470]"
      ]
    },
    {
      "cell_type": "code",
      "execution_count": 8,
      "id": "4fe0c261-bf73-415a-a1a9-a074585f45a0",
      "metadata": {
        "id": "4fe0c261-bf73-415a-a1a9-a074585f45a0",
        "colab": {
          "base_uri": "https://localhost:8080/"
        },
        "outputId": "540f43fc-8513-4ed0-db8b-18bad2ac8330"
      },
      "outputs": [
        {
          "output_type": "stream",
          "name": "stdout",
          "text": [
            "Dados de treino:  target\n",
            "malformed     500978\n",
            "bruteforce    500848\n",
            "slowite       500570\n",
            "legitimate    500000\n",
            "flood         499314\n",
            "dos           498864\n",
            "Name: count, dtype: int64\n",
            "Dados de teste:  target\n",
            "dos           300558\n",
            "slowite       300371\n",
            "legitimate    300300\n",
            "flood         300107\n",
            "malformed     299830\n",
            "bruteforce    299364\n",
            "Name: count, dtype: int64\n"
          ]
        }
      ],
      "source": [
        "# atualizacao e igualacao dos valores\n",
        "\n",
        "train = train.drop(rows_train)\n",
        "test = test.drop(rows_test)\n",
        "\n",
        "print(\"Dados de treino: \", train['target'].value_counts())\n",
        "print(\"Dados de teste: \", test['target'].value_counts())"
      ]
    },
    {
      "cell_type": "code",
      "execution_count": 9,
      "id": "3df84781",
      "metadata": {
        "colab": {
          "base_uri": "https://localhost:8080/"
        },
        "id": "3df84781",
        "outputId": "93d00436-5aa4-4428-ffa9-c0f922f65f2c"
      },
      "outputs": [
        {
          "output_type": "stream",
          "name": "stdout",
          "text": [
            "(3000574, 33)\n",
            "(1800530, 33)\n"
          ]
        }
      ],
      "source": [
        "# pre processamento de dados\n",
        "# separacao de features e targets\n",
        "\n",
        "X_train = train.iloc[:,:-1]\n",
        "y_train = train['target']\n",
        "\n",
        "X_test = test.iloc[:,:-1]\n",
        "y_test = test['target']\n",
        "\n",
        "print(X_train.shape)\n",
        "print(X_test.shape)"
      ]
    },
    {
      "cell_type": "code",
      "execution_count": 10,
      "id": "94ba6123",
      "metadata": {
        "id": "94ba6123"
      },
      "outputs": [],
      "source": [
        "# transformacao de features e targets categoricas em numeros inteiros\n",
        "\n",
        "from sklearn.preprocessing import LabelEncoder\n",
        "label = LabelEncoder()"
      ]
    },
    {
      "cell_type": "code",
      "source": [
        "# features\n",
        "X_train['tcp.flags'] = label.fit_transform(X_train['tcp.flags'])\n",
        "X_train['mqtt.conack.flags'] = label.fit_transform(X_train['mqtt.conack.flags'])\n",
        "X_train['mqtt.hdrflags'] = label.fit_transform(X_train['mqtt.hdrflags'])\n",
        "X_train['mqtt.protoname'] = label.fit_transform(X_train['mqtt.protoname'])\n",
        "X_train['mqtt.msg'] = label.fit_transform(X_train['mqtt.msg'])\n",
        "X_train['mqtt.conflags'] = label.fit_transform(X_train['mqtt.conflags'])\n",
        "\n",
        "X_test['tcp.flags'] = label.fit_transform(X_test['tcp.flags'])\n",
        "X_test['mqtt.conack.flags'] = label.fit_transform(X_test['mqtt.conack.flags'])\n",
        "X_test['mqtt.hdrflags'] = label.fit_transform(X_test['mqtt.hdrflags'])\n",
        "X_test['mqtt.protoname'] = label.fit_transform(X_test['mqtt.protoname'])\n",
        "X_test['mqtt.msg'] = label.fit_transform(X_test['mqtt.msg'])\n",
        "X_test['mqtt.conflags'] = label.fit_transform(X_test['mqtt.conflags'])\n",
        "\n",
        "# targets\n",
        "label.fit(y_train)\n",
        "label.fit(y_test)\n",
        "y_train = label.transform(y_train)\n",
        "y_test = label.transform(y_test)"
      ],
      "metadata": {
        "id": "2afuT_CcUNNj"
      },
      "id": "2afuT_CcUNNj",
      "execution_count": 11,
      "outputs": []
    },
    {
      "cell_type": "code",
      "source": [
        "label.classes_"
      ],
      "metadata": {
        "colab": {
          "base_uri": "https://localhost:8080/"
        },
        "id": "oqNz69QuaMpP",
        "outputId": "d775389d-4300-47cf-ce16-c2bd7d2f0225"
      },
      "id": "oqNz69QuaMpP",
      "execution_count": 20,
      "outputs": [
        {
          "output_type": "execute_result",
          "data": {
            "text/plain": [
              "array(['bruteforce', 'dos', 'flood', 'legitimate', 'malformed', 'slowite'],\n",
              "      dtype=object)"
            ]
          },
          "metadata": {},
          "execution_count": 20
        }
      ]
    },
    {
      "cell_type": "code",
      "execution_count": 12,
      "id": "505c10f4",
      "metadata": {
        "colab": {
          "base_uri": "https://localhost:8080/"
        },
        "id": "505c10f4",
        "outputId": "384bad25-412f-4eee-e589-a1412fd5905c"
      },
      "outputs": [
        {
          "output_type": "stream",
          "name": "stdout",
          "text": [
            "(3000574, 20)\n",
            "(1800530, 20)\n"
          ]
        }
      ],
      "source": [
        "# ajuste de dados\n",
        "\n",
        "# columns_0 são as colunas com dados iguais a 0\n",
        "\n",
        "columns_0 = ['mqtt.conack.flags.reserved', 'mqtt.conack.flags.sp', 'mqtt.conflag.qos',\n",
        "           'mqtt.conflag.reserved', 'mqtt.conflag.retain', 'mqtt.conflag.willflag',\n",
        "           'mqtt.retain', 'mqtt.sub.qos', 'mqtt.suback.qos', 'mqtt.willmsg', 'mqtt.willmsg_len',\n",
        "           'mqtt.willtopic', 'mqtt.willtopic_len']\n",
        "\n",
        "X_train = X_train.drop(columns_0, axis=1)\n",
        "X_test = X_test.drop(columns_0, axis=1)\n",
        "\n",
        "\n",
        "print(X_train.shape)\n",
        "print(X_test.shape)"
      ]
    },
    {
      "cell_type": "code",
      "execution_count": 13,
      "id": "c216e6ce",
      "metadata": {
        "colab": {
          "base_uri": "https://localhost:8080/"
        },
        "id": "c216e6ce",
        "outputId": "45af8de5-2a1d-452b-90be-484cfd333ad9"
      },
      "outputs": [
        {
          "output_type": "stream",
          "name": "stdout",
          "text": [
            "<class 'numpy.ndarray'>\n",
            "<class 'numpy.ndarray'>\n"
          ]
        }
      ],
      "source": [
        "X_train = X_train.values\n",
        "X_test = X_test.values\n",
        "\n",
        "print(type(X_train))\n",
        "print(type(X_test))"
      ]
    },
    {
      "cell_type": "code",
      "source": [
        "# normalização dos dados\n",
        "# seleção de features\n",
        "\n",
        "# from sklearn.preprocessing import StandardScaler\n",
        "# from sklearn.decomposition import PCA\n",
        "\n",
        "# scaler = StandardScaler()\n",
        "\n",
        "# scaler.fit(X_train)\n",
        "# scaler.fit(X_test)\n",
        "\n",
        "# X_train = scaler.transform(X_train)\n",
        "# X_test = scaler.transform(X_test)\n",
        "\n",
        "# pca = PCA()\n",
        "\n",
        "# pca.fit(X_train)\n",
        "# pca.fit(X_test)\n",
        "\n",
        "# X_train = pca.transform(X_train)\n",
        "# X_test = pca.transform(X_test)"
      ],
      "metadata": {
        "id": "iWgTSTUWk7h8"
      },
      "id": "iWgTSTUWk7h8",
      "execution_count": 14,
      "outputs": []
    },
    {
      "cell_type": "code",
      "execution_count": 15,
      "id": "b26c2a9c",
      "metadata": {
        "id": "b26c2a9c",
        "colab": {
          "base_uri": "https://localhost:8080/"
        },
        "outputId": "4ea088f3-98b7-4d68-f030-d7cb6d0dd60c"
      },
      "outputs": [
        {
          "output_type": "stream",
          "name": "stdout",
          "text": [
            "Accuracy train: 0.8630628673047224\n",
            "Accuracy test: 0.8398665948359649\n"
          ]
        }
      ],
      "source": [
        "from sklearn.ensemble import GradientBoostingClassifier\n",
        "\n",
        "clf = GradientBoostingClassifier()\n",
        "\n",
        "clf.fit(X_train, y_train)\n",
        "\n",
        "print(\"Accuracy train: {}\".format(clf.score(X_train, y_train)))\n",
        "print(\"Accuracy test: {}\".format(clf.score(X_test, y_test)))"
      ]
    },
    {
      "cell_type": "code",
      "execution_count": 16,
      "id": "15647045",
      "metadata": {
        "colab": {
          "base_uri": "https://localhost:8080/"
        },
        "id": "15647045",
        "outputId": "4445d022-bfb2-48b9-aff4-5336628b4174"
      },
      "outputs": [
        {
          "output_type": "stream",
          "name": "stdout",
          "text": [
            "              precision    recall  f1-score   support\n",
            "\n",
            "           0       0.73      0.86      0.79    299364\n",
            "           1       0.90      0.88      0.89    300558\n",
            "           2       0.86      0.87      0.87    300107\n",
            "           3       0.82      0.77      0.80    300300\n",
            "           4       0.74      0.65      0.69    299830\n",
            "           5       1.00      1.00      1.00    300371\n",
            "\n",
            "    accuracy                           0.84   1800530\n",
            "   macro avg       0.84      0.84      0.84   1800530\n",
            "weighted avg       0.84      0.84      0.84   1800530\n",
            "\n"
          ]
        }
      ],
      "source": [
        "# metrics\n",
        "\n",
        "from sklearn.metrics import classification_report\n",
        "\n",
        "# predição de valores\n",
        "\n",
        "predict = clf.predict(X_test)\n",
        "print(classification_report(y_test, predict))"
      ]
    },
    {
      "cell_type": "code",
      "execution_count": 17,
      "id": "24ea9356",
      "metadata": {
        "id": "24ea9356",
        "colab": {
          "base_uri": "https://localhost:8080/"
        },
        "outputId": "e89074c8-6abd-4c0e-c008-bc52688a4eac"
      },
      "outputs": [
        {
          "output_type": "stream",
          "name": "stdout",
          "text": [
            "[[258704  13124    895    216  26425      0]\n",
            " [  5069 265426   8818  15945   5300      0]\n",
            " [   573   3602 262415  31741   1776      0]\n",
            " [    43   2727  30224 231660  35646      0]\n",
            " [ 92134   9380   2475   2212 193629      0]\n",
            " [     0      0      0      0      0 300371]]\n"
          ]
        }
      ],
      "source": [
        "# confusion matrix\n",
        "\n",
        "from sklearn.metrics import confusion_matrix\n",
        "\n",
        "matrix = confusion_matrix(y_test, predict)\n",
        "print(matrix)"
      ]
    },
    {
      "cell_type": "code",
      "execution_count": 18,
      "id": "5866bb39",
      "metadata": {
        "id": "5866bb39",
        "colab": {
          "base_uri": "https://localhost:8080/",
          "height": 454
        },
        "outputId": "abdae444-2ebd-4bcf-f6d8-855be3e0f1c5"
      },
      "outputs": [
        {
          "output_type": "display_data",
          "data": {
            "text/plain": [
              "<Figure size 640x480 with 2 Axes>"
            ],
            "image/png": "[encoded data removed]"
          },
          "metadata": {}
        }
      ],
      "source": [
        "# display matrix\n",
        "\n",
        "# 0 - bruteforce\n",
        "# 1 - dos\n",
        "# 2 - flood\n",
        "# 3 - legitimate\n",
        "# 4 - malformed\n",
        "# 5 - slowite\n",
        "\n",
        "\n",
        "import matplotlib.pyplot as plt\n",
        "from sklearn.metrics import ConfusionMatrixDisplay\n",
        "\n",
        "%matplotlib inline\n",
        "\n",
        "cm = confusion_matrix(y_test, predict, labels=clf.classes_)\n",
        "disp = ConfusionMatrixDisplay(confusion_matrix=cm, display_labels=clf.classes_)\n",
        "\n",
        "disp.plot()\n",
        "plt.show()"
      ]
    }
  ],
  "metadata": {
    "kernelspec": {
      "display_name": "Python 3 (ipykernel)",
      "language": "python",
      "name": "python3"
    },
    "language_info": {
      "codemirror_mode": {
        "name": "ipython",
        "version": 3
      },
      "file_extension": ".py",
      "mimetype": "text/x-python",
      "name": "python",
      "nbconvert_exporter": "python",
      "pygments_lexer": "ipython3",
      "version": "3.11.7"
    },
    "colab": {
      "provenance": [],
      "include_colab_link": true
    }
  },
  "nbformat": 4,
  "nbformat_minor": 5
}