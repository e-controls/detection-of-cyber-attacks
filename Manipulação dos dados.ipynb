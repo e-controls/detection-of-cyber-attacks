{
 "cells": [
  {
   "cell_type": "code",
   "execution_count": 1,
   "id": "985041ca",
   "metadata": {
    "scrolled": true
   },
   "outputs": [
    {
     "name": "stdout",
     "output_type": "stream",
     "text": [
      "(99290, 34)\n"
     ]
    }
   ],
   "source": [
    "import numpy as np\n",
    "import pandas as pd\n",
    "import csv\n",
    "\n",
    "file_csv = pd.read_csv(\"test30_reduced.csv\")\n",
    "\n",
    "print(file_csv.shape)"
   ]
  },
  {
   "cell_type": "markdown",
   "id": "a88ca499",
   "metadata": {},
   "source": [
    "Formatação dos campos e descrição"
   ]
  },
  {
   "cell_type": "code",
   "execution_count": 7,
   "id": "8f97171b",
   "metadata": {
    "scrolled": true
   },
   "outputs": [
    {
     "name": "stdout",
     "output_type": "stream",
     "text": [
      "['RST ACK' 'PSH ACK' 'SYN ACK' 'ACK' 'ZERO' 'SYN' 'RST' 'FIN ACK']\n"
     ]
    }
   ],
   "source": [
    "new_dataset_test30['tcp.flags'] = new_dataset_test30['tcp.flags'].astype()"
   ]
  },
  {
   "cell_type": "code",
   "execution_count": 8,
   "id": "87cde2eb",
   "metadata": {},
   "outputs": [],
   "source": [
    "for number, row in file_csv.iterrows():\n",
    "    if row['tcp.flags'] == \"0x00000010\":\n",
    "        file_csv.at[number, 'tcp.flags'] = \"ACK\"\n",
    "    elif row['tcp.flags'] == \"0x00000002\":\n",
    "        file_csv.at[number, 'tcp.flags'] = \"SYN\"\n",
    "    elif row['tcp.flags'] == \"0x00000012\":\n",
    "        file_csv.at[number, 'tcp.flags'] = \"SYN ACK\"\n",
    "    elif row['tcp.flags'] == \"0x00000011\":\n",
    "        file_csv.at[number, 'tcp.flags'] = \"FIN ACK\"\n",
    "    elif row['tcp.flags'] == \"0x00000004\":\n",
    "        file_csv.at[number, 'tcp.flags'] = \"RST\"\n",
    "    elif row['tcp.flags'] == \"0x00000014\":\n",
    "        file_csv.at[number, 'tcp.flags'] = \"RST ACK\"\n",
    "    elif row['tcp.flags'] == \"0x00000018\":\n",
    "        file_csv.at[number, 'tcp.flags'] = \"PSH ACK\"\n",
    "    elif row['tcp.flags'] == \"0x00000019\":\n",
    "        file_csv.at[number, 'tcp.flags'] = \"ZERO\""
   ]
  }
 ],
 "metadata": {
  "kernelspec": {
   "display_name": "Python 3 (ipykernel)",
   "language": "python",
   "name": "python3"
  },
  "language_info": {
   "codemirror_mode": {
    "name": "ipython",
    "version": 3
   },
   "file_extension": ".py",
   "mimetype": "text/x-python",
   "name": "python",
   "nbconvert_exporter": "python",
   "pygments_lexer": "ipython3",
   "version": "3.11.5"
  }
 },
 "nbformat": 4,
 "nbformat_minor": 5
}
