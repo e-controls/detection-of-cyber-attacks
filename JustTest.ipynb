{
  "nbformat": 4,
  "nbformat_minor": 0,
  "metadata": {
    "colab": {
      "provenance": [],
      "authorship_tag": "ABX9TyNwEMKSAbHLSpczAh7iy1zE",
      "include_colab_link": true
    },
    "kernelspec": {
      "name": "python3",
      "display_name": "Python 3"
    },
    "language_info": {
      "name": "python"
    }
  },
  "cells": [
    {
      "cell_type": "markdown",
      "metadata": {
        "id": "view-in-github",
        "colab_type": "text"
      },
      "source": [
        "<a href=\"https://colab.research.google.com/github/matheusfigueiredoo/detection-of-cyber-attacks/blob/main/JustTest.ipynb\" target=\"_parent\"><img src=\"https://colab.research.google.com/assets/colab-badge.svg\" alt=\"Open In Colab\"/></a>"
      ]
    },
    {
      "cell_type": "code",
      "execution_count": 1,
      "metadata": {
        "colab": {
          "base_uri": "https://localhost:8080/"
        },
        "id": "BIM834WQa41q",
        "outputId": "70c6b9d0-ac18-4121-fd4c-d46666612ea1"
      },
      "outputs": [
        {
          "output_type": "stream",
          "name": "stdout",
          "text": [
            "Just a test\n"
          ]
        }
      ],
      "source": [
        "print(\"Just a test\")"
      ]
    },
    {
      "cell_type": "markdown",
      "source": [
        "Just a test print"
      ],
      "metadata": {
        "id": "UTjhCXyCbOYV"
      }
    }
  ]
}