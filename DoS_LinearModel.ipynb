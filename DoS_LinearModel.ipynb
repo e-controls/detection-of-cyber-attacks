{
 "cells": [
  {
   "cell_type": "markdown",
   "id": "8fe3afda",
   "metadata": {},
   "source": [
    "Treinamento de algoritmos de classificação para o ataque DoS\n",
    "\n",
    "Matheus Figueiredo de Castro\n",
    "\n",
    "Universidade Federal do Amazonas\n",
    "\n",
    "Março, 2024"
   ]
  },
  {
   "cell_type": "code",
   "execution_count": 1,
   "id": "36afdabc",
   "metadata": {},
   "outputs": [],
   "source": [
    "import numpy as np\n",
    "import pandas as pd\n",
    "import csv\n",
    "import sklearn"
   ]
  },
  {
   "cell_type": "code",
   "execution_count": 2,
   "id": "c237035a",
   "metadata": {},
   "outputs": [],
   "source": [
    "training_data = pd.read_csv(\"train70_reduced.csv\", nrows=100000)\n",
    "testing_data = pd.read_csv(\"test30_reduced.csv\", nrows=100000)"
   ]
  },
  {
   "cell_type": "code",
   "execution_count": 3,
   "id": "b613890f",
   "metadata": {},
   "outputs": [],
   "source": [
    "training = pd.DataFrame(training_data)\n",
    "testing = pd.DataFrame(testing_data)"
   ]
  },
  {
   "cell_type": "code",
   "execution_count": 4,
   "id": "305e378d",
   "metadata": {},
   "outputs": [
    {
     "name": "stdout",
     "output_type": "stream",
     "text": [
      "Training target: ['0' '1']\n",
      "Testing target: ['0' '1']\n"
     ]
    }
   ],
   "source": [
    "# divisão em duas classes\n",
    "\n",
    "for index, row in training.iterrows():\n",
    "    if row['target'] == 'dos':\n",
    "        training.at[index, 'target'] = '1'\n",
    "    else:\n",
    "        training.at[index, 'target'] = '0'\n",
    "\n",
    "for index, row in testing.iterrows():\n",
    "    if row['target'] == 'dos':\n",
    "        testing.at[index, 'target'] = '1'\n",
    "    else:\n",
    "        testing.at[index, 'target'] = '0'\n",
    "        \n",
    "print(\"Training target: {}\".format(training['target'].unique()))\n",
    "print(\"Testing target: {}\".format(testing['target'].unique()))"
   ]
  },
  {
   "cell_type": "code",
   "execution_count": 5,
   "id": "2d94a643",
   "metadata": {},
   "outputs": [],
   "source": [
    "# para a feature TCP Flags\n",
    "\n",
    "# training\n",
    "for number, row in training.iterrows():                     # number represents de index of the column\n",
    "    if row['tcp.flags'] == \"0x00000010\":                # row represents the data of the row\n",
    "        training.at[number, 'tcp.flags'] = \"ACK\"            # the method at. update the row to the new value\n",
    "    elif row['tcp.flags'] == \"0x00000002\":\n",
    "        training.at[number, 'tcp.flags'] = \"SYN\"\n",
    "    elif row['tcp.flags'] == \"0x00000012\":\n",
    "        training.at[number, 'tcp.flags'] = \"SYN ACK\"\n",
    "    elif row['tcp.flags'] == \"0x00000011\":\n",
    "        training.at[number, 'tcp.flags'] = \"FIN ACK\"\n",
    "    elif row['tcp.flags'] == \"0x00000004\":\n",
    "        training.at[number, 'tcp.flags'] = \"RST\"\n",
    "    elif row['tcp.flags'] == \"0x00000014\":\n",
    "        training.at[number, 'tcp.flags'] = \"RST ACK\"\n",
    "    elif row['tcp.flags'] == \"0x00000018\":\n",
    "        training.at[number, 'tcp.flags'] = \"PSH ACK\"\n",
    "    elif row['tcp.flags'] == \"0x00000019\":\n",
    "        training.at[number, 'tcp.flags'] = \"ZERO\"\n",
    "        \n",
    "# testing\n",
    "for number, row in testing.iterrows():                     \n",
    "    if row['tcp.flags'] == \"0x00000010\":                \n",
    "        testing.at[number, 'tcp.flags'] = \"ACK\"            \n",
    "    elif row['tcp.flags'] == \"0x00000002\":\n",
    "        testing.at[number, 'tcp.flags'] = \"SYN\"\n",
    "    elif row['tcp.flags'] == \"0x00000012\":\n",
    "        testing.at[number, 'tcp.flags'] = \"SYN ACK\"\n",
    "    elif row['tcp.flags'] == \"0x00000011\":\n",
    "        testing.at[number, 'tcp.flags'] = \"FIN ACK\"\n",
    "    elif row['tcp.flags'] == \"0x00000004\":\n",
    "        testing.at[number, 'tcp.flags'] = \"RST\"\n",
    "    elif row['tcp.flags'] == \"0x00000014\":\n",
    "        testing.at[number, 'tcp.flags'] = \"RST ACK\"\n",
    "    elif row['tcp.flags'] == \"0x00000018\":\n",
    "        testing.at[number, 'tcp.flags'] = \"PSH ACK\"\n",
    "    elif row['tcp.flags'] == \"0x00000019\":\n",
    "        testing.at[number, 'tcp.flags'] = \"ZERO\""
   ]
  },
  {
   "cell_type": "code",
   "execution_count": 6,
   "id": "ee3f8e50",
   "metadata": {},
   "outputs": [],
   "source": [
    "# para a feature MQTT Flags\n",
    "\n",
    "# training\n",
    "for number, row in training.iterrows():                             # number represents de index of the column\n",
    "    if row['mqtt.hdrflags'] == \"0x00000030\":                        # row represents the data of the row\n",
    "        training.at[number, 'mqtt.hdrflags'] = \"110000\"             # the method at. update the row to the new value\n",
    "    elif row['mqtt.hdrflags'] == \"0x00000032\":\n",
    "        training.at[number, 'mqtt.hdrflags'] = \"110010\"\n",
    "    elif row['mqtt.hdrflags'] == \"0x00000040\":\n",
    "        training.at[number, 'mqtt.hdrflags'] = \"1000000\"\n",
    "    elif row['mqtt.hdrflags'] == \"0\":\n",
    "        training.at[number, 'mqtt.hdrflags'] = \"0\"\n",
    "    elif row['mqtt.hdrflags'] == \"0x00000020\":\n",
    "        training.at[number, 'mqtt.hdrflags'] = \"100000\"\n",
    "    elif row['mqtt.hdrflags'] == \"0x0000003a\":\n",
    "        training.at[number, 'mqtt.hdrflags'] = \"111010\"\n",
    "    elif row['mqtt.hdrflags'] == \"0x000000d0\":\n",
    "        training.at[number, 'mqtt.hdrflags'] = \"11010000\"\n",
    "    elif row['mqtt.hdrflags'] == \"0x000000c0\":\n",
    "        training.at[number, 'mqtt.hdrflags'] = \"11000000\"\n",
    "    elif row['mqtt.hdrflags'] == \"0x00000010\":\n",
    "        training.at[number, 'mqtt.hdrflags'] = \"10000\"\n",
    "    elif row['mqtt.hdrflags'] == \"0x00000090\":\n",
    "        training.at[number, 'mqtt.hdrflags'] = \"10010000\"\n",
    "    elif row['mqtt.hdrflags'] == \"0x00000031\":\n",
    "        training.at[number, 'mqtt.hdrflags'] = \"110001\"\n",
    "    elif row['mqtt.hdrflags'] == \"0x00000050\":\n",
    "        training.at[number, 'mqtt.hdrflags'] = \"1010000\"\n",
    "    elif row['mqtt.hdrflags'] == \"0x00000082\":\n",
    "        training.at[number, 'mqtt.hdrflags'] = \"10000010\"\n",
    "    elif row['mqtt.hdrflags'] == \"0x000000e0\":\n",
    "        training.at[number, 'mqtt.hdrflags'] = \"11100000\"\n",
    "        \n",
    "# testing\n",
    "for number, row in testing.iterrows():                             # number represents de index of the column\n",
    "    if row['mqtt.hdrflags'] == \"0x00000030\":                       # row represents the data of the row\n",
    "        testing.at[number, 'mqtt.hdrflags'] = \"110000\"             # the method at. update the row to the new value\n",
    "    elif row['mqtt.hdrflags'] == \"0x00000032\":\n",
    "        testing.at[number, 'mqtt.hdrflags'] = \"110010\"\n",
    "    elif row['mqtt.hdrflags'] == \"0x00000040\":\n",
    "        testing.at[number, 'mqtt.hdrflags'] = \"1000000\"\n",
    "    elif row['mqtt.hdrflags'] == \"0\":\n",
    "        testing.at[number, 'mqtt.hdrflags'] = \"0\"\n",
    "    elif row['mqtt.hdrflags'] == \"0x00000020\":\n",
    "        testing.at[number, 'mqtt.hdrflags'] = \"100000\"\n",
    "    elif row['mqtt.hdrflags'] == \"0x0000003a\":\n",
    "        testing.at[number, 'mqtt.hdrflags'] = \"111010\"\n",
    "    elif row['mqtt.hdrflags'] == \"0x000000d0\":\n",
    "        testing.at[number, 'mqtt.hdrflags'] = \"11010000\"\n",
    "    elif row['mqtt.hdrflags'] == \"0x000000c0\":\n",
    "        testing.at[number, 'mqtt.hdrflags'] = \"11000000\"\n",
    "    elif row['mqtt.hdrflags'] == \"0x00000010\":\n",
    "        testing.at[number, 'mqtt.hdrflags'] = \"10000\"\n",
    "    elif row['mqtt.hdrflags'] == \"0x00000090\":\n",
    "        testing.at[number, 'mqtt.hdrflags'] = \"10010000\"\n",
    "    elif row['mqtt.hdrflags'] == \"0x00000031\":\n",
    "        testing.at[number, 'mqtt.hdrflags'] = \"110001\"\n",
    "    elif row['mqtt.hdrflags'] == \"0x00000050\":\n",
    "        testing.at[number, 'mqtt.hdrflags'] = \"1010000\"\n",
    "    elif row['mqtt.hdrflags'] == \"0x00000082\":\n",
    "        testing.at[number, 'mqtt.hdrflags'] = \"10000010\"\n",
    "    elif row['mqtt.hdrflags'] == \"0x000000e0\":\n",
    "        testing.at[number, 'mqtt.hdrflags'] = \"11100000\""
   ]
  },
  {
   "cell_type": "code",
   "execution_count": 7,
   "id": "2beb696a",
   "metadata": {
    "scrolled": true
   },
   "outputs": [
    {
     "name": "stdout",
     "output_type": "stream",
     "text": [
      "(100000, 20)\n",
      "(99290, 20)\n"
     ]
    }
   ],
   "source": [
    "# remoção de features com valores 0\n",
    "\n",
    "training = training.drop(columns = ['mqtt.conack.flags.reserved', 'mqtt.conack.flags.sp', 'mqtt.conflag.qos', 'mqtt.conflag.reserved', 'mqtt.conflag.retain', \n",
    "             'mqtt.conflag.willflag', 'mqtt.retain', 'mqtt.sub.qos', 'mqtt.suback.qos', 'mqtt.willmsg', 'mqtt.willmsg_len', \n",
    "             'mqtt.willtopic', 'mqtt.willtopic_len', 'mqtt.msg'])\n",
    "\n",
    "testing = testing.drop(columns = ['mqtt.conack.flags.reserved', 'mqtt.conack.flags.sp', 'mqtt.conflag.qos', 'mqtt.conflag.reserved', 'mqtt.conflag.retain', \n",
    "             'mqtt.conflag.willflag', 'mqtt.retain', 'mqtt.sub.qos', 'mqtt.suback.qos', 'mqtt.willmsg', 'mqtt.willmsg_len', \n",
    "             'mqtt.willtopic', 'mqtt.willtopic_len', 'mqtt.msg'])\n",
    "\n",
    "print(training.shape)\n",
    "print(testing.shape)"
   ]
  },
  {
   "cell_type": "code",
   "execution_count": 8,
   "id": "084d34c8",
   "metadata": {},
   "outputs": [],
   "source": [
    "# ajuste das variaveis categoricas\n",
    "\n",
    "features_training = pd.get_dummies(training.iloc[:,:-1])\n",
    "target_training = training['target']\n",
    "\n",
    "features_testing = pd.get_dummies(testing.iloc[:,:-1])\n",
    "target_testing = testing['target']"
   ]
  },
  {
   "cell_type": "code",
   "execution_count": 9,
   "id": "b095edaf",
   "metadata": {},
   "outputs": [
    {
     "name": "stdout",
     "output_type": "stream",
     "text": [
      "<class 'pandas.core.frame.DataFrame'>\n"
     ]
    }
   ],
   "source": [
    "print(type(features_testing))"
   ]
  },
  {
   "cell_type": "code",
   "execution_count": 10,
   "id": "8f84d619",
   "metadata": {},
   "outputs": [],
   "source": [
    "col = ['tcp.flags_ACK', 'tcp.flags_FIN ACK', 'tcp.flags_PSH ACK', 'tcp.flags_RST', 'tcp.flags_RST ACK', 'tcp.flags_SYN', 'tcp.flags_SYN ACK', 'tcp.flags_ZERO', 'mqtt.conack.flags_0', 'mqtt.conack.flags_0x00000000', 'mqtt.conflags_0', 'mqtt.conflags_0x00000002', 'mqtt.conflags_0x000000c2', 'mqtt.hdrflags_0', 'mqtt.hdrflags_10000', 'mqtt.hdrflags_100000', 'mqtt.hdrflags_1000000', 'mqtt.hdrflags_10000010', 'mqtt.hdrflags_10010000', 'mqtt.hdrflags_1010000', 'mqtt.hdrflags_110000', 'mqtt.hdrflags_11000000', 'mqtt.hdrflags_110001', 'mqtt.hdrflags_110010', 'mqtt.hdrflags_11010000', 'mqtt.hdrflags_111010', 'mqtt.protoname_0', 'mqtt.protoname_MQTT']"
   ]
  },
  {
   "cell_type": "code",
   "execution_count": 11,
   "id": "948c2187",
   "metadata": {},
   "outputs": [],
   "source": [
    "# substituição das colunas com valores FALSE e TRUE por 0 e 1, respectivamente\n",
    "\n",
    "features_training[col] = features_training[col].replace({True: 1, False: 0})\n",
    "features_testing[col] = features_testing[col].replace({True: 1, False: 0})"
   ]
  },
  {
   "cell_type": "markdown",
   "id": "c0283959",
   "metadata": {},
   "source": [
    "Regressão linear"
   ]
  },
  {
   "cell_type": "code",
   "execution_count": 12,
   "id": "7708920f",
   "metadata": {},
   "outputs": [],
   "source": [
    "from sklearn.linear_model import LinearRegression\n",
    "from sklearn.model_selection import train_test_split"
   ]
  },
  {
   "cell_type": "code",
   "execution_count": 13,
   "id": "54d5c58a",
   "metadata": {},
   "outputs": [],
   "source": [
    "features_training = features_training.values\n",
    "features_testing = features_testing.values\n",
    "target_training = target_training.values\n",
    "target_testing = target_testing.values"
   ]
  },
  {
   "cell_type": "code",
   "execution_count": 14,
   "id": "6af541d5",
   "metadata": {},
   "outputs": [],
   "source": [
    "lr = LinearRegression()"
   ]
  },
  {
   "cell_type": "code",
   "execution_count": 15,
   "id": "ed916370",
   "metadata": {
    "scrolled": true
   },
   "outputs": [
    {
     "data": {
      "text/html": [
       "<style>#sk-container-id-1 {color: black;}#sk-container-id-1 pre{padding: 0;}#sk-container-id-1 div.sk-toggleable {background-color: white;}#sk-container-id-1 label.sk-toggleable__label {cursor: pointer;display: block;width: 100%;margin-bottom: 0;padding: 0.3em;box-sizing: border-box;text-align: center;}#sk-container-id-1 label.sk-toggleable__label-arrow:before {content: \"▸\";float: left;margin-right: 0.25em;color: #696969;}#sk-container-id-1 label.sk-toggleable__label-arrow:hover:before {color: black;}#sk-container-id-1 div.sk-estimator:hover label.sk-toggleable__label-arrow:before {color: black;}#sk-container-id-1 div.sk-toggleable__content {max-height: 0;max-width: 0;overflow: hidden;text-align: left;background-color: #f0f8ff;}#sk-container-id-1 div.sk-toggleable__content pre {margin: 0.2em;color: black;border-radius: 0.25em;background-color: #f0f8ff;}#sk-container-id-1 input.sk-toggleable__control:checked~div.sk-toggleable__content {max-height: 200px;max-width: 100%;overflow: auto;}#sk-container-id-1 input.sk-toggleable__control:checked~label.sk-toggleable__label-arrow:before {content: \"▾\";}#sk-container-id-1 div.sk-estimator input.sk-toggleable__control:checked~label.sk-toggleable__label {background-color: #d4ebff;}#sk-container-id-1 div.sk-label input.sk-toggleable__control:checked~label.sk-toggleable__label {background-color: #d4ebff;}#sk-container-id-1 input.sk-hidden--visually {border: 0;clip: rect(1px 1px 1px 1px);clip: rect(1px, 1px, 1px, 1px);height: 1px;margin: -1px;overflow: hidden;padding: 0;position: absolute;width: 1px;}#sk-container-id-1 div.sk-estimator {font-family: monospace;background-color: #f0f8ff;border: 1px dotted black;border-radius: 0.25em;box-sizing: border-box;margin-bottom: 0.5em;}#sk-container-id-1 div.sk-estimator:hover {background-color: #d4ebff;}#sk-container-id-1 div.sk-parallel-item::after {content: \"\";width: 100%;border-bottom: 1px solid gray;flex-grow: 1;}#sk-container-id-1 div.sk-label:hover label.sk-toggleable__label {background-color: #d4ebff;}#sk-container-id-1 div.sk-serial::before {content: \"\";position: absolute;border-left: 1px solid gray;box-sizing: border-box;top: 0;bottom: 0;left: 50%;z-index: 0;}#sk-container-id-1 div.sk-serial {display: flex;flex-direction: column;align-items: center;background-color: white;padding-right: 0.2em;padding-left: 0.2em;position: relative;}#sk-container-id-1 div.sk-item {position: relative;z-index: 1;}#sk-container-id-1 div.sk-parallel {display: flex;align-items: stretch;justify-content: center;background-color: white;position: relative;}#sk-container-id-1 div.sk-item::before, #sk-container-id-1 div.sk-parallel-item::before {content: \"\";position: absolute;border-left: 1px solid gray;box-sizing: border-box;top: 0;bottom: 0;left: 50%;z-index: -1;}#sk-container-id-1 div.sk-parallel-item {display: flex;flex-direction: column;z-index: 1;position: relative;background-color: white;}#sk-container-id-1 div.sk-parallel-item:first-child::after {align-self: flex-end;width: 50%;}#sk-container-id-1 div.sk-parallel-item:last-child::after {align-self: flex-start;width: 50%;}#sk-container-id-1 div.sk-parallel-item:only-child::after {width: 0;}#sk-container-id-1 div.sk-dashed-wrapped {border: 1px dashed gray;margin: 0 0.4em 0.5em 0.4em;box-sizing: border-box;padding-bottom: 0.4em;background-color: white;}#sk-container-id-1 div.sk-label label {font-family: monospace;font-weight: bold;display: inline-block;line-height: 1.2em;}#sk-container-id-1 div.sk-label-container {text-align: center;}#sk-container-id-1 div.sk-container {/* jupyter's `normalize.less` sets `[hidden] { display: none; }` but bootstrap.min.css set `[hidden] { display: none !important; }` so we also need the `!important` here to be able to override the default hidden behavior on the sphinx rendered scikit-learn.org. See: https://github.com/scikit-learn/scikit-learn/issues/21755 */display: inline-block !important;position: relative;}#sk-container-id-1 div.sk-text-repr-fallback {display: none;}</style><div id=\"sk-container-id-1\" class=\"sk-top-container\"><div class=\"sk-text-repr-fallback\"><pre>LinearRegression()</pre><b>In a Jupyter environment, please rerun this cell to show the HTML representation or trust the notebook. <br />On GitHub, the HTML representation is unable to render, please try loading this page with nbviewer.org.</b></div><div class=\"sk-container\" hidden><div class=\"sk-item\"><div class=\"sk-estimator sk-toggleable\"><input class=\"sk-toggleable__control sk-hidden--visually\" id=\"sk-estimator-id-1\" type=\"checkbox\" checked><label for=\"sk-estimator-id-1\" class=\"sk-toggleable__label sk-toggleable__label-arrow\">LinearRegression</label><div class=\"sk-toggleable__content\"><pre>LinearRegression()</pre></div></div></div></div></div>"
      ],
      "text/plain": [
       "LinearRegression()"
      ]
     },
     "execution_count": 15,
     "metadata": {},
     "output_type": "execute_result"
    }
   ],
   "source": [
    "lr.fit(features_training, target_training)"
   ]
  },
  {
   "cell_type": "code",
   "execution_count": 16,
   "id": "f2da4621",
   "metadata": {
    "scrolled": true
   },
   "outputs": [
    {
     "name": "stdout",
     "output_type": "stream",
     "text": [
      "lr coef: [ 6.01667066e-06 -1.57420344e-06 -3.73832121e-03 -8.83341707e-03\n",
      " -5.68858144e-03 -1.70926639e-02  1.39524646e-01 -5.61384144e-07\n",
      " -4.03954968e-06  1.76246578e-07 -3.30385679e-02 -3.53336683e-02\n",
      "  4.21016188e-01 -3.53336683e-02  2.11881762e-01 -1.19358413e-01\n",
      "  1.88290263e-01 -1.20160979e-01 -1.20161175e-01 -1.12979650e-01\n",
      " -1.15696710e-01  1.88184901e-01  1.01249660e-01 -1.01249660e-01\n",
      "  8.83341706e-03  8.25924684e-03 -1.14040825e-02 -5.68858145e-03\n",
      " -8.00808363e-02 -8.83341706e-03 -1.01249660e-01  7.41875215e-01\n",
      " -1.24175228e-01 -9.11652669e-02 -2.23326985e-01 -2.89240500e-01\n",
      "  7.85826684e-03 -2.93650229e-01  2.81491542e-01  4.09724522e-02\n",
      "  1.39524646e-01  8.83341706e-03 -8.83341706e-03]\n",
      "lr intercept: 0.08132532039810825\n"
     ]
    }
   ],
   "source": [
    "print(\"lr coef: {}\".format(lr.coef_))\n",
    "print(\"lr intercept: {}\".format(lr.intercept_))"
   ]
  },
  {
   "cell_type": "code",
   "execution_count": 17,
   "id": "1326bb6e",
   "metadata": {},
   "outputs": [
    {
     "name": "stdout",
     "output_type": "stream",
     "text": [
      "Training set score: 0.69\n",
      "Test set score: 0.19\n"
     ]
    }
   ],
   "source": [
    "print(\"Training set score: {:.2f}\".format(lr.score(features_training, target_training)))\n",
    "print(\"Test set score: {:.2f}\".format(lr.score(features_testing, target_testing)))"
   ]
  },
  {
   "cell_type": "code",
   "execution_count": 18,
   "id": "2dec433b",
   "metadata": {},
   "outputs": [],
   "source": [
    "# # Convertendo as listas de características em conjuntos (sets)\n",
    "# set_features_training = set(features_training)\n",
    "# set_features_testing = set(features_testing)\n",
    "\n",
    "# # Encontrando as características presentes apenas nos dados de treinamento\n",
    "# features_only_in_training = set_features_training - set_features_testing\n",
    "\n",
    "# # Encontrando as características presentes apenas nos dados de teste\n",
    "# features_only_in_testing = set_features_testing - set_features_training\n",
    "\n",
    "# # Imprimindo as características presentes apenas nos dados de treinamento\n",
    "# print(\"Características presentes apenas nos dados de treinamento:\")\n",
    "# print(features_only_in_training)\n",
    "\n",
    "# # Imprimindo as características presentes apenas nos dados de teste\n",
    "# print(\"Características presentes apenas nos dados de teste:\")\n",
    "# print(features_only_in_testing)"
   ]
  },
  {
   "cell_type": "code",
   "execution_count": 19,
   "id": "efc832d6",
   "metadata": {},
   "outputs": [],
   "source": [
    "# # # Outra forma de verificação \n",
    "\n",
    "# from sklearn.metrics import mean_squared_error\n",
    "\n",
    "# mean_squared_error(target_training, predict_training)\n",
    "\n",
    "# predict_test = lr.predict(features_testing)\n",
    "\n",
    "# mean_squared_error(target_testing, predict_test)"
   ]
  }
 ],
 "metadata": {
  "kernelspec": {
   "display_name": "Python 3 (ipykernel)",
   "language": "python",
   "name": "python3"
  },
  "language_info": {
   "codemirror_mode": {
    "name": "ipython",
    "version": 3
   },
   "file_extension": ".py",
   "mimetype": "text/x-python",
   "name": "python",
   "nbconvert_exporter": "python",
   "pygments_lexer": "ipython3",
   "version": "3.11.5"
  }
 },
 "nbformat": 4,
 "nbformat_minor": 5
}
