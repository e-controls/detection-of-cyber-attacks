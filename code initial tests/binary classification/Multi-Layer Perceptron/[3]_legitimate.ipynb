{
  "cells": [
    {
      "cell_type": "markdown",
      "metadata": {
        "id": "view-in-github",
        "colab_type": "text"
      },
      "source": [
        "<a href=\"https://colab.research.google.com/github/matheusfigueiredoo/detection-of-cyber-attacks/blob/main/%5B3%5D_legitimate.ipynb\" target=\"_parent\"><img src=\"https://colab.research.google.com/assets/colab-badge.svg\" alt=\"Open In Colab\"/></a>"
      ]
    },
    {
      "cell_type": "markdown",
      "metadata": {
        "id": "Ye_UQrcfY9VW"
      },
      "source": [
        "Multi-Layer Perceptron"
      ]
    },
    {
      "cell_type": "code",
      "execution_count": null,
      "metadata": {
        "id": "vcjOtAOpzufm"
      },
      "outputs": [],
      "source": [
        "import numpy as np\n",
        "import pandas as pd"
      ]
    },
    {
      "cell_type": "code",
      "execution_count": null,
      "metadata": {
        "id": "2fWJkRjW0BQD"
      },
      "outputs": [],
      "source": [
        "#from google.colab import drive\n",
        "#drive.mount('/content/drive')"
      ]
    },
    {
      "cell_type": "code",
      "execution_count": null,
      "metadata": {
        "id": "tAUrOSos0Fab"
      },
      "outputs": [],
      "source": [
        "#train = pd.read_csv(\"drive/MyDrive/MQTTset/train70_augmented.csv\", nrows=1000000)\n",
        "#test = pd.read_csv(\"drive/MyDrive/MQTTset/test30_augmented.csv\", nrows=200000)\n",
        "\n",
        "train = pd.read_csv(\"train70_augmented.csv\", nrows=5000000)"
      ]
    },
    {
      "cell_type": "code",
      "execution_count": null,
      "metadata": {
        "id": "mAAv8e9t0c5E"
      },
      "outputs": [],
      "source": [
        "train = pd.DataFrame(train)"
      ]
    },
    {
      "cell_type": "code",
      "execution_count": null,
      "metadata": {
        "colab": {
          "base_uri": "https://localhost:8080/"
        },
        "id": "BDszphU-0jkl",
        "outputId": "896efb13-1059-4045-f116-e69b1e1a82f1"
      },
      "outputs": [
        {
          "name": "stdout",
          "output_type": "stream",
          "text": [
            "Train: \n",
            " target\n",
            "legitimate    2499426\n",
            "malformed      500978\n",
            "bruteforce     500848\n",
            "slowite        500570\n",
            "flood          499314\n",
            "dos            498864\n",
            "Name: count, dtype: int64 \n",
            "\n"
          ]
        }
      ],
      "source": [
        "# distribuição das targets\n",
        "\n",
        "print(\"Train: \\n\", train['target'].value_counts(), \"\\n\")"
      ]
    },
    {
      "cell_type": "code",
      "execution_count": null,
      "metadata": {
        "id": "Rg5dJAyU0t0H",
        "outputId": "636ed151-db22-4e21-ad4f-e08c81eb9d13"
      },
      "outputs": [
        {
          "name": "stdout",
          "output_type": "stream",
          "text": [
            "Train: \n",
            " target\n",
            "malicious     2500574\n",
            "legitimate    2499426\n",
            "Name: count, dtype: int64 \n",
            "\n"
          ]
        }
      ],
      "source": [
        "# divisão de nomes das targets para legitimate e malicious\n",
        "\n",
        "for i in train.index:\n",
        "    if train['target'][i] != 'legitimate':\n",
        "        train.at[i, 'target'] = 'malicious'\n",
        "\n",
        "# nova distribuição das targets\n",
        "\n",
        "print(\"Train: \\n\", train['target'].value_counts(), \"\\n\")"
      ]
    },
    {
      "cell_type": "code",
      "execution_count": null,
      "metadata": {
        "colab": {
          "base_uri": "https://localhost:8080/"
        },
        "id": "bXxCg0AP8y4E",
        "outputId": "8b7a3554-b4ee-4311-8a99-162e060f8377"
      },
      "outputs": [
        {
          "name": "stdout",
          "output_type": "stream",
          "text": [
            "0    legitimate\n",
            "1     malicious\n",
            "2     malicious\n",
            "Name: target, dtype: object \n",
            "\n"
          ]
        }
      ],
      "source": [
        "# três primeiras linhas\n",
        "\n",
        "print(train['target'][:3], \"\\n\")"
      ]
    },
    {
      "cell_type": "code",
      "execution_count": null,
      "metadata": {
        "id": "uo3i-2lz01uQ"
      },
      "outputs": [],
      "source": [
        "# pre processamento de dados\n",
        "# separacao de features e targets\n",
        "\n",
        "from sklearn.model_selection import train_test_split\n",
        "\n",
        "# ajuste de features e targets\n",
        "\n",
        "features = train.iloc[:,:-1]\n",
        "target = train['target']"
      ]
    },
    {
      "cell_type": "code",
      "execution_count": null,
      "metadata": {
        "id": "8hMlKyYh04bX",
        "outputId": "c451eb40-46f1-4acd-9e4c-8ab1c2e3bc98"
      },
      "outputs": [
        {
          "data": {
            "text/plain": [
              "array([0, 1, 1, ..., 1, 0, 1])"
            ]
          },
          "execution_count": 9,
          "metadata": {},
          "output_type": "execute_result"
        }
      ],
      "source": [
        "# transformacao de targets categoricas em numeros inteiros\n",
        "\n",
        "from sklearn.preprocessing import LabelEncoder\n",
        "label = LabelEncoder()\n",
        "\n",
        "label.fit(target)\n",
        "label.transform(target)"
      ]
    },
    {
      "cell_type": "code",
      "execution_count": null,
      "metadata": {
        "colab": {
          "base_uri": "https://localhost:8080/"
        },
        "id": "H7qNys22A3jl",
        "outputId": "cb020496-331e-427f-b5bb-5be7bf0df5cc"
      },
      "outputs": [
        {
          "name": "stdout",
          "output_type": "stream",
          "text": [
            "(5000000, 44)\n"
          ]
        }
      ],
      "source": [
        "# ajuste de variáveis categóricas\n",
        "\n",
        "features = pd.get_dummies(features)\n",
        "\n",
        "print(features.shape)"
      ]
    },
    {
      "cell_type": "code",
      "execution_count": null,
      "metadata": {
        "id": "Kq4gmca9A9dB"
      },
      "outputs": [],
      "source": [
        "# 'col' sao as features categoricas com valores True/False\n",
        "\n",
        "col = ['tcp.flags_0x00000002',\n",
        "       'tcp.flags_0x00000004', 'tcp.flags_0x00000010', 'tcp.flags_0x00000011',\n",
        "       'tcp.flags_0x00000012', 'tcp.flags_0x00000014', 'tcp.flags_0x00000018',\n",
        "       'tcp.flags_0x00000019', 'mqtt.conack.flags_0',\n",
        "       'mqtt.conack.flags_0x00000000', 'mqtt.hdrflags_0',\n",
        "       'mqtt.hdrflags_0x00000010', 'mqtt.hdrflags_0x00000020',\n",
        "       'mqtt.hdrflags_0x00000030', 'mqtt.hdrflags_0x00000031',\n",
        "       'mqtt.hdrflags_0x00000032', 'mqtt.hdrflags_0x0000003a',\n",
        "       'mqtt.hdrflags_0x00000040', 'mqtt.hdrflags_0x00000050',\n",
        "       'mqtt.hdrflags_0x00000082', 'mqtt.hdrflags_0x00000090',\n",
        "       'mqtt.hdrflags_0x000000c0', 'mqtt.hdrflags_0x000000d0',\n",
        "       'mqtt.hdrflags_0x000000e0', 'mqtt.protoname_0', 'mqtt.protoname_MQTT']"
      ]
    },
    {
      "cell_type": "code",
      "execution_count": null,
      "metadata": {
        "id": "a9XvFOGVA_Q1"
      },
      "outputs": [],
      "source": [
        "# substituicao dos valores True/False por 1/0 respectivamente\n",
        "\n",
        "features[col] = features[col].replace({True: 1, False: 0})"
      ]
    },
    {
      "cell_type": "code",
      "execution_count": null,
      "metadata": {
        "id": "7nh9BdMDhjet"
      },
      "outputs": [],
      "source": [
        "from sklearn.model_selection import train_test_split\n",
        "\n",
        "X_train, X_test, y_train, y_test = train_test_split(features, target)"
      ]
    },
    {
      "cell_type": "code",
      "execution_count": null,
      "metadata": {
        "id": "MtA5L_VeBDu8"
      },
      "outputs": [],
      "source": [
        "X_train = X_train.values\n",
        "X_test = X_test.values"
      ]
    },
    {
      "cell_type": "code",
      "execution_count": null,
      "metadata": {
        "id": "vbiZ9uLKhjeu"
      },
      "outputs": [],
      "source": [
        "# normalização dos dados\n",
        "# seleção de features\n",
        "\n",
        "from sklearn.preprocessing import StandardScaler\n",
        "from sklearn.decomposition import PCA\n",
        "\n",
        "scaler = StandardScaler()\n",
        "\n",
        "scaler.fit(X_train)\n",
        "scaler.fit(X_test)\n",
        "\n",
        "X_train = scaler.transform(X_train)\n",
        "X_test = scaler.transform(X_test)\n",
        "\n",
        "pca = PCA(n_components=20)\n",
        "\n",
        "pca.fit(X_train)\n",
        "pca.fit(X_test)\n",
        "\n",
        "X_train = pca.transform(X_train)\n",
        "X_test = pca.transform(X_test)"
      ]
    },
    {
      "cell_type": "code",
      "execution_count": null,
      "metadata": {
        "id": "KcDXIYXKBHB9",
        "outputId": "e5020180-0607-4861-ebd8-5837246b63bc"
      },
      "outputs": [
        {
          "name": "stdout",
          "output_type": "stream",
          "text": [
            "Accuracy train: 0.806664\n",
            "Accuracy test: 0.8069864\n"
          ]
        }
      ],
      "source": [
        "# multi-layer perceptron\n",
        "\n",
        "from sklearn.neural_network import MLPClassifier\n",
        "\n",
        "clf = MLPClassifier(solver='adam', shuffle=True, random_state=0, alpha=0.00000001, hidden_layer_sizes=44)\n",
        "\n",
        "clf.fit(X_train, y_train)\n",
        "\n",
        "# predição de valores\n",
        "\n",
        "predict = clf.predict(X_test)\n",
        "\n",
        "print(\"Accuracy train: {}\".format(clf.score(X_train, y_train)))\n",
        "print(\"Accuracy test: {}\".format(clf.score(X_test, y_test)))"
      ]
    },
    {
      "cell_type": "code",
      "execution_count": null,
      "metadata": {
        "colab": {
          "background_save": true
        },
        "id": "HbrBwmauBhIa",
        "outputId": "25380e20-0de6-44a5-a619-5872e1fa93c1"
      },
      "outputs": [
        {
          "name": "stdout",
          "output_type": "stream",
          "text": [
            "              precision    recall  f1-score   support\n",
            "\n",
            "  legitimate       0.72      1.00      0.84    625548\n",
            "   malicious       1.00      0.61      0.76    624452\n",
            "\n",
            "    accuracy                           0.81   1250000\n",
            "   macro avg       0.86      0.81      0.80   1250000\n",
            "weighted avg       0.86      0.81      0.80   1250000\n",
            "\n"
          ]
        }
      ],
      "source": [
        "# metrics\n",
        "\n",
        "from sklearn.metrics import classification_report\n",
        "\n",
        "print(classification_report(y_test, predict))"
      ]
    },
    {
      "cell_type": "code",
      "execution_count": null,
      "metadata": {
        "colab": {
          "background_save": true
        },
        "id": "1QTBnyilBkPC",
        "outputId": "48664112-54e3-4cf9-c24e-ae998e7f4f74"
      },
      "outputs": [
        {
          "name": "stdout",
          "output_type": "stream",
          "text": [
            "[[625514     34]\n",
            " [241233 383219]]\n"
          ]
        }
      ],
      "source": [
        "# confusion matrix\n",
        "\n",
        "from sklearn.metrics import confusion_matrix\n",
        "\n",
        "matrix = confusion_matrix(y_test, predict)\n",
        "print(matrix)"
      ]
    },
    {
      "cell_type": "code",
      "execution_count": null,
      "metadata": {
        "colab": {
          "background_save": true
        },
        "id": "5VV3nW-iBuL4",
        "outputId": "e3010e36-5b98-47f4-bdc2-b3bdcc070513"
      },
      "outputs": [
        {
          "data": {
            "image/png": "[encoded data removed]",
            "text/plain": [
              "<Figure size 640x480 with 2 Axes>"
            ]
          },
          "metadata": {},
          "output_type": "display_data"
        }
      ],
      "source": [
        "# display matrix\n",
        "\n",
        "import matplotlib.pyplot as plt\n",
        "from sklearn.metrics import ConfusionMatrixDisplay\n",
        "%matplotlib inline\n",
        "\n",
        "cm = confusion_matrix(y_test, predict, labels=clf.classes_)\n",
        "disp = ConfusionMatrixDisplay(confusion_matrix=cm, display_labels=clf.classes_)\n",
        "\n",
        "disp.plot()\n",
        "plt.show()"
      ]
    }
  ],
  "metadata": {
    "accelerator": "TPU",
    "colab": {
      "gpuType": "V28",
      "provenance": [],
      "include_colab_link": true
    },
    "kernelspec": {
      "display_name": "Python 3 (ipykernel)",
      "language": "python",
      "name": "python3"
    },
    "language_info": {
      "codemirror_mode": {
        "name": "ipython",
        "version": 3
      },
      "file_extension": ".py",
      "mimetype": "text/x-python",
      "name": "python",
      "nbconvert_exporter": "python",
      "pygments_lexer": "ipython3",
      "version": "3.11.7"
    }
  },
  "nbformat": 4,
  "nbformat_minor": 0
}