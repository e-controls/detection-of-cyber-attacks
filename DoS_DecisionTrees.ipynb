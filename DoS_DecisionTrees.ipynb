{
 "cells": [
  {
   "cell_type": "code",
   "execution_count": 1,
   "id": "2e2c30c1",
   "metadata": {},
   "outputs": [],
   "source": [
    "import numpy as np\n",
    "import pandas as pd\n",
    "import csv\n",
    "from sklearn.tree import DecisionTreeClassifier"
   ]
  },
  {
   "cell_type": "code",
   "execution_count": 2,
   "id": "1e073391",
   "metadata": {},
   "outputs": [],
   "source": [
    "training_data = pd.read_csv(\"train70_reduced.csv\")\n",
    "testing_data = pd.read_csv(\"test30_reduced.csv\")"
   ]
  },
  {
   "cell_type": "code",
   "execution_count": 5,
   "id": "5c412e53",
   "metadata": {},
   "outputs": [],
   "source": [
    "training = pd.DataFrame(training_data)\n",
    "testing = pd.DataFrame(testing_data)"
   ]
  },
  {
   "cell_type": "code",
   "execution_count": 6,
   "id": "453d419f",
   "metadata": {},
   "outputs": [
    {
     "name": "stdout",
     "output_type": "stream",
     "text": [
      "Training target: ['0' '1']\n",
      "Testing target: ['0' '1']\n"
     ]
    }
   ],
   "source": [
    "# divisão em duas classes\n",
    "\n",
    "for index, row in training.iterrows():\n",
    "    if row['target'] == 'dos':\n",
    "        training.at[index, 'target'] = '1'\n",
    "    else:\n",
    "        training.at[index, 'target'] = '0'\n",
    "\n",
    "for index, row in testing.iterrows():\n",
    "    if row['target'] == 'dos':\n",
    "        testing.at[index, 'target'] = '1'\n",
    "    else:\n",
    "        testing.at[index, 'target'] = '0'\n",
    "        \n",
    "print(\"Training target: {}\".format(training['target'].unique()))\n",
    "print(\"Testing target: {}\".format(testing['target'].unique()))"
   ]
  },
  {
   "cell_type": "code",
   "execution_count": 7,
   "id": "eaeeabd2",
   "metadata": {},
   "outputs": [],
   "source": [
    "# para a feature TCP Flags\n",
    "\n",
    "# training\n",
    "for number, row in training.iterrows():                     # number represents de index of the column\n",
    "    if row['tcp.flags'] == \"0x00000010\":                # row represents the data of the row\n",
    "        training.at[number, 'tcp.flags'] = \"ACK\"            # the method at. update the row to the new value\n",
    "    elif row['tcp.flags'] == \"0x00000002\":\n",
    "        training.at[number, 'tcp.flags'] = \"SYN\"\n",
    "    elif row['tcp.flags'] == \"0x00000012\":\n",
    "        training.at[number, 'tcp.flags'] = \"SYN ACK\"\n",
    "    elif row['tcp.flags'] == \"0x00000011\":\n",
    "        training.at[number, 'tcp.flags'] = \"FIN ACK\"\n",
    "    elif row['tcp.flags'] == \"0x00000004\":\n",
    "        training.at[number, 'tcp.flags'] = \"RST\"\n",
    "    elif row['tcp.flags'] == \"0x00000014\":\n",
    "        training.at[number, 'tcp.flags'] = \"RST ACK\"\n",
    "    elif row['tcp.flags'] == \"0x00000018\":\n",
    "        training.at[number, 'tcp.flags'] = \"PSH ACK\"\n",
    "    elif row['tcp.flags'] == \"0x00000019\":\n",
    "        training.at[number, 'tcp.flags'] = \"ZERO\"\n",
    "        \n",
    "# testing\n",
    "for number, row in testing.iterrows():                     \n",
    "    if row['tcp.flags'] == \"0x00000010\":                \n",
    "        testing.at[number, 'tcp.flags'] = \"ACK\"            \n",
    "    elif row['tcp.flags'] == \"0x00000002\":\n",
    "        testing.at[number, 'tcp.flags'] = \"SYN\"\n",
    "    elif row['tcp.flags'] == \"0x00000012\":\n",
    "        testing.at[number, 'tcp.flags'] = \"SYN ACK\"\n",
    "    elif row['tcp.flags'] == \"0x00000011\":\n",
    "        testing.at[number, 'tcp.flags'] = \"FIN ACK\"\n",
    "    elif row['tcp.flags'] == \"0x00000004\":\n",
    "        testing.at[number, 'tcp.flags'] = \"RST\"\n",
    "    elif row['tcp.flags'] == \"0x00000014\":\n",
    "        testing.at[number, 'tcp.flags'] = \"RST ACK\"\n",
    "    elif row['tcp.flags'] == \"0x00000018\":\n",
    "        testing.at[number, 'tcp.flags'] = \"PSH ACK\"\n",
    "    elif row['tcp.flags'] == \"0x00000019\":\n",
    "        testing.at[number, 'tcp.flags'] = \"ZERO\""
   ]
  },
  {
   "cell_type": "code",
   "execution_count": 8,
   "id": "4a0d232f",
   "metadata": {},
   "outputs": [],
   "source": [
    "# para a feature MQTT Flags\n",
    "\n",
    "# training\n",
    "for number, row in training.iterrows():                             # number represents de index of the column\n",
    "    if row['mqtt.hdrflags'] == \"0x00000030\":                        # row represents the data of the row\n",
    "        training.at[number, 'mqtt.hdrflags'] = \"110000\"             # the method at. update the row to the new value\n",
    "    elif row['mqtt.hdrflags'] == \"0x00000032\":\n",
    "        training.at[number, 'mqtt.hdrflags'] = \"110010\"\n",
    "    elif row['mqtt.hdrflags'] == \"0x00000040\":\n",
    "        training.at[number, 'mqtt.hdrflags'] = \"1000000\"\n",
    "    elif row['mqtt.hdrflags'] == \"0\":\n",
    "        training.at[number, 'mqtt.hdrflags'] = \"0\"\n",
    "    elif row['mqtt.hdrflags'] == \"0x00000020\":\n",
    "        training.at[number, 'mqtt.hdrflags'] = \"100000\"\n",
    "    elif row['mqtt.hdrflags'] == \"0x0000003a\":\n",
    "        training.at[number, 'mqtt.hdrflags'] = \"111010\"\n",
    "    elif row['mqtt.hdrflags'] == \"0x000000d0\":\n",
    "        training.at[number, 'mqtt.hdrflags'] = \"11010000\"\n",
    "    elif row['mqtt.hdrflags'] == \"0x000000c0\":\n",
    "        training.at[number, 'mqtt.hdrflags'] = \"11000000\"\n",
    "    elif row['mqtt.hdrflags'] == \"0x00000010\":\n",
    "        training.at[number, 'mqtt.hdrflags'] = \"10000\"\n",
    "    elif row['mqtt.hdrflags'] == \"0x00000090\":\n",
    "        training.at[number, 'mqtt.hdrflags'] = \"10010000\"\n",
    "    elif row['mqtt.hdrflags'] == \"0x00000031\":\n",
    "        training.at[number, 'mqtt.hdrflags'] = \"110001\"\n",
    "    elif row['mqtt.hdrflags'] == \"0x00000050\":\n",
    "        training.at[number, 'mqtt.hdrflags'] = \"1010000\"\n",
    "    elif row['mqtt.hdrflags'] == \"0x00000082\":\n",
    "        training.at[number, 'mqtt.hdrflags'] = \"10000010\"\n",
    "    elif row['mqtt.hdrflags'] == \"0x000000e0\":\n",
    "        training.at[number, 'mqtt.hdrflags'] = \"11100000\"\n",
    "        \n",
    "# testing\n",
    "for number, row in testing.iterrows():                             # number represents de index of the column\n",
    "    if row['mqtt.hdrflags'] == \"0x00000030\":                       # row represents the data of the row\n",
    "        testing.at[number, 'mqtt.hdrflags'] = \"110000\"             # the method at. update the row to the new value\n",
    "    elif row['mqtt.hdrflags'] == \"0x00000032\":\n",
    "        testing.at[number, 'mqtt.hdrflags'] = \"110010\"\n",
    "    elif row['mqtt.hdrflags'] == \"0x00000040\":\n",
    "        testing.at[number, 'mqtt.hdrflags'] = \"1000000\"\n",
    "    elif row['mqtt.hdrflags'] == \"0\":\n",
    "        testing.at[number, 'mqtt.hdrflags'] = \"0\"\n",
    "    elif row['mqtt.hdrflags'] == \"0x00000020\":\n",
    "        testing.at[number, 'mqtt.hdrflags'] = \"100000\"\n",
    "    elif row['mqtt.hdrflags'] == \"0x0000003a\":\n",
    "        testing.at[number, 'mqtt.hdrflags'] = \"111010\"\n",
    "    elif row['mqtt.hdrflags'] == \"0x000000d0\":\n",
    "        testing.at[number, 'mqtt.hdrflags'] = \"11010000\"\n",
    "    elif row['mqtt.hdrflags'] == \"0x000000c0\":\n",
    "        testing.at[number, 'mqtt.hdrflags'] = \"11000000\"\n",
    "    elif row['mqtt.hdrflags'] == \"0x00000010\":\n",
    "        testing.at[number, 'mqtt.hdrflags'] = \"10000\"\n",
    "    elif row['mqtt.hdrflags'] == \"0x00000090\":\n",
    "        testing.at[number, 'mqtt.hdrflags'] = \"10010000\"\n",
    "    elif row['mqtt.hdrflags'] == \"0x00000031\":\n",
    "        testing.at[number, 'mqtt.hdrflags'] = \"110001\"\n",
    "    elif row['mqtt.hdrflags'] == \"0x00000050\":\n",
    "        testing.at[number, 'mqtt.hdrflags'] = \"1010000\"\n",
    "    elif row['mqtt.hdrflags'] == \"0x00000082\":\n",
    "        testing.at[number, 'mqtt.hdrflags'] = \"10000010\"\n",
    "    elif row['mqtt.hdrflags'] == \"0x000000e0\":\n",
    "        testing.at[number, 'mqtt.hdrflags'] = \"11100000\""
   ]
  },
  {
   "cell_type": "code",
   "execution_count": 9,
   "id": "84af2093",
   "metadata": {},
   "outputs": [
    {
     "name": "stdout",
     "output_type": "stream",
     "text": [
      "(231646, 20)\n",
      "(99290, 20)\n"
     ]
    }
   ],
   "source": [
    "# remoção de features com valores 0\n",
    "\n",
    "training = training.drop(columns = ['mqtt.conack.flags.reserved', 'mqtt.conack.flags.sp', 'mqtt.conflag.qos', 'mqtt.conflag.reserved', 'mqtt.conflag.retain', \n",
    "             'mqtt.conflag.willflag', 'mqtt.retain', 'mqtt.sub.qos', 'mqtt.suback.qos', 'mqtt.willmsg', 'mqtt.willmsg_len', \n",
    "             'mqtt.willtopic', 'mqtt.willtopic_len', 'mqtt.msg'])\n",
    "\n",
    "testing = testing.drop(columns = ['mqtt.conack.flags.reserved', 'mqtt.conack.flags.sp', 'mqtt.conflag.qos', 'mqtt.conflag.reserved', 'mqtt.conflag.retain', \n",
    "             'mqtt.conflag.willflag', 'mqtt.retain', 'mqtt.sub.qos', 'mqtt.suback.qos', 'mqtt.willmsg', 'mqtt.willmsg_len', \n",
    "             'mqtt.willtopic', 'mqtt.willtopic_len', 'mqtt.msg'])\n",
    "\n",
    "print(training.shape)\n",
    "print(testing.shape)"
   ]
  },
  {
   "cell_type": "code",
   "execution_count": 13,
   "id": "b1744522",
   "metadata": {},
   "outputs": [
    {
     "name": "stdout",
     "output_type": "stream",
     "text": [
      "Training: ['110000' '110010' '1000000' '0' '100000' '111010' '11010000' '11000000'\n",
      " '10000' '10010000' '110001' '1010000' '10000010' '11100000']\n",
      "Testing: ['0' '111010' '110000' '110010' '1000000' '10000' '100000' '11000000'\n",
      " '10000010' '11010000' '10010000' '11100000' '110001' '1010000']\n"
     ]
    }
   ],
   "source": [
    "print(\"Training: {}\".format(training['mqtt.hdrflags'].unique()))\n",
    "print(\"Testing: {}\".format(testing['mqtt.hdrflags'].unique()))"
   ]
  },
  {
   "cell_type": "code",
   "execution_count": 14,
   "id": "5c434f7a",
   "metadata": {},
   "outputs": [
    {
     "name": "stdout",
     "output_type": "stream",
     "text": [
      "Training: ['PSH ACK' 'ACK' 'RST' 'SYN ACK' 'SYN' 'FIN ACK' 'ZERO' 'RST ACK']\n",
      "Testing: ['RST ACK' 'PSH ACK' 'SYN ACK' 'ACK' 'ZERO' 'SYN' 'RST' 'FIN ACK']\n"
     ]
    }
   ],
   "source": [
    "print(\"Training: {}\".format(training['tcp.flags'].unique()))\n",
    "print(\"Testing: {}\".format(testing['tcp.flags'].unique()))"
   ]
  },
  {
   "cell_type": "code",
   "execution_count": 15,
   "id": "d5d55e75",
   "metadata": {},
   "outputs": [],
   "source": [
    "# ajuste das variaveis categoricas\n",
    "\n",
    "features_training = pd.get_dummies(training.iloc[:,:-1])\n",
    "target_training = training['target']\n",
    "\n",
    "features_testing = pd.get_dummies(testing.iloc[:,:-1])\n",
    "target_testing = testing['target']"
   ]
  },
  {
   "cell_type": "code",
   "execution_count": 19,
   "id": "10e2151c",
   "metadata": {},
   "outputs": [
    {
     "name": "stdout",
     "output_type": "stream",
     "text": [
      "(231646, 44)\n",
      "(99290, 43)\n",
      "(231646,)\n",
      "(99290,)\n"
     ]
    }
   ],
   "source": [
    "print(features_training.shape)\n",
    "print(features_testing.shape)\n",
    "print(target_training.shape)\n",
    "print(target_testing.shape)"
   ]
  },
  {
   "cell_type": "code",
   "execution_count": 21,
   "id": "8da37bcf",
   "metadata": {},
   "outputs": [
    {
     "name": "stdout",
     "output_type": "stream",
     "text": [
      "Training keys: Index(['tcp.time_delta', 'tcp.len', 'mqtt.conack.val',\n",
      "       'mqtt.conflag.cleansess', 'mqtt.conflag.passwd', 'mqtt.conflag.uname',\n",
      "       'mqtt.dupflag', 'mqtt.kalive', 'mqtt.len', 'mqtt.msgid', 'mqtt.msgtype',\n",
      "       'mqtt.proto_len', 'mqtt.qos', 'mqtt.ver', 'tcp.flags_ACK',\n",
      "       'tcp.flags_FIN ACK', 'tcp.flags_PSH ACK', 'tcp.flags_RST',\n",
      "       'tcp.flags_RST ACK', 'tcp.flags_SYN', 'tcp.flags_SYN ACK',\n",
      "       'tcp.flags_ZERO', 'mqtt.conack.flags_0', 'mqtt.conack.flags_0x00000000',\n",
      "       'mqtt.conflags_0', 'mqtt.conflags_0x00000002',\n",
      "       'mqtt.conflags_0x00000082', 'mqtt.conflags_0x000000c2',\n",
      "       'mqtt.hdrflags_0', 'mqtt.hdrflags_10000', 'mqtt.hdrflags_100000',\n",
      "       'mqtt.hdrflags_1000000', 'mqtt.hdrflags_10000010',\n",
      "       'mqtt.hdrflags_10010000', 'mqtt.hdrflags_1010000',\n",
      "       'mqtt.hdrflags_110000', 'mqtt.hdrflags_11000000',\n",
      "       'mqtt.hdrflags_110001', 'mqtt.hdrflags_110010',\n",
      "       'mqtt.hdrflags_11010000', 'mqtt.hdrflags_11100000',\n",
      "       'mqtt.hdrflags_111010', 'mqtt.protoname_0', 'mqtt.protoname_MQTT'],\n",
      "      dtype='object')\n"
     ]
    }
   ],
   "source": [
    "print(\"Training keys: {}\".format(features_training.keys()))"
   ]
  },
  {
   "cell_type": "code",
   "execution_count": 22,
   "id": "84a2600b",
   "metadata": {},
   "outputs": [
    {
     "name": "stdout",
     "output_type": "stream",
     "text": [
      "Testing keys: Index(['tcp.time_delta', 'tcp.len', 'mqtt.conack.val',\n",
      "       'mqtt.conflag.cleansess', 'mqtt.conflag.passwd', 'mqtt.conflag.uname',\n",
      "       'mqtt.dupflag', 'mqtt.kalive', 'mqtt.len', 'mqtt.msgid', 'mqtt.msgtype',\n",
      "       'mqtt.proto_len', 'mqtt.qos', 'mqtt.ver', 'tcp.flags_ACK',\n",
      "       'tcp.flags_FIN ACK', 'tcp.flags_PSH ACK', 'tcp.flags_RST',\n",
      "       'tcp.flags_RST ACK', 'tcp.flags_SYN', 'tcp.flags_SYN ACK',\n",
      "       'tcp.flags_ZERO', 'mqtt.conack.flags_0', 'mqtt.conack.flags_0x00000000',\n",
      "       'mqtt.conflags_0', 'mqtt.conflags_0x00000002',\n",
      "       'mqtt.conflags_0x000000c2', 'mqtt.hdrflags_0', 'mqtt.hdrflags_10000',\n",
      "       'mqtt.hdrflags_100000', 'mqtt.hdrflags_1000000',\n",
      "       'mqtt.hdrflags_10000010', 'mqtt.hdrflags_10010000',\n",
      "       'mqtt.hdrflags_1010000', 'mqtt.hdrflags_110000',\n",
      "       'mqtt.hdrflags_11000000', 'mqtt.hdrflags_110001',\n",
      "       'mqtt.hdrflags_110010', 'mqtt.hdrflags_11010000',\n",
      "       'mqtt.hdrflags_11100000', 'mqtt.hdrflags_111010', 'mqtt.protoname_0',\n",
      "       'mqtt.protoname_MQTT'],\n",
      "      dtype='object')\n"
     ]
    }
   ],
   "source": [
    "print(\"Testing keys: {}\".format(features_testing.keys()))"
   ]
  },
  {
   "cell_type": "code",
   "execution_count": 20,
   "id": "65aa3ed1",
   "metadata": {},
   "outputs": [
    {
     "name": "stdout",
     "output_type": "stream",
     "text": [
      "Características presentes apenas nos dados de treinamento:\n",
      "{'mqtt.conflags_0x00000082'}\n",
      "Características presentes apenas nos dados de teste:\n",
      "set()\n"
     ]
    }
   ],
   "source": [
    "set_features_training = set(features_training)\n",
    "set_features_testing = set(features_testing)\n",
    "\n",
    "features_only_in_training = set_features_training - set_features_testing\n",
    "\n",
    "features_only_in_testing = set_features_testing - set_features_training\n",
    "\n",
    "print(\"Características presentes apenas nos dados de treinamento:\")\n",
    "print(features_only_in_training)\n",
    "\n",
    "print(\"Características presentes apenas nos dados de teste:\")\n",
    "print(features_only_in_testing)"
   ]
  },
  {
   "cell_type": "code",
   "execution_count": 23,
   "id": "e1c10168",
   "metadata": {},
   "outputs": [],
   "source": [
    "features_training = features_training.drop(columns = ['mqtt.conflags_0', 'mqtt.conflags_0x00000002', 'mqtt.conflags_0x00000082', 'mqtt.conflags_0x000000c2'])\n",
    "\n",
    "features_testing = features_testing.drop(columns = ['mqtt.conflags_0', 'mqtt.conflags_0x00000002','mqtt.conflags_0x000000c2'])"
   ]
  },
  {
   "cell_type": "code",
   "execution_count": 24,
   "id": "42be665e",
   "metadata": {},
   "outputs": [
    {
     "name": "stdout",
     "output_type": "stream",
     "text": [
      "(231646, 40)\n",
      "(99290, 40)\n"
     ]
    }
   ],
   "source": [
    "print(features_training.shape)\n",
    "print(features_testing.shape)"
   ]
  },
  {
   "cell_type": "code",
   "execution_count": 28,
   "id": "29d1a367",
   "metadata": {},
   "outputs": [],
   "source": [
    "col = ['tcp.flags_ACK', 'tcp.flags_FIN ACK', 'tcp.flags_PSH ACK', 'tcp.flags_RST', 'tcp.flags_RST ACK', 'tcp.flags_SYN', 'tcp.flags_SYN ACK', 'tcp.flags_ZERO', 'mqtt.conack.flags_0', 'mqtt.conack.flags_0x00000000', 'mqtt.hdrflags_0', 'mqtt.hdrflags_10000', 'mqtt.hdrflags_100000', 'mqtt.hdrflags_1000000', 'mqtt.hdrflags_10000010', 'mqtt.hdrflags_10010000', 'mqtt.hdrflags_1010000', 'mqtt.hdrflags_110000', 'mqtt.hdrflags_11000000', 'mqtt.hdrflags_110001', 'mqtt.hdrflags_110010', 'mqtt.hdrflags_11010000', 'mqtt.hdrflags_111010', 'mqtt.protoname_0', 'mqtt.protoname_MQTT']"
   ]
  },
  {
   "cell_type": "code",
   "execution_count": 29,
   "id": "174494ba",
   "metadata": {},
   "outputs": [],
   "source": [
    "# substituição das colunas com valores FALSE e TRUE por 0 e 1, respectivamente\n",
    "\n",
    "features_training[col] = features_training[col].replace({True: 1, False: 0})\n",
    "features_testing[col] = features_testing[col].replace({True: 1, False: 0})"
   ]
  },
  {
   "cell_type": "code",
   "execution_count": 30,
   "id": "865413a8",
   "metadata": {},
   "outputs": [],
   "source": [
    "features_training = features_training.values\n",
    "features_testing = features_testing.values\n",
    "target_training = target_training.values\n",
    "target_testing = target_testing.values"
   ]
  },
  {
   "cell_type": "markdown",
   "id": "0dd3e53a",
   "metadata": {},
   "source": [
    "Decision Tree Classifier"
   ]
  },
  {
   "cell_type": "code",
   "execution_count": 31,
   "id": "c449d64c",
   "metadata": {},
   "outputs": [
    {
     "data": {
      "text/html": [
       "<style>#sk-container-id-1 {color: black;}#sk-container-id-1 pre{padding: 0;}#sk-container-id-1 div.sk-toggleable {background-color: white;}#sk-container-id-1 label.sk-toggleable__label {cursor: pointer;display: block;width: 100%;margin-bottom: 0;padding: 0.3em;box-sizing: border-box;text-align: center;}#sk-container-id-1 label.sk-toggleable__label-arrow:before {content: \"▸\";float: left;margin-right: 0.25em;color: #696969;}#sk-container-id-1 label.sk-toggleable__label-arrow:hover:before {color: black;}#sk-container-id-1 div.sk-estimator:hover label.sk-toggleable__label-arrow:before {color: black;}#sk-container-id-1 div.sk-toggleable__content {max-height: 0;max-width: 0;overflow: hidden;text-align: left;background-color: #f0f8ff;}#sk-container-id-1 div.sk-toggleable__content pre {margin: 0.2em;color: black;border-radius: 0.25em;background-color: #f0f8ff;}#sk-container-id-1 input.sk-toggleable__control:checked~div.sk-toggleable__content {max-height: 200px;max-width: 100%;overflow: auto;}#sk-container-id-1 input.sk-toggleable__control:checked~label.sk-toggleable__label-arrow:before {content: \"▾\";}#sk-container-id-1 div.sk-estimator input.sk-toggleable__control:checked~label.sk-toggleable__label {background-color: #d4ebff;}#sk-container-id-1 div.sk-label input.sk-toggleable__control:checked~label.sk-toggleable__label {background-color: #d4ebff;}#sk-container-id-1 input.sk-hidden--visually {border: 0;clip: rect(1px 1px 1px 1px);clip: rect(1px, 1px, 1px, 1px);height: 1px;margin: -1px;overflow: hidden;padding: 0;position: absolute;width: 1px;}#sk-container-id-1 div.sk-estimator {font-family: monospace;background-color: #f0f8ff;border: 1px dotted black;border-radius: 0.25em;box-sizing: border-box;margin-bottom: 0.5em;}#sk-container-id-1 div.sk-estimator:hover {background-color: #d4ebff;}#sk-container-id-1 div.sk-parallel-item::after {content: \"\";width: 100%;border-bottom: 1px solid gray;flex-grow: 1;}#sk-container-id-1 div.sk-label:hover label.sk-toggleable__label {background-color: #d4ebff;}#sk-container-id-1 div.sk-serial::before {content: \"\";position: absolute;border-left: 1px solid gray;box-sizing: border-box;top: 0;bottom: 0;left: 50%;z-index: 0;}#sk-container-id-1 div.sk-serial {display: flex;flex-direction: column;align-items: center;background-color: white;padding-right: 0.2em;padding-left: 0.2em;position: relative;}#sk-container-id-1 div.sk-item {position: relative;z-index: 1;}#sk-container-id-1 div.sk-parallel {display: flex;align-items: stretch;justify-content: center;background-color: white;position: relative;}#sk-container-id-1 div.sk-item::before, #sk-container-id-1 div.sk-parallel-item::before {content: \"\";position: absolute;border-left: 1px solid gray;box-sizing: border-box;top: 0;bottom: 0;left: 50%;z-index: -1;}#sk-container-id-1 div.sk-parallel-item {display: flex;flex-direction: column;z-index: 1;position: relative;background-color: white;}#sk-container-id-1 div.sk-parallel-item:first-child::after {align-self: flex-end;width: 50%;}#sk-container-id-1 div.sk-parallel-item:last-child::after {align-self: flex-start;width: 50%;}#sk-container-id-1 div.sk-parallel-item:only-child::after {width: 0;}#sk-container-id-1 div.sk-dashed-wrapped {border: 1px dashed gray;margin: 0 0.4em 0.5em 0.4em;box-sizing: border-box;padding-bottom: 0.4em;background-color: white;}#sk-container-id-1 div.sk-label label {font-family: monospace;font-weight: bold;display: inline-block;line-height: 1.2em;}#sk-container-id-1 div.sk-label-container {text-align: center;}#sk-container-id-1 div.sk-container {/* jupyter's `normalize.less` sets `[hidden] { display: none; }` but bootstrap.min.css set `[hidden] { display: none !important; }` so we also need the `!important` here to be able to override the default hidden behavior on the sphinx rendered scikit-learn.org. See: https://github.com/scikit-learn/scikit-learn/issues/21755 */display: inline-block !important;position: relative;}#sk-container-id-1 div.sk-text-repr-fallback {display: none;}</style><div id=\"sk-container-id-1\" class=\"sk-top-container\"><div class=\"sk-text-repr-fallback\"><pre>DecisionTreeClassifier(random_state=0)</pre><b>In a Jupyter environment, please rerun this cell to show the HTML representation or trust the notebook. <br />On GitHub, the HTML representation is unable to render, please try loading this page with nbviewer.org.</b></div><div class=\"sk-container\" hidden><div class=\"sk-item\"><div class=\"sk-estimator sk-toggleable\"><input class=\"sk-toggleable__control sk-hidden--visually\" id=\"sk-estimator-id-1\" type=\"checkbox\" checked><label for=\"sk-estimator-id-1\" class=\"sk-toggleable__label sk-toggleable__label-arrow\">DecisionTreeClassifier</label><div class=\"sk-toggleable__content\"><pre>DecisionTreeClassifier(random_state=0)</pre></div></div></div></div></div>"
      ],
      "text/plain": [
       "DecisionTreeClassifier(random_state=0)"
      ]
     },
     "execution_count": 31,
     "metadata": {},
     "output_type": "execute_result"
    }
   ],
   "source": [
    "tree = DecisionTreeClassifier(random_state=0)\n",
    "tree.fit(features_training, target_training)"
   ]
  },
  {
   "cell_type": "code",
   "execution_count": 32,
   "id": "bc27a3e6",
   "metadata": {},
   "outputs": [
    {
     "name": "stdout",
     "output_type": "stream",
     "text": [
      "Accuracy: 0.9536836379648257\n",
      "Accuracy: 0.947235371135059\n"
     ]
    }
   ],
   "source": [
    "print(\"Accuracy: {}\".format(tree.score(features_training, target_training)))\n",
    "print(\"Accuracy: {}\".format(tree.score(features_testing, target_testing)))"
   ]
  },
  {
   "cell_type": "code",
   "execution_count": 33,
   "id": "3eb3d95e",
   "metadata": {},
   "outputs": [],
   "source": [
    "predict = tree.predict(features_testing)"
   ]
  },
  {
   "cell_type": "code",
   "execution_count": 34,
   "id": "bbe60553",
   "metadata": {},
   "outputs": [],
   "source": [
    "from sklearn.metrics import confusion_matrix\n",
    "\n",
    "conf_matrix = confusion_matrix(target_testing, predict)"
   ]
  },
  {
   "cell_type": "code",
   "execution_count": 35,
   "id": "d2ff5888",
   "metadata": {},
   "outputs": [
    {
     "name": "stdout",
     "output_type": "stream",
     "text": [
      "Matriz de Confusão:\n",
      "[[58585  1628]\n",
      " [ 3611 35466]]\n"
     ]
    }
   ],
   "source": [
    "print(\"Matriz de Confusão:\")\n",
    "print(conf_matrix)"
   ]
  },
  {
   "cell_type": "code",
   "execution_count": 36,
   "id": "ad077131",
   "metadata": {},
   "outputs": [],
   "source": [
    "import matplotlib.pyplot as plt\n",
    "from sklearn.metrics import ConfusionMatrixDisplay\n",
    "%matplotlib inline"
   ]
  },
  {
   "cell_type": "code",
   "execution_count": 37,
   "id": "a92859a5",
   "metadata": {
    "scrolled": false
   },
   "outputs": [
    {
     "ename": "ValueError",
     "evalue": "The number of FixedLocator locations (2), usually from a call to set_ticks, does not match the number of labels (231646).",
     "output_type": "error",
     "traceback": [
      "\u001b[1;31m---------------------------------------------------------------------------\u001b[0m",
      "\u001b[1;31mValueError\u001b[0m                                Traceback (most recent call last)",
      "Cell \u001b[1;32mIn[37], line 6\u001b[0m\n\u001b[0;32m      1\u001b[0m titles_options \u001b[38;5;241m=\u001b[39m [\n\u001b[0;32m      2\u001b[0m     (\u001b[38;5;124m\"\u001b[39m\u001b[38;5;124mConfusion matrix, without normalization\u001b[39m\u001b[38;5;124m\"\u001b[39m, \u001b[38;5;28;01mNone\u001b[39;00m),\n\u001b[0;32m      3\u001b[0m     (\u001b[38;5;124m\"\u001b[39m\u001b[38;5;124mNormalized confusion matrix\u001b[39m\u001b[38;5;124m\"\u001b[39m, \u001b[38;5;124m\"\u001b[39m\u001b[38;5;124mtrue\u001b[39m\u001b[38;5;124m\"\u001b[39m),\n\u001b[0;32m      4\u001b[0m ]\n\u001b[0;32m      5\u001b[0m \u001b[38;5;28;01mfor\u001b[39;00m title, normalize \u001b[38;5;129;01min\u001b[39;00m titles_options:\n\u001b[1;32m----> 6\u001b[0m     disp \u001b[38;5;241m=\u001b[39m ConfusionMatrixDisplay\u001b[38;5;241m.\u001b[39mfrom_estimator(\n\u001b[0;32m      7\u001b[0m         tree,\n\u001b[0;32m      8\u001b[0m         features_testing,\n\u001b[0;32m      9\u001b[0m         target_testing,\n\u001b[0;32m     10\u001b[0m         display_labels\u001b[38;5;241m=\u001b[39mtraining_data[\u001b[38;5;124m'\u001b[39m\u001b[38;5;124mtarget\u001b[39m\u001b[38;5;124m'\u001b[39m],\n\u001b[0;32m     11\u001b[0m         cmap\u001b[38;5;241m=\u001b[39mplt\u001b[38;5;241m.\u001b[39mcm\u001b[38;5;241m.\u001b[39mBlues,\n\u001b[0;32m     12\u001b[0m         normalize\u001b[38;5;241m=\u001b[39mnormalize,\n\u001b[0;32m     13\u001b[0m     )\n\u001b[0;32m     14\u001b[0m     disp\u001b[38;5;241m.\u001b[39max_\u001b[38;5;241m.\u001b[39mset_title(title)\n\u001b[0;32m     16\u001b[0m     \u001b[38;5;28mprint\u001b[39m(title)\n",
      "File \u001b[1;32m~\\anaconda3\\Lib\\site-packages\\sklearn\\metrics\\_plot\\confusion_matrix.py:322\u001b[0m, in \u001b[0;36mConfusionMatrixDisplay.from_estimator\u001b[1;34m(cls, estimator, X, y, labels, sample_weight, normalize, display_labels, include_values, xticks_rotation, values_format, cmap, ax, colorbar, im_kw, text_kw)\u001b[0m\n\u001b[0;32m    319\u001b[0m     \u001b[38;5;28;01mraise\u001b[39;00m \u001b[38;5;167;01mValueError\u001b[39;00m(\u001b[38;5;124mf\u001b[39m\u001b[38;5;124m\"\u001b[39m\u001b[38;5;132;01m{\u001b[39;00mmethod_name\u001b[38;5;132;01m}\u001b[39;00m\u001b[38;5;124m only supports classifiers\u001b[39m\u001b[38;5;124m\"\u001b[39m)\n\u001b[0;32m    320\u001b[0m y_pred \u001b[38;5;241m=\u001b[39m estimator\u001b[38;5;241m.\u001b[39mpredict(X)\n\u001b[1;32m--> 322\u001b[0m \u001b[38;5;28;01mreturn\u001b[39;00m \u001b[38;5;28mcls\u001b[39m\u001b[38;5;241m.\u001b[39mfrom_predictions(\n\u001b[0;32m    323\u001b[0m     y,\n\u001b[0;32m    324\u001b[0m     y_pred,\n\u001b[0;32m    325\u001b[0m     sample_weight\u001b[38;5;241m=\u001b[39msample_weight,\n\u001b[0;32m    326\u001b[0m     labels\u001b[38;5;241m=\u001b[39mlabels,\n\u001b[0;32m    327\u001b[0m     normalize\u001b[38;5;241m=\u001b[39mnormalize,\n\u001b[0;32m    328\u001b[0m     display_labels\u001b[38;5;241m=\u001b[39mdisplay_labels,\n\u001b[0;32m    329\u001b[0m     include_values\u001b[38;5;241m=\u001b[39minclude_values,\n\u001b[0;32m    330\u001b[0m     cmap\u001b[38;5;241m=\u001b[39mcmap,\n\u001b[0;32m    331\u001b[0m     ax\u001b[38;5;241m=\u001b[39max,\n\u001b[0;32m    332\u001b[0m     xticks_rotation\u001b[38;5;241m=\u001b[39mxticks_rotation,\n\u001b[0;32m    333\u001b[0m     values_format\u001b[38;5;241m=\u001b[39mvalues_format,\n\u001b[0;32m    334\u001b[0m     colorbar\u001b[38;5;241m=\u001b[39mcolorbar,\n\u001b[0;32m    335\u001b[0m     im_kw\u001b[38;5;241m=\u001b[39mim_kw,\n\u001b[0;32m    336\u001b[0m     text_kw\u001b[38;5;241m=\u001b[39mtext_kw,\n\u001b[0;32m    337\u001b[0m )\n",
      "File \u001b[1;32m~\\anaconda3\\Lib\\site-packages\\sklearn\\metrics\\_plot\\confusion_matrix.py:473\u001b[0m, in \u001b[0;36mConfusionMatrixDisplay.from_predictions\u001b[1;34m(cls, y_true, y_pred, labels, sample_weight, normalize, display_labels, include_values, xticks_rotation, values_format, cmap, ax, colorbar, im_kw, text_kw)\u001b[0m\n\u001b[0;32m    463\u001b[0m cm \u001b[38;5;241m=\u001b[39m confusion_matrix(\n\u001b[0;32m    464\u001b[0m     y_true,\n\u001b[0;32m    465\u001b[0m     y_pred,\n\u001b[1;32m   (...)\u001b[0m\n\u001b[0;32m    468\u001b[0m     normalize\u001b[38;5;241m=\u001b[39mnormalize,\n\u001b[0;32m    469\u001b[0m )\n\u001b[0;32m    471\u001b[0m disp \u001b[38;5;241m=\u001b[39m \u001b[38;5;28mcls\u001b[39m(confusion_matrix\u001b[38;5;241m=\u001b[39mcm, display_labels\u001b[38;5;241m=\u001b[39mdisplay_labels)\n\u001b[1;32m--> 473\u001b[0m \u001b[38;5;28;01mreturn\u001b[39;00m disp\u001b[38;5;241m.\u001b[39mplot(\n\u001b[0;32m    474\u001b[0m     include_values\u001b[38;5;241m=\u001b[39minclude_values,\n\u001b[0;32m    475\u001b[0m     cmap\u001b[38;5;241m=\u001b[39mcmap,\n\u001b[0;32m    476\u001b[0m     ax\u001b[38;5;241m=\u001b[39max,\n\u001b[0;32m    477\u001b[0m     xticks_rotation\u001b[38;5;241m=\u001b[39mxticks_rotation,\n\u001b[0;32m    478\u001b[0m     values_format\u001b[38;5;241m=\u001b[39mvalues_format,\n\u001b[0;32m    479\u001b[0m     colorbar\u001b[38;5;241m=\u001b[39mcolorbar,\n\u001b[0;32m    480\u001b[0m     im_kw\u001b[38;5;241m=\u001b[39mim_kw,\n\u001b[0;32m    481\u001b[0m     text_kw\u001b[38;5;241m=\u001b[39mtext_kw,\n\u001b[0;32m    482\u001b[0m )\n",
      "File \u001b[1;32m~\\anaconda3\\Lib\\site-packages\\sklearn\\metrics\\_plot\\confusion_matrix.py:181\u001b[0m, in \u001b[0;36mConfusionMatrixDisplay.plot\u001b[1;34m(self, include_values, cmap, xticks_rotation, values_format, ax, colorbar, im_kw, text_kw)\u001b[0m\n\u001b[0;32m    179\u001b[0m \u001b[38;5;28;01mif\u001b[39;00m colorbar:\n\u001b[0;32m    180\u001b[0m     fig\u001b[38;5;241m.\u001b[39mcolorbar(\u001b[38;5;28mself\u001b[39m\u001b[38;5;241m.\u001b[39mim_, ax\u001b[38;5;241m=\u001b[39max)\n\u001b[1;32m--> 181\u001b[0m ax\u001b[38;5;241m.\u001b[39mset(\n\u001b[0;32m    182\u001b[0m     xticks\u001b[38;5;241m=\u001b[39mnp\u001b[38;5;241m.\u001b[39marange(n_classes),\n\u001b[0;32m    183\u001b[0m     yticks\u001b[38;5;241m=\u001b[39mnp\u001b[38;5;241m.\u001b[39marange(n_classes),\n\u001b[0;32m    184\u001b[0m     xticklabels\u001b[38;5;241m=\u001b[39mdisplay_labels,\n\u001b[0;32m    185\u001b[0m     yticklabels\u001b[38;5;241m=\u001b[39mdisplay_labels,\n\u001b[0;32m    186\u001b[0m     ylabel\u001b[38;5;241m=\u001b[39m\u001b[38;5;124m\"\u001b[39m\u001b[38;5;124mTrue label\u001b[39m\u001b[38;5;124m\"\u001b[39m,\n\u001b[0;32m    187\u001b[0m     xlabel\u001b[38;5;241m=\u001b[39m\u001b[38;5;124m\"\u001b[39m\u001b[38;5;124mPredicted label\u001b[39m\u001b[38;5;124m\"\u001b[39m,\n\u001b[0;32m    188\u001b[0m )\n\u001b[0;32m    190\u001b[0m ax\u001b[38;5;241m.\u001b[39mset_ylim((n_classes \u001b[38;5;241m-\u001b[39m \u001b[38;5;241m0.5\u001b[39m, \u001b[38;5;241m-\u001b[39m\u001b[38;5;241m0.5\u001b[39m))\n\u001b[0;32m    191\u001b[0m plt\u001b[38;5;241m.\u001b[39msetp(ax\u001b[38;5;241m.\u001b[39mget_xticklabels(), rotation\u001b[38;5;241m=\u001b[39mxticks_rotation)\n",
      "File \u001b[1;32m~\\anaconda3\\Lib\\site-packages\\matplotlib\\artist.py:147\u001b[0m, in \u001b[0;36mArtist.__init_subclass__.<locals>.<lambda>\u001b[1;34m(self, **kwargs)\u001b[0m\n\u001b[0;32m    139\u001b[0m \u001b[38;5;28;01mif\u001b[39;00m \u001b[38;5;129;01mnot\u001b[39;00m \u001b[38;5;28mhasattr\u001b[39m(\u001b[38;5;28mcls\u001b[39m\u001b[38;5;241m.\u001b[39mset, \u001b[38;5;124m'\u001b[39m\u001b[38;5;124m_autogenerated_signature\u001b[39m\u001b[38;5;124m'\u001b[39m):\n\u001b[0;32m    140\u001b[0m     \u001b[38;5;66;03m# Don't overwrite cls.set if the subclass or one of its parents\u001b[39;00m\n\u001b[0;32m    141\u001b[0m     \u001b[38;5;66;03m# has defined a set method set itself.\u001b[39;00m\n\u001b[0;32m    142\u001b[0m     \u001b[38;5;66;03m# If there was no explicit definition, cls.set is inherited from\u001b[39;00m\n\u001b[0;32m    143\u001b[0m     \u001b[38;5;66;03m# the hierarchy of auto-generated set methods, which hold the\u001b[39;00m\n\u001b[0;32m    144\u001b[0m     \u001b[38;5;66;03m# flag _autogenerated_signature.\u001b[39;00m\n\u001b[0;32m    145\u001b[0m     \u001b[38;5;28;01mreturn\u001b[39;00m\n\u001b[1;32m--> 147\u001b[0m \u001b[38;5;28mcls\u001b[39m\u001b[38;5;241m.\u001b[39mset \u001b[38;5;241m=\u001b[39m \u001b[38;5;28;01mlambda\u001b[39;00m \u001b[38;5;28mself\u001b[39m, \u001b[38;5;241m*\u001b[39m\u001b[38;5;241m*\u001b[39mkwargs: Artist\u001b[38;5;241m.\u001b[39mset(\u001b[38;5;28mself\u001b[39m, \u001b[38;5;241m*\u001b[39m\u001b[38;5;241m*\u001b[39mkwargs)\n\u001b[0;32m    148\u001b[0m \u001b[38;5;28mcls\u001b[39m\u001b[38;5;241m.\u001b[39mset\u001b[38;5;241m.\u001b[39m\u001b[38;5;18m__name__\u001b[39m \u001b[38;5;241m=\u001b[39m \u001b[38;5;124m\"\u001b[39m\u001b[38;5;124mset\u001b[39m\u001b[38;5;124m\"\u001b[39m\n\u001b[0;32m    149\u001b[0m \u001b[38;5;28mcls\u001b[39m\u001b[38;5;241m.\u001b[39mset\u001b[38;5;241m.\u001b[39m\u001b[38;5;18m__qualname__\u001b[39m \u001b[38;5;241m=\u001b[39m \u001b[38;5;124mf\u001b[39m\u001b[38;5;124m\"\u001b[39m\u001b[38;5;132;01m{\u001b[39;00m\u001b[38;5;28mcls\u001b[39m\u001b[38;5;241m.\u001b[39m\u001b[38;5;18m__qualname__\u001b[39m\u001b[38;5;132;01m}\u001b[39;00m\u001b[38;5;124m.set\u001b[39m\u001b[38;5;124m\"\u001b[39m\n",
      "File \u001b[1;32m~\\anaconda3\\Lib\\site-packages\\matplotlib\\artist.py:1227\u001b[0m, in \u001b[0;36mArtist.set\u001b[1;34m(self, **kwargs)\u001b[0m\n\u001b[0;32m   1223\u001b[0m \u001b[38;5;28;01mdef\u001b[39;00m \u001b[38;5;21mset\u001b[39m(\u001b[38;5;28mself\u001b[39m, \u001b[38;5;241m*\u001b[39m\u001b[38;5;241m*\u001b[39mkwargs):\n\u001b[0;32m   1224\u001b[0m     \u001b[38;5;66;03m# docstring and signature are auto-generated via\u001b[39;00m\n\u001b[0;32m   1225\u001b[0m     \u001b[38;5;66;03m# Artist._update_set_signature_and_docstring() at the end of the\u001b[39;00m\n\u001b[0;32m   1226\u001b[0m     \u001b[38;5;66;03m# module.\u001b[39;00m\n\u001b[1;32m-> 1227\u001b[0m     \u001b[38;5;28;01mreturn\u001b[39;00m \u001b[38;5;28mself\u001b[39m\u001b[38;5;241m.\u001b[39m_internal_update(cbook\u001b[38;5;241m.\u001b[39mnormalize_kwargs(kwargs, \u001b[38;5;28mself\u001b[39m))\n",
      "File \u001b[1;32m~\\anaconda3\\Lib\\site-packages\\matplotlib\\artist.py:1219\u001b[0m, in \u001b[0;36mArtist._internal_update\u001b[1;34m(self, kwargs)\u001b[0m\n\u001b[0;32m   1212\u001b[0m \u001b[38;5;28;01mdef\u001b[39;00m \u001b[38;5;21m_internal_update\u001b[39m(\u001b[38;5;28mself\u001b[39m, kwargs):\n\u001b[0;32m   1213\u001b[0m \u001b[38;5;250m    \u001b[39m\u001b[38;5;124;03m\"\"\"\u001b[39;00m\n\u001b[0;32m   1214\u001b[0m \u001b[38;5;124;03m    Update artist properties without prenormalizing them, but generating\u001b[39;00m\n\u001b[0;32m   1215\u001b[0m \u001b[38;5;124;03m    errors as if calling `set`.\u001b[39;00m\n\u001b[0;32m   1216\u001b[0m \n\u001b[0;32m   1217\u001b[0m \u001b[38;5;124;03m    The lack of prenormalization is to maintain backcompatibility.\u001b[39;00m\n\u001b[0;32m   1218\u001b[0m \u001b[38;5;124;03m    \"\"\"\u001b[39;00m\n\u001b[1;32m-> 1219\u001b[0m     \u001b[38;5;28;01mreturn\u001b[39;00m \u001b[38;5;28mself\u001b[39m\u001b[38;5;241m.\u001b[39m_update_props(\n\u001b[0;32m   1220\u001b[0m         kwargs, \u001b[38;5;124m\"\u001b[39m\u001b[38;5;132;01m{cls.__name__}\u001b[39;00m\u001b[38;5;124m.set() got an unexpected keyword argument \u001b[39m\u001b[38;5;124m\"\u001b[39m\n\u001b[0;32m   1221\u001b[0m         \u001b[38;5;124m\"\u001b[39m\u001b[38;5;132;01m{prop_name!r}\u001b[39;00m\u001b[38;5;124m\"\u001b[39m)\n",
      "File \u001b[1;32m~\\anaconda3\\Lib\\site-packages\\matplotlib\\artist.py:1195\u001b[0m, in \u001b[0;36mArtist._update_props\u001b[1;34m(self, props, errfmt)\u001b[0m\n\u001b[0;32m   1192\u001b[0m             \u001b[38;5;28;01mif\u001b[39;00m \u001b[38;5;129;01mnot\u001b[39;00m \u001b[38;5;28mcallable\u001b[39m(func):\n\u001b[0;32m   1193\u001b[0m                 \u001b[38;5;28;01mraise\u001b[39;00m \u001b[38;5;167;01mAttributeError\u001b[39;00m(\n\u001b[0;32m   1194\u001b[0m                     errfmt\u001b[38;5;241m.\u001b[39mformat(\u001b[38;5;28mcls\u001b[39m\u001b[38;5;241m=\u001b[39m\u001b[38;5;28mtype\u001b[39m(\u001b[38;5;28mself\u001b[39m), prop_name\u001b[38;5;241m=\u001b[39mk))\n\u001b[1;32m-> 1195\u001b[0m             ret\u001b[38;5;241m.\u001b[39mappend(func(v))\n\u001b[0;32m   1196\u001b[0m \u001b[38;5;28;01mif\u001b[39;00m ret:\n\u001b[0;32m   1197\u001b[0m     \u001b[38;5;28mself\u001b[39m\u001b[38;5;241m.\u001b[39mpchanged()\n",
      "File \u001b[1;32m~\\anaconda3\\Lib\\site-packages\\matplotlib\\axes\\_base.py:73\u001b[0m, in \u001b[0;36m_axis_method_wrapper.__set_name__.<locals>.wrapper\u001b[1;34m(self, *args, **kwargs)\u001b[0m\n\u001b[0;32m     72\u001b[0m \u001b[38;5;28;01mdef\u001b[39;00m \u001b[38;5;21mwrapper\u001b[39m(\u001b[38;5;28mself\u001b[39m, \u001b[38;5;241m*\u001b[39margs, \u001b[38;5;241m*\u001b[39m\u001b[38;5;241m*\u001b[39mkwargs):\n\u001b[1;32m---> 73\u001b[0m     \u001b[38;5;28;01mreturn\u001b[39;00m get_method(\u001b[38;5;28mself\u001b[39m)(\u001b[38;5;241m*\u001b[39margs, \u001b[38;5;241m*\u001b[39m\u001b[38;5;241m*\u001b[39mkwargs)\n",
      "File \u001b[1;32m~\\anaconda3\\Lib\\site-packages\\matplotlib\\_api\\deprecation.py:297\u001b[0m, in \u001b[0;36mrename_parameter.<locals>.wrapper\u001b[1;34m(*args, **kwargs)\u001b[0m\n\u001b[0;32m    292\u001b[0m     warn_deprecated(\n\u001b[0;32m    293\u001b[0m         since, message\u001b[38;5;241m=\u001b[39m\u001b[38;5;124mf\u001b[39m\u001b[38;5;124m\"\u001b[39m\u001b[38;5;124mThe \u001b[39m\u001b[38;5;132;01m{\u001b[39;00mold\u001b[38;5;132;01m!r}\u001b[39;00m\u001b[38;5;124m parameter of \u001b[39m\u001b[38;5;132;01m{\u001b[39;00mfunc\u001b[38;5;241m.\u001b[39m\u001b[38;5;18m__name__\u001b[39m\u001b[38;5;132;01m}\u001b[39;00m\u001b[38;5;124m() \u001b[39m\u001b[38;5;124m\"\u001b[39m\n\u001b[0;32m    294\u001b[0m         \u001b[38;5;124mf\u001b[39m\u001b[38;5;124m\"\u001b[39m\u001b[38;5;124mhas been renamed \u001b[39m\u001b[38;5;132;01m{\u001b[39;00mnew\u001b[38;5;132;01m!r}\u001b[39;00m\u001b[38;5;124m since Matplotlib \u001b[39m\u001b[38;5;132;01m{\u001b[39;00msince\u001b[38;5;132;01m}\u001b[39;00m\u001b[38;5;124m; support \u001b[39m\u001b[38;5;124m\"\u001b[39m\n\u001b[0;32m    295\u001b[0m         \u001b[38;5;124mf\u001b[39m\u001b[38;5;124m\"\u001b[39m\u001b[38;5;124mfor the old name will be dropped %(removal)s.\u001b[39m\u001b[38;5;124m\"\u001b[39m)\n\u001b[0;32m    296\u001b[0m     kwargs[new] \u001b[38;5;241m=\u001b[39m kwargs\u001b[38;5;241m.\u001b[39mpop(old)\n\u001b[1;32m--> 297\u001b[0m \u001b[38;5;28;01mreturn\u001b[39;00m func(\u001b[38;5;241m*\u001b[39margs, \u001b[38;5;241m*\u001b[39m\u001b[38;5;241m*\u001b[39mkwargs)\n",
      "File \u001b[1;32m~\\anaconda3\\Lib\\site-packages\\matplotlib\\axis.py:2025\u001b[0m, in \u001b[0;36mAxis.set_ticklabels\u001b[1;34m(self, labels, minor, fontdict, **kwargs)\u001b[0m\n\u001b[0;32m   2021\u001b[0m \u001b[38;5;28;01melif\u001b[39;00m \u001b[38;5;28misinstance\u001b[39m(locator, mticker\u001b[38;5;241m.\u001b[39mFixedLocator):\n\u001b[0;32m   2022\u001b[0m     \u001b[38;5;66;03m# Passing [] as a list of labels is often used as a way to\u001b[39;00m\n\u001b[0;32m   2023\u001b[0m     \u001b[38;5;66;03m# remove all tick labels, so only error for > 0 labels\u001b[39;00m\n\u001b[0;32m   2024\u001b[0m     \u001b[38;5;28;01mif\u001b[39;00m \u001b[38;5;28mlen\u001b[39m(locator\u001b[38;5;241m.\u001b[39mlocs) \u001b[38;5;241m!=\u001b[39m \u001b[38;5;28mlen\u001b[39m(labels) \u001b[38;5;129;01mand\u001b[39;00m \u001b[38;5;28mlen\u001b[39m(labels) \u001b[38;5;241m!=\u001b[39m \u001b[38;5;241m0\u001b[39m:\n\u001b[1;32m-> 2025\u001b[0m         \u001b[38;5;28;01mraise\u001b[39;00m \u001b[38;5;167;01mValueError\u001b[39;00m(\n\u001b[0;32m   2026\u001b[0m             \u001b[38;5;124m\"\u001b[39m\u001b[38;5;124mThe number of FixedLocator locations\u001b[39m\u001b[38;5;124m\"\u001b[39m\n\u001b[0;32m   2027\u001b[0m             \u001b[38;5;124mf\u001b[39m\u001b[38;5;124m\"\u001b[39m\u001b[38;5;124m (\u001b[39m\u001b[38;5;132;01m{\u001b[39;00m\u001b[38;5;28mlen\u001b[39m(locator\u001b[38;5;241m.\u001b[39mlocs)\u001b[38;5;132;01m}\u001b[39;00m\u001b[38;5;124m), usually from a call to\u001b[39m\u001b[38;5;124m\"\u001b[39m\n\u001b[0;32m   2028\u001b[0m             \u001b[38;5;124m\"\u001b[39m\u001b[38;5;124m set_ticks, does not match\u001b[39m\u001b[38;5;124m\"\u001b[39m\n\u001b[0;32m   2029\u001b[0m             \u001b[38;5;124mf\u001b[39m\u001b[38;5;124m\"\u001b[39m\u001b[38;5;124m the number of labels (\u001b[39m\u001b[38;5;132;01m{\u001b[39;00m\u001b[38;5;28mlen\u001b[39m(labels)\u001b[38;5;132;01m}\u001b[39;00m\u001b[38;5;124m).\u001b[39m\u001b[38;5;124m\"\u001b[39m)\n\u001b[0;32m   2030\u001b[0m     tickd \u001b[38;5;241m=\u001b[39m {loc: lab \u001b[38;5;28;01mfor\u001b[39;00m loc, lab \u001b[38;5;129;01min\u001b[39;00m \u001b[38;5;28mzip\u001b[39m(locator\u001b[38;5;241m.\u001b[39mlocs, labels)}\n\u001b[0;32m   2031\u001b[0m     func \u001b[38;5;241m=\u001b[39m functools\u001b[38;5;241m.\u001b[39mpartial(\u001b[38;5;28mself\u001b[39m\u001b[38;5;241m.\u001b[39m_format_with_dict, tickd)\n",
      "\u001b[1;31mValueError\u001b[0m: The number of FixedLocator locations (2), usually from a call to set_ticks, does not match the number of labels (231646)."
     ]
    },
    {
     "data": {
      "image/png": "[encoded data removed]",
      "text/plain": [
       "<Figure size 640x480 with 2 Axes>"
      ]
     },
     "metadata": {},
     "output_type": "display_data"
    }
   ],
   "source": [
    "titles_options = [\n",
    "    (\"Confusion matrix, without normalization\", None),\n",
    "    (\"Normalized confusion matrix\", \"true\"),\n",
    "]\n",
    "for title, normalize in titles_options:\n",
    "    disp = ConfusionMatrixDisplay.from_estimator(\n",
    "        tree,\n",
    "        features_testing,\n",
    "        target_testing,\n",
    "        display_labels=training_data['target'],\n",
    "        cmap=plt.cm.Blues,\n",
    "        normalize=normalize,\n",
    "    )\n",
    "    disp.ax_.set_title(title)\n",
    "\n",
    "    print(title)\n",
    "    print(disp.confusion_matrix)\n",
    "\n",
    "plt.show()"
   ]
  }
 ],
 "metadata": {
  "kernelspec": {
   "display_name": "Python 3 (ipykernel)",
   "language": "python",
   "name": "python3"
  },
  "language_info": {
   "codemirror_mode": {
    "name": "ipython",
    "version": 3
   },
   "file_extension": ".py",
   "mimetype": "text/x-python",
   "name": "python",
   "nbconvert_exporter": "python",
   "pygments_lexer": "ipython3",
   "version": "3.11.5"
  }
 },
 "nbformat": 4,
 "nbformat_minor": 5
}
