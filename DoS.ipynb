{
 "cells": [
  {
   "cell_type": "markdown",
   "id": "7e3ab076",
   "metadata": {},
   "source": [
    "Arquivo de classificação para o tráfego DoS\n",
    "\n",
    "Matheus Figueiredo de Castro\n",
    "\n",
    "Universidade Federal do Amazonas - Fevereiro de 2024"
   ]
  },
  {
   "cell_type": "code",
   "execution_count": 1,
   "id": "5c8e5368",
   "metadata": {},
   "outputs": [],
   "source": [
    "import numpy as np\n",
    "import pandas as pd\n",
    "import csvs"
   ]
  },
  {
   "cell_type": "code",
   "execution_count": 2,
   "id": "7cf6c31c",
   "metadata": {},
   "outputs": [
    {
     "name": "stdout",
     "output_type": "stream",
     "text": [
      "(10000, 34)\n"
     ]
    }
   ],
   "source": [
    "to_read = pd.read_csv(\"train70_reduced.csv\", nrows=10000)   # 100000 foram selecionadas devido à limitação da máquina\n",
    "\n",
    "print(to_read.shape)"
   ]
  },
  {
   "cell_type": "markdown",
   "id": "4fbf177a",
   "metadata": {},
   "source": [
    "Processamento dos dados"
   ]
  },
  {
   "cell_type": "code",
   "execution_count": 21,
   "id": "73dfdb08",
   "metadata": {},
   "outputs": [],
   "source": [
    "data = pd.DataFrame(to_read)"
   ]
  },
  {
   "cell_type": "code",
   "execution_count": 4,
   "id": "9e7b25d7",
   "metadata": {},
   "outputs": [],
   "source": [
    "# divisão em duas classes\n",
    "\n",
    "for index, row in data.iterrows():\n",
    "    if row['target'] == 'dos':\n",
    "        data.at[index, 'target'] = '1'\n",
    "    else:\n",
    "        data.at[index, 'target'] = '0'"
   ]
  },
  {
   "cell_type": "code",
   "execution_count": 5,
   "id": "e5c8c772",
   "metadata": {
    "scrolled": true
   },
   "outputs": [
    {
     "name": "stdout",
     "output_type": "stream",
     "text": [
      "['0' '1']\n"
     ]
    }
   ],
   "source": [
    "print(data['target'].unique())"
   ]
  },
  {
   "cell_type": "code",
   "execution_count": 10,
   "id": "2d5d6c86",
   "metadata": {},
   "outputs": [],
   "source": [
    "# para a feature TCP Flags\n",
    "\n",
    "for number, row in data.iterrows():                     # number represents de index of the column\n",
    "    if row['tcp.flags'] == \"0x00000010\":                # row represents the data of the row\n",
    "        data.at[number, 'tcp.flags'] = \"ACK\"            # the method at. update the row to the new value\n",
    "    elif row['tcp.flags'] == \"0x00000002\":\n",
    "        data.at[number, 'tcp.flags'] = \"SYN\"\n",
    "    elif row['tcp.flags'] == \"0x00000012\":\n",
    "        data.at[number, 'tcp.flags'] = \"SYN ACK\"\n",
    "    elif row['tcp.flags'] == \"0x00000011\":\n",
    "        data.at[number, 'tcp.flags'] = \"FIN ACK\"\n",
    "    elif row['tcp.flags'] == \"0x00000004\":\n",
    "        data.at[number, 'tcp.flags'] = \"RST\"\n",
    "    elif row['tcp.flags'] == \"0x00000014\":\n",
    "        data.at[number, 'tcp.flags'] = \"RST ACK\"\n",
    "    elif row['tcp.flags'] == \"0x00000018\":\n",
    "        data.at[number, 'tcp.flags'] = \"PSH ACK\"\n",
    "    elif row['tcp.flags'] == \"0x00000019\":\n",
    "        data.at[number, 'tcp.flags'] = \"ZERO\""
   ]
  },
  {
   "cell_type": "code",
   "execution_count": 12,
   "id": "78e76be6",
   "metadata": {},
   "outputs": [],
   "source": [
    "# para a feature MQTT Flags\n",
    "\n",
    "for number, row in data.iterrows():                             # number represents de index of the column\n",
    "    if row['mqtt.hdrflags'] == \"0x00000030\":                    # row represents the data of the row\n",
    "        data.at[number, 'mqtt.hdrflags'] = \"110000\"             # the method at. update the row to the new value\n",
    "    elif row['mqtt.hdrflags'] == \"0x00000032\":\n",
    "        data.at[number, 'mqtt.hdrflags'] = \"110010\"\n",
    "    elif row['mqtt.hdrflags'] == \"0x00000040\":\n",
    "        data.at[number, 'mqtt.hdrflags'] = \"1000000\"\n",
    "    elif row['mqtt.hdrflags'] == \"0\":\n",
    "        data.at[number, 'mqtt.hdrflags'] = \"0\"\n",
    "    elif row['mqtt.hdrflags'] == \"0x00000020\":\n",
    "        data.at[number, 'mqtt.hdrflags'] = \"100000\"\n",
    "    elif row['mqtt.hdrflags'] == \"0x0000003a\":\n",
    "        data.at[number, 'mqtt.hdrflags'] = \"111010\"\n",
    "    elif row['mqtt.hdrflags'] == \"0x000000d0\":\n",
    "        data.at[number, 'mqtt.hdrflags'] = \"11010000\"\n",
    "    elif row['mqtt.hdrflags'] == \"0x000000c0\":\n",
    "        data.at[number, 'mqtt.hdrflags'] = \"11000000\"\n",
    "    elif row['mqtt.hdrflags'] == \"0x00000010\":\n",
    "        data.at[number, 'mqtt.hdrflags'] = \"10000\"\n",
    "    elif row['mqtt.hdrflags'] == \"0x00000090\":\n",
    "        data.at[number, 'mqtt.hdrflags'] = \"10010000\"\n",
    "    elif row['mqtt.hdrflags'] == \"0x00000031\":\n",
    "        data.at[number, 'mqtt.hdrflags'] = \"110001\"\n",
    "    elif row['mqtt.hdrflags'] == \"0x00000050\":\n",
    "        data.at[number, 'mqtt.hdrflags'] = \"1010000\"\n",
    "    elif row['mqtt.hdrflags'] == \"0x00000082\":\n",
    "        data.at[number, 'mqtt.hdrflags'] = \"10000010\"\n",
    "    elif row['mqtt.hdrflags'] == \"0x000000e0\":\n",
    "        data.at[number, 'mqtt.hdrflags'] = \"11100000\""
   ]
  },
  {
   "cell_type": "markdown",
   "id": "0bb05c2f",
   "metadata": {},
   "source": [
    "Reajuste de dados"
   ]
  },
  {
   "cell_type": "code",
   "execution_count": 15,
   "id": "903419aa",
   "metadata": {
    "scrolled": true
   },
   "outputs": [
    {
     "name": "stdout",
     "output_type": "stream",
     "text": [
      "['tcp.flags', 'tcp.time_delta', 'tcp.len', 'mqtt.conack.flags', 'mqtt.conack.flags.reserved', 'mqtt.conack.flags.sp', 'mqtt.conack.val', 'mqtt.conflag.cleansess', 'mqtt.conflag.passwd', 'mqtt.conflag.qos', 'mqtt.conflag.reserved', 'mqtt.conflag.retain', 'mqtt.conflag.uname', 'mqtt.conflag.willflag', 'mqtt.conflags', 'mqtt.dupflag', 'mqtt.hdrflags', 'mqtt.kalive', 'mqtt.len', 'mqtt.msg', 'mqtt.msgid', 'mqtt.msgtype', 'mqtt.proto_len', 'mqtt.protoname', 'mqtt.qos', 'mqtt.retain', 'mqtt.sub.qos', 'mqtt.suback.qos', 'mqtt.ver', 'mqtt.willmsg', 'mqtt.willmsg_len', 'mqtt.willtopic', 'mqtt.willtopic_len', 'target']\n"
     ]
    }
   ],
   "source": [
    "print(list(data.keys()))"
   ]
  },
  {
   "cell_type": "code",
   "execution_count": 28,
   "id": "5285861b",
   "metadata": {},
   "outputs": [
    {
     "name": "stdout",
     "output_type": "stream",
     "text": [
      "(10000, 20)\n"
     ]
    }
   ],
   "source": [
    "# remoção das features que, visualmente, não são de forte influência nesse tipo de tráfego\n",
    "\n",
    "\n",
    "# \"to_dataset_dos\" é o nome da variável apenas para a leitura dos dados sem as colunas irrelevantes, \n",
    "# pois posteriormente será necessária uma nova variável para ajustar as variáveis categóricas e tratar \n",
    "# os dados finais.\n",
    "\n",
    "to_dataset_dos = data.drop(columns = ['mqtt.conack.flags.reserved', 'mqtt.conack.flags.sp', 'mqtt.conflag.qos', 'mqtt.conflag.reserved', 'mqtt.conflag.retain', \n",
    "             'mqtt.conflag.willflag', 'mqtt.retain', 'mqtt.sub.qos', 'mqtt.suback.qos', 'mqtt.willmsg', 'mqtt.willmsg_len', \n",
    "             'mqtt.willtopic', 'mqtt.willtopic_len', 'mqtt.msg'])\n",
    "\n",
    "print(to_dataset_dos.shape)"
   ]
  },
  {
   "cell_type": "code",
   "execution_count": 31,
   "id": "e968aa81",
   "metadata": {},
   "outputs": [
    {
     "name": "stdout",
     "output_type": "stream",
     "text": [
      "(10000, 44)\n"
     ]
    }
   ],
   "source": [
    "# aplicação da função dummies para ajustar as variáveis categóricas com a definição\n",
    "# da nova variável \n",
    "\n",
    "\n",
    "dataset_dos = pd.get_dummies(to_dataset_dos)\n",
    "\n",
    "\n",
    "# novo tamanho do dataset com dummies\n",
    "\n",
    "print(dataset_dos.shape)"
   ]
  },
  {
   "cell_type": "markdown",
   "id": "fabb687e",
   "metadata": {},
   "source": [
    "Seleção de colunas com RFE"
   ]
  },
  {
   "cell_type": "code",
   "execution_count": 49,
   "id": "63fe341f",
   "metadata": {
    "scrolled": true
   },
   "outputs": [
    {
     "data": {
      "text/plain": [
       "array([ True, False, False, False, False, False, False, False,  True,\n",
       "        True,  True, False, False, False, False, False, False, False,\n",
       "       False, False, False, False,  True,  True, False, False, False,\n",
       "       False, False,  True,  True, False, False, False, False,  True,\n",
       "       False, False, False, False, False, False,  True])"
      ]
     },
     "execution_count": 49,
     "metadata": {},
     "output_type": "execute_result"
    }
   ],
   "source": [
    "from sklearn.feature_selection import RFE\n",
    "from sklearn.svm import SVR\n",
    "\n",
    "\n",
    "X = dataset_dos.iloc[:, :-1]  # Seleciona todas as colunas exceto a última como características\n",
    "y = dataset_dos.iloc[:, -1]   # Seleciona a última coluna como rótulo\n",
    "\n",
    "\n",
    "estimator = SVR(kernel=\"linear\")\n",
    "selector = RFE(estimator, n_features_to_select=10, step=1)\n",
    "selector = selector.fit(X, y)\n",
    "selector.support_"
   ]
  },
  {
   "cell_type": "code",
   "execution_count": 50,
   "id": "b371d774",
   "metadata": {},
   "outputs": [
    {
     "data": {
      "text/plain": [
       "array([ 1,  8, 25, 16, 15, 14, 13, 11,  1,  1,  1, 19, 21, 24, 23, 22,  4,\n",
       "       27, 29, 31, 30, 34,  1,  1,  3, 12, 10,  7, 18,  1,  1, 33, 32, 26,\n",
       "        6,  1,  9, 17, 28, 20,  2,  5,  1])"
      ]
     },
     "execution_count": 50,
     "metadata": {},
     "output_type": "execute_result"
    }
   ],
   "source": [
    "selector.ranking_"
   ]
  }
 ],
 "metadata": {
  "kernelspec": {
   "display_name": "Python 3 (ipykernel)",
   "language": "python",
   "name": "python3"
  },
  "language_info": {
   "codemirror_mode": {
    "name": "ipython",
    "version": 3
   },
   "file_extension": ".py",
   "mimetype": "text/x-python",
   "name": "python",
   "nbconvert_exporter": "python",
   "pygments_lexer": "ipython3",
   "version": "3.11.5"
  }
 },
 "nbformat": 4,
 "nbformat_minor": 5
}
