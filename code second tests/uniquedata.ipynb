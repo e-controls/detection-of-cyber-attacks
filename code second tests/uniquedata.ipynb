{
  "cells": [
    {
      "cell_type": "markdown",
      "metadata": {
        "id": "view-in-github",
        "colab_type": "text"
      },
      "source": [
        "<a href=\"https://colab.research.google.com/github/matheusfigueiredoo/detection-of-cyber-attacks/blob/main/uniquedata.ipynb\" target=\"_parent\"><img src=\"https://colab.research.google.com/assets/colab-badge.svg\" alt=\"Open In Colab\"/></a>"
      ]
    },
    {
      "cell_type": "code",
      "execution_count": 3,
      "id": "e3fbd576",
      "metadata": {
        "id": "e3fbd576"
      },
      "outputs": [],
      "source": [
        "import numpy as np\n",
        "import pandas as pd\n",
        "import csv"
      ]
    },
    {
      "cell_type": "code",
      "source": [
        "from google.colab import drive\n",
        "drive.mount('/content/drive')"
      ],
      "metadata": {
        "colab": {
          "base_uri": "https://localhost:8080/"
        },
        "id": "PUWfj1kDEiSb",
        "outputId": "57fab146-b09f-42de-bf5a-cb5fd005fcc9"
      },
      "id": "PUWfj1kDEiSb",
      "execution_count": 4,
      "outputs": [
        {
          "output_type": "stream",
          "name": "stdout",
          "text": [
            "Mounted at /content/drive\n"
          ]
        }
      ]
    },
    {
      "cell_type": "code",
      "execution_count": 5,
      "id": "4ef16d64",
      "metadata": {
        "id": "4ef16d64"
      },
      "outputs": [],
      "source": [
        "train = pd.read_csv(\"drive/MyDrive/MQTTset/train70_augmented.csv\")\n",
        "test = pd.read_csv(\"drive/MyDrive/MQTTset/test30_augmented.csv\")"
      ]
    },
    {
      "cell_type": "code",
      "execution_count": 6,
      "id": "3971a49c",
      "metadata": {
        "id": "3971a49c"
      },
      "outputs": [],
      "source": [
        "train = pd.DataFrame(train)\n",
        "test = pd.DataFrame(test)"
      ]
    },
    {
      "cell_type": "code",
      "execution_count": 7,
      "id": "66e8e9f3",
      "metadata": {
        "colab": {
          "base_uri": "https://localhost:8080/"
        },
        "id": "66e8e9f3",
        "outputId": "79668194-3adf-4202-8228-20660fe7af38"
      },
      "outputs": [
        {
          "output_type": "stream",
          "name": "stdout",
          "text": [
            "target\n",
            "legitimate    7000000\n",
            "bruteforce    1400000\n",
            "flood         1400000\n",
            "slowite       1400000\n",
            "dos           1400000\n",
            "malformed     1400000\n",
            "Name: count, dtype: int64\n",
            "target\n",
            "legitimate    3000000\n",
            "dos            600000\n",
            "slowite        600000\n",
            "flood          600000\n",
            "bruteforce     600000\n",
            "malformed      600000\n",
            "Name: count, dtype: int64\n"
          ]
        }
      ],
      "source": [
        "# distribuição das targets\n",
        "print(train['target'].value_counts())\n",
        "print(test['target'].value_counts())"
      ]
    },
    {
      "cell_type": "code",
      "source": [
        "# concatenação de dataframes\n",
        "\n",
        "first_data = pd.concat([train, test], ignore_index=True)   # 1a concatenação\n",
        "\n",
        "print(first_data['target'].value_counts)"
      ],
      "metadata": {
        "colab": {
          "base_uri": "https://localhost:8080/"
        },
        "id": "qD-qxaDtScuD",
        "outputId": "c8d60164-2494-4fef-a083-92d444348660"
      },
      "id": "qD-qxaDtScuD",
      "execution_count": 8,
      "outputs": [
        {
          "output_type": "stream",
          "name": "stdout",
          "text": [
            "<bound method IndexOpsMixin.value_counts of 0           legitimate\n",
            "1           bruteforce\n",
            "2                flood\n",
            "3              slowite\n",
            "4                flood\n",
            "               ...    \n",
            "19999995         flood\n",
            "19999996    legitimate\n",
            "19999997    legitimate\n",
            "19999998    bruteforce\n",
            "19999999    legitimate\n",
            "Name: target, Length: 20000000, dtype: object>\n"
          ]
        }
      ]
    },
    {
      "cell_type": "code",
      "source": [
        "second_data = pd.concat([first_data, test], ignore_index=True)     # 2a concatenação\n",
        "\n",
        "print(second_data['target'].value_counts())"
      ],
      "metadata": {
        "colab": {
          "base_uri": "https://localhost:8080/"
        },
        "id": "I_UxnMX2WJ9u",
        "outputId": "ec2ae927-50da-4f77-89f1-c4fde020d7c6"
      },
      "id": "I_UxnMX2WJ9u",
      "execution_count": 9,
      "outputs": [
        {
          "output_type": "stream",
          "name": "stdout",
          "text": [
            "target\n",
            "legitimate    13000000\n",
            "bruteforce     2600000\n",
            "flood          2600000\n",
            "slowite        2600000\n",
            "dos            2600000\n",
            "malformed      2600000\n",
            "Name: count, dtype: int64\n"
          ]
        }
      ]
    },
    {
      "cell_type": "code",
      "source": [
        "third_data = pd.concat([second_data, first_data], ignore_index=True)   # 3a concatenação\n",
        "\n",
        "print(third_data['target'].value_counts())"
      ],
      "metadata": {
        "colab": {
          "base_uri": "https://localhost:8080/"
        },
        "id": "vYyG77jeWaLI",
        "outputId": "816c556f-27e5-46c4-d51d-d92f85256a72"
      },
      "id": "vYyG77jeWaLI",
      "execution_count": 10,
      "outputs": [
        {
          "output_type": "stream",
          "name": "stdout",
          "text": [
            "target\n",
            "legitimate    23000000\n",
            "bruteforce     4600000\n",
            "flood          4600000\n",
            "slowite        4600000\n",
            "dos            4600000\n",
            "malformed      4600000\n",
            "Name: count, dtype: int64\n"
          ]
        }
      ]
    },
    {
      "cell_type": "code",
      "source": [
        "fourth_data = pd.concat([second_data, third_data], ignore_index=True)   # 4a concatenação\n",
        "\n",
        "print(fourth_data['target'].value_counts())"
      ],
      "metadata": {
        "colab": {
          "base_uri": "https://localhost:8080/"
        },
        "id": "O5jbVwKNXScT",
        "outputId": "215c96c3-68e0-4cb4-9525-99a1525e4770"
      },
      "id": "O5jbVwKNXScT",
      "execution_count": 11,
      "outputs": [
        {
          "output_type": "stream",
          "name": "stdout",
          "text": [
            "target\n",
            "legitimate    36000000\n",
            "bruteforce     7200000\n",
            "flood          7200000\n",
            "slowite        7200000\n",
            "dos            7200000\n",
            "malformed      7200000\n",
            "Name: count, dtype: int64\n"
          ]
        }
      ]
    },
    {
      "cell_type": "code",
      "source": [
        "five_data = pd.concat([fourth_data, third_data], ignore_index=True)   # 5a concatenação\n",
        "\n",
        "print(five_data['target'].value_counts())"
      ],
      "metadata": {
        "colab": {
          "base_uri": "https://localhost:8080/"
        },
        "id": "Wx79gwVxax7V",
        "outputId": "983224b2-e908-41e6-8a41-dcfd544e76b7"
      },
      "id": "Wx79gwVxax7V",
      "execution_count": 14,
      "outputs": [
        {
          "output_type": "stream",
          "name": "stdout",
          "text": [
            "target\n",
            "legitimate    59000000\n",
            "bruteforce    11800000\n",
            "flood         11800000\n",
            "slowite       11800000\n",
            "dos           11800000\n",
            "malformed     11800000\n",
            "Name: count, dtype: int64\n"
          ]
        }
      ]
    },
    {
      "cell_type": "code",
      "source": [
        "data = pd.concat([fourth_data, five_data], ignore_index=True)   # 6a concatenação\n",
        "\n",
        "print(data['target'].value_counts())"
      ],
      "metadata": {
        "colab": {
          "base_uri": "https://localhost:8080/"
        },
        "id": "o8kX5O-Ub-27",
        "outputId": "9ab5cc4d-e50f-4496-d702-291471447b21"
      },
      "id": "o8kX5O-Ub-27",
      "execution_count": 15,
      "outputs": [
        {
          "output_type": "stream",
          "name": "stdout",
          "text": [
            "target\n",
            "legitimate    95000000\n",
            "bruteforce    19000000\n",
            "flood         19000000\n",
            "slowite       19000000\n",
            "dos           19000000\n",
            "malformed     19000000\n",
            "Name: count, dtype: int64\n"
          ]
        }
      ]
    },
    {
      "cell_type": "code",
      "execution_count": 16,
      "id": "64f6bb86-474b-453b-96e2-3a564a94d2ca",
      "metadata": {
        "id": "64f6bb86-474b-453b-96e2-3a564a94d2ca",
        "colab": {
          "base_uri": "https://localhost:8080/"
        },
        "outputId": "ded5a507-3797-4f37-e64b-e0afe7ab9fdf"
      },
      "outputs": [
        {
          "output_type": "stream",
          "name": "stdout",
          "text": [
            "target\n",
            "bruteforce    19000000\n",
            "flood         19000000\n",
            "slowite       19000000\n",
            "dos           19000000\n",
            "malformed     19000000\n",
            "legitimate    19000000\n",
            "Name: count, dtype: int64\n"
          ]
        }
      ],
      "source": [
        "# balanceamento dos dados\n",
        "rows = []\n",
        "\n",
        "for i in data.index:\n",
        "    if data['target'][i] == 'legitimate':\n",
        "        rows.append(i)\n",
        "\n",
        "rows = rows[:76000000]\n",
        "data = data.drop(rows)\n",
        "print(data['target'].value_counts())"
      ]
    },
    {
      "cell_type": "code",
      "execution_count": 17,
      "id": "3df84781",
      "metadata": {
        "id": "3df84781"
      },
      "outputs": [],
      "source": [
        "# pre processamento de dados\n",
        "# separacao de features e targets\n",
        "\n",
        "X = data.iloc[:,:-1]\n",
        "y = data['target']"
      ]
    },
    {
      "cell_type": "code",
      "source": [
        "from sklearn.model_selection import train_test_split\n",
        "\n",
        "X_train, X_test, y_train, y_test = train_test_split(X, y, random_state=0, shuffle=True)"
      ],
      "metadata": {
        "id": "PDMhewFbD0tm"
      },
      "id": "PDMhewFbD0tm",
      "execution_count": 18,
      "outputs": []
    },
    {
      "cell_type": "code",
      "execution_count": 19,
      "id": "94ba6123",
      "metadata": {
        "id": "94ba6123"
      },
      "outputs": [],
      "source": [
        "# transformacao de features e targets categoricas em numeros inteiros\n",
        "\n",
        "from sklearn.preprocessing import LabelEncoder\n",
        "label = LabelEncoder()"
      ]
    },
    {
      "cell_type": "code",
      "source": [
        "# features\n",
        "X_train['tcp.flags'] = label.fit_transform(X_train['tcp.flags'])\n",
        "X_train['mqtt.conack.flags'] = label.fit_transform(X_train['mqtt.conack.flags'])\n",
        "X_train['mqtt.hdrflags'] = label.fit_transform(X_train['mqtt.hdrflags'])\n",
        "X_train['mqtt.protoname'] = label.fit_transform(X_train['mqtt.protoname'])\n",
        "X_train['mqtt.msg'] = label.fit_transform(X_train['mqtt.msg'])\n",
        "X_train['mqtt.conflags'] = label.fit_transform(X_train['mqtt.conflags'])\n",
        "\n",
        "X_test['tcp.flags'] = label.fit_transform(X_test['tcp.flags'])\n",
        "X_test['mqtt.conack.flags'] = label.fit_transform(X_test['mqtt.conack.flags'])\n",
        "X_test['mqtt.hdrflags'] = label.fit_transform(X_test['mqtt.hdrflags'])\n",
        "X_test['mqtt.protoname'] = label.fit_transform(X_test['mqtt.protoname'])\n",
        "X_test['mqtt.msg'] = label.fit_transform(X_test['mqtt.msg'])\n",
        "X_test['mqtt.conflags'] = label.fit_transform(X_test['mqtt.conflags'])\n",
        "\n",
        "# targets\n",
        "label.fit(y_train)\n",
        "label.fit(y_test)\n",
        "y_train = label.transform(y_train)\n",
        "y_test = label.transform(y_test)"
      ],
      "metadata": {
        "id": "2afuT_CcUNNj"
      },
      "id": "2afuT_CcUNNj",
      "execution_count": 20,
      "outputs": []
    },
    {
      "cell_type": "code",
      "execution_count": 21,
      "id": "505c10f4",
      "metadata": {
        "colab": {
          "base_uri": "https://localhost:8080/"
        },
        "id": "505c10f4",
        "outputId": "4c620b31-7a9b-46f6-e8e8-9ebb7e38a946"
      },
      "outputs": [
        {
          "output_type": "stream",
          "name": "stdout",
          "text": [
            "(85500000, 20)\n",
            "(28500000, 20)\n"
          ]
        }
      ],
      "source": [
        "# ajuste de dados\n",
        "\n",
        "# columns_0 são as colunas com dados iguais a 0\n",
        "\n",
        "columns_0 = ['mqtt.conack.flags.reserved', 'mqtt.conack.flags.sp', 'mqtt.conflag.qos',\n",
        "           'mqtt.conflag.reserved', 'mqtt.conflag.retain', 'mqtt.conflag.willflag',\n",
        "           'mqtt.retain', 'mqtt.sub.qos', 'mqtt.suback.qos', 'mqtt.willmsg', 'mqtt.willmsg_len',\n",
        "           'mqtt.willtopic', 'mqtt.willtopic_len']\n",
        "\n",
        "X_train = X_train.drop(columns_0, axis=1)\n",
        "X_test = X_test.drop(columns_0, axis=1)\n",
        "\n",
        "\n",
        "print(X_train.shape)\n",
        "print(X_test.shape)"
      ]
    },
    {
      "cell_type": "code",
      "execution_count": 22,
      "id": "c216e6ce",
      "metadata": {
        "colab": {
          "base_uri": "https://localhost:8080/"
        },
        "id": "c216e6ce",
        "outputId": "b55c8177-bbe3-4456-9573-b8b1d0760a53"
      },
      "outputs": [
        {
          "output_type": "stream",
          "name": "stdout",
          "text": [
            "<class 'numpy.ndarray'>\n",
            "<class 'numpy.ndarray'>\n"
          ]
        }
      ],
      "source": [
        "X_train = X_train.values\n",
        "X_test = X_test.values\n",
        "\n",
        "print(type(X_train))\n",
        "print(type(X_test))"
      ]
    },
    {
      "cell_type": "code",
      "execution_count": 24,
      "id": "b26c2a9c",
      "metadata": {
        "id": "b26c2a9c",
        "colab": {
          "base_uri": "https://localhost:8080/"
        },
        "outputId": "b6c779f3-909c-4cda-d45d-c187bb392351"
      },
      "outputs": [
        {
          "output_type": "stream",
          "name": "stdout",
          "text": [
            "Accuracy train: 0.8798754736842105\n",
            "Accuracy test: 0.8799122456140351\n"
          ]
        }
      ],
      "source": [
        "from sklearn.tree import DecisionTreeClassifier\n",
        "\n",
        "clf = DecisionTreeClassifier(criterion='gini', splitter='best', max_depth=None)\n",
        "\n",
        "clf.fit(X_train, y_train)\n",
        "\n",
        "print(\"Accuracy train: {}\".format(clf.score(X_train, y_train)))\n",
        "print(\"Accuracy test: {}\".format(clf.score(X_test, y_test)))"
      ]
    },
    {
      "cell_type": "code",
      "execution_count": 25,
      "id": "15647045",
      "metadata": {
        "colab": {
          "base_uri": "https://localhost:8080/"
        },
        "id": "15647045",
        "outputId": "115aeeb9-2f67-4c67-c786-ee97ed5e3741"
      },
      "outputs": [
        {
          "output_type": "stream",
          "name": "stdout",
          "text": [
            "              precision    recall  f1-score   support\n",
            "\n",
            "           0       0.78      0.88      0.83   4746510\n",
            "           1       0.91      0.89      0.90   4748975\n",
            "           2       0.87      0.88      0.88   4749564\n",
            "           3       0.85      0.90      0.88   4751165\n",
            "           4       0.89      0.73      0.80   4751208\n",
            "           5       1.00      1.00      1.00   4752578\n",
            "\n",
            "    accuracy                           0.88  28500000\n",
            "   macro avg       0.88      0.88      0.88  28500000\n",
            "weighted avg       0.88      0.88      0.88  28500000\n",
            "\n"
          ]
        }
      ],
      "source": [
        "# metrics\n",
        "\n",
        "from sklearn.metrics import classification_report\n",
        "\n",
        "# predição de valores\n",
        "\n",
        "predict = clf.predict(X_test)\n",
        "print(classification_report(y_test, predict))"
      ]
    },
    {
      "cell_type": "code",
      "execution_count": 26,
      "id": "24ea9356",
      "metadata": {
        "id": "24ea9356",
        "colab": {
          "base_uri": "https://localhost:8080/"
        },
        "outputId": "3bb2e8a3-e0fe-4e23-c760-cf90859cd3c9"
      },
      "outputs": [
        {
          "output_type": "stream",
          "name": "stdout",
          "text": [
            "[[4187473  204004    9643    3741  341649       0]\n",
            " [  60477 4220661  163575  221588   82674       0]\n",
            " [   9504   37964 4188847  503722    9527       0]\n",
            " [    519   65803  402782 4278797    3264       0]\n",
            " [1115258  126227   44645   15935 3449143       0]\n",
            " [      0       0       0       0       0 4752578]]\n"
          ]
        }
      ],
      "source": [
        "# confusion matrix\n",
        "\n",
        "from sklearn.metrics import confusion_matrix\n",
        "\n",
        "matrix = confusion_matrix(y_test, predict)\n",
        "print(matrix)"
      ]
    },
    {
      "cell_type": "code",
      "execution_count": 27,
      "id": "5866bb39",
      "metadata": {
        "id": "5866bb39",
        "colab": {
          "base_uri": "https://localhost:8080/",
          "height": 465
        },
        "outputId": "439fd35c-8007-4d87-da31-769c8cfd2c7c"
      },
      "outputs": [
        {
          "output_type": "display_data",
          "data": {
            "text/plain": [
              "<Figure size 640x480 with 2 Axes>"
            ],
            "image/png": "[encoded data removed]"
          },
          "metadata": {}
        }
      ],
      "source": [
        "# display matrix\n",
        "\n",
        "import matplotlib.pyplot as plt\n",
        "from sklearn.metrics import ConfusionMatrixDisplay\n",
        "\n",
        "%matplotlib inline\n",
        "\n",
        "cm = confusion_matrix(y_test, predict, labels=clf.classes_)\n",
        "disp = ConfusionMatrixDisplay(confusion_matrix=cm, display_labels=clf.classes_)\n",
        "\n",
        "disp.plot()\n",
        "plt.show()"
      ]
    }
  ],
  "metadata": {
    "kernelspec": {
      "display_name": "Python 3",
      "name": "python3"
    },
    "language_info": {
      "codemirror_mode": {
        "name": "ipython",
        "version": 3
      },
      "file_extension": ".py",
      "mimetype": "text/x-python",
      "name": "python",
      "nbconvert_exporter": "python",
      "pygments_lexer": "ipython3",
      "version": "3.11.7"
    },
    "colab": {
      "provenance": [],
      "gpuType": "V28",
      "include_colab_link": true
    },
    "accelerator": "TPU"
  },
  "nbformat": 4,
  "nbformat_minor": 5
}