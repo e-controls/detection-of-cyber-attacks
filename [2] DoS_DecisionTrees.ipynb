{
 "cells": [
  {
   "cell_type": "code",
   "execution_count": 1,
   "id": "2e2c30c1",
   "metadata": {},
   "outputs": [],
   "source": [
    "import numpy as np\n",
    "import pandas as pd\n",
    "import csv\n",
    "from sklearn.tree import DecisionTreeClassifier"
   ]
  },
  {
   "cell_type": "code",
   "execution_count": 2,
   "id": "1e073391",
   "metadata": {},
   "outputs": [
    {
     "name": "stderr",
     "output_type": "stream",
     "text": [
      "C:\\Users\\mathe\\AppData\\Local\\Temp\\ipykernel_19440\\2947108341.py:1: DtypeWarning: Columns (3,14,19,23) have mixed types. Specify dtype option on import or set low_memory=False.\n",
      "  training_data = pd.read_csv(\"train70.csv\")\n",
      "C:\\Users\\mathe\\AppData\\Local\\Temp\\ipykernel_19440\\2947108341.py:2: DtypeWarning: Columns (3,14,19,23) have mixed types. Specify dtype option on import or set low_memory=False.\n",
      "  testing_data = pd.read_csv(\"test30.csv\")\n"
     ]
    }
   ],
   "source": [
    "training_data = pd.read_csv(\"train70.csv\")\n",
    "testing_data = pd.read_csv(\"test30.csv\")"
   ]
  },
  {
   "cell_type": "code",
   "execution_count": 3,
   "id": "5c412e53",
   "metadata": {},
   "outputs": [],
   "source": [
    "training = pd.DataFrame(training_data)\n",
    "testing = pd.DataFrame(testing_data)"
   ]
  },
  {
   "cell_type": "code",
   "execution_count": null,
   "id": "453d419f",
   "metadata": {},
   "outputs": [],
   "source": [
    "# divisão em duas classes\n",
    "\n",
    "for index, row in training.iterrows():\n",
    "    if row['target'] == 'dos':\n",
    "        training.at[index, 'target'] = '1'\n",
    "    else:\n",
    "        training.at[index, 'target'] = '0'\n",
    "\n",
    "for index, row in testing.iterrows():\n",
    "    if row['target'] == 'dos':\n",
    "        testing.at[index, 'target'] = '1'\n",
    "    else:\n",
    "        testing.at[index, 'target'] = '0'\n",
    "        \n",
    "print(\"Training target: {}\".format(training['target'].unique()))\n",
    "print(\"Testing target: {}\".format(testing['target'].unique()))"
   ]
  },
  {
   "cell_type": "code",
   "execution_count": null,
   "id": "84af2093",
   "metadata": {},
   "outputs": [],
   "source": [
    "# remoção de features com valores 0\n",
    "\n",
    "training = training.drop(columns = ['mqtt.conack.flags.reserved', 'mqtt.conack.flags.sp', 'mqtt.conflag.qos', 'mqtt.conflag.reserved', 'mqtt.conflag.retain', \n",
    "             'mqtt.conflag.willflag', 'mqtt.retain', 'mqtt.sub.qos', 'mqtt.suback.qos', 'mqtt.willmsg', 'mqtt.willmsg_len', \n",
    "             'mqtt.willtopic', 'mqtt.willtopic_len', 'mqtt.msg'])\n",
    "\n",
    "testing = testing.drop(columns = ['mqtt.conack.flags.reserved', 'mqtt.conack.flags.sp', 'mqtt.conflag.qos', 'mqtt.conflag.reserved', 'mqtt.conflag.retain', \n",
    "             'mqtt.conflag.willflag', 'mqtt.retain', 'mqtt.sub.qos', 'mqtt.suback.qos', 'mqtt.willmsg', 'mqtt.willmsg_len', \n",
    "             'mqtt.willtopic', 'mqtt.willtopic_len', 'mqtt.msg'])\n",
    "\n",
    "print(training.shape)\n",
    "print(testing.shape)"
   ]
  },
  {
   "cell_type": "code",
   "execution_count": null,
   "id": "d5d55e75",
   "metadata": {},
   "outputs": [],
   "source": [
    "# ajuste das variaveis categoricas\n",
    "\n",
    "features_training = pd.get_dummies(training.iloc[:,:-1])\n",
    "target_training = training['target']\n",
    "\n",
    "features_testing = pd.get_dummies(testing.iloc[:,:-1])\n",
    "target_testing = testing['target']"
   ]
  },
  {
   "cell_type": "code",
   "execution_count": null,
   "id": "10e2151c",
   "metadata": {},
   "outputs": [],
   "source": [
    "print(features_training.shape)\n",
    "print(features_testing.shape)\n",
    "print(target_training.shape)\n",
    "print(target_testing.shape)"
   ]
  },
  {
   "cell_type": "code",
   "execution_count": null,
   "id": "29d1a367",
   "metadata": {},
   "outputs": [],
   "source": [
    "col = ['tcp.flags_ACK', 'tcp.flags_FIN ACK', 'tcp.flags_PSH ACK', 'tcp.flags_RST', 'tcp.flags_RST ACK', 'tcp.flags_SYN', 'tcp.flags_SYN ACK', 'tcp.flags_ZERO', 'mqtt.conack.flags_0', 'mqtt.conack.flags_0x00000000', 'mqtt.hdrflags_0', 'mqtt.hdrflags_10000', 'mqtt.hdrflags_100000', 'mqtt.hdrflags_1000000', 'mqtt.hdrflags_10000010', 'mqtt.hdrflags_10010000', 'mqtt.hdrflags_1010000', 'mqtt.hdrflags_110000', 'mqtt.hdrflags_11000000', 'mqtt.hdrflags_110001', 'mqtt.hdrflags_110010', 'mqtt.hdrflags_11010000', 'mqtt.hdrflags_111010', 'mqtt.protoname_0', 'mqtt.protoname_MQTT']"
   ]
  },
  {
   "cell_type": "code",
   "execution_count": null,
   "id": "174494ba",
   "metadata": {},
   "outputs": [],
   "source": [
    "# substituição das colunas com valores FALSE e TRUE por 0 e 1, respectivamente\n",
    "\n",
    "features_training[col] = features_training[col].replace({True: 1, False: 0})\n",
    "features_testing[col] = features_testing[col].replace({True: 1, False: 0})"
   ]
  },
  {
   "cell_type": "code",
   "execution_count": null,
   "id": "865413a8",
   "metadata": {},
   "outputs": [],
   "source": [
    "features_training = features_training.values\n",
    "features_testing = features_testing.values\n",
    "target_training = target_training.values\n",
    "target_testing = target_testing.values"
   ]
  },
  {
   "cell_type": "markdown",
   "id": "0dd3e53a",
   "metadata": {},
   "source": [
    "Decision Tree Classifier"
   ]
  },
  {
   "cell_type": "code",
   "execution_count": null,
   "id": "c449d64c",
   "metadata": {},
   "outputs": [],
   "source": [
    "tree = DecisionTreeClassifier(random_state=0)\n",
    "tree.fit(features_training, target_training)"
   ]
  },
  {
   "cell_type": "code",
   "execution_count": null,
   "id": "bc27a3e6",
   "metadata": {},
   "outputs": [],
   "source": [
    "print(\"Accuracy: {}\".format(tree.score(features_training, target_training)))\n",
    "print(\"Accuracy: {}\".format(tree.score(features_testing, target_testing)))"
   ]
  },
  {
   "cell_type": "code",
   "execution_count": null,
   "id": "3eb3d95e",
   "metadata": {},
   "outputs": [],
   "source": [
    "predict = tree.predict(features_testing)"
   ]
  },
  {
   "cell_type": "code",
   "execution_count": null,
   "id": "bbe60553",
   "metadata": {},
   "outputs": [],
   "source": [
    "from sklearn.metrics import confusion_matrix\n",
    "\n",
    "conf_matrix = confusion_matrix(target_testing, predict)"
   ]
  },
  {
   "cell_type": "code",
   "execution_count": null,
   "id": "d2ff5888",
   "metadata": {},
   "outputs": [],
   "source": [
    "print(\"Matriz de Confusão:\")\n",
    "print(conf_matrix)"
   ]
  },
  {
   "cell_type": "code",
   "execution_count": null,
   "id": "ad077131",
   "metadata": {},
   "outputs": [],
   "source": [
    "import matplotlib.pyplot as plt\n",
    "from sklearn.metrics import ConfusionMatrixDisplay\n",
    "%matplotlib inline"
   ]
  },
  {
   "cell_type": "code",
   "execution_count": null,
   "id": "a92859a5",
   "metadata": {
    "scrolled": false
   },
   "outputs": [],
   "source": [
    "titles_options = [\n",
    "    (\"Confusion matrix, without normalization\", None),\n",
    "    (\"Normalized confusion matrix\", \"true\"),\n",
    "]\n",
    "for title, normalize in titles_options:\n",
    "    disp = ConfusionMatrixDisplay.from_estimator(\n",
    "        tree,\n",
    "        features_testing,\n",
    "        target_testing,\n",
    "        display_labels=training_data['target'],\n",
    "        cmap=plt.cm.Blues,\n",
    "        normalize=normalize,\n",
    "    )\n",
    "    disp.ax_.set_title(title)\n",
    "\n",
    "    print(title)\n",
    "    print(disp.confusion_matrix)\n",
    "\n",
    "plt.show()"
   ]
  }
 ],
 "metadata": {
  "kernelspec": {
   "display_name": "Python 3 (ipykernel)",
   "language": "python",
   "name": "python3"
  },
  "language_info": {
   "codemirror_mode": {
    "name": "ipython",
    "version": 3
   },
   "file_extension": ".py",
   "mimetype": "text/x-python",
   "name": "python",
   "nbconvert_exporter": "python",
   "pygments_lexer": "ipython3",
   "version": "3.11.5"
  }
 },
 "nbformat": 4,
 "nbformat_minor": 5
}
