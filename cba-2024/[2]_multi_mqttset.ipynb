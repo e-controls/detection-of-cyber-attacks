{
  "cells": [
    {
      "cell_type": "markdown",
      "metadata": {
        "id": "view-in-github",
        "colab_type": "text"
      },
      "source": [
        "<a href=\"https://colab.research.google.com/github/matheusfigueiredoo/detection-of-cyber-attacks/blob/main/%5B2%5D_multi_mqttset.ipynb\" target=\"_parent\"><img src=\"https://colab.research.google.com/assets/colab-badge.svg\" alt=\"Open In Colab\"/></a>"
      ]
    },
    {
      "cell_type": "code",
      "source": [
        "!pip install keras==2.12.0"
      ],
      "metadata": {
        "colab": {
          "base_uri": "https://localhost:8080/"
        },
        "id": "Rba-b7myXT8_",
        "outputId": "2d250884-eb10-46ed-89f1-b155241963bb"
      },
      "id": "Rba-b7myXT8_",
      "execution_count": 2,
      "outputs": [
        {
          "output_type": "stream",
          "name": "stdout",
          "text": [
            "Requirement already satisfied: keras==2.12.0 in /usr/local/lib/python3.10/dist-packages (2.12.0)\n"
          ]
        }
      ]
    },
    {
      "cell_type": "code",
      "execution_count": 3,
      "id": "e3fbd576",
      "metadata": {
        "id": "e3fbd576",
        "colab": {
          "base_uri": "https://localhost:8080/"
        },
        "outputId": "5adfbed1-2444-40a8-c973-c762c5d4d1e4"
      },
      "outputs": [
        {
          "output_type": "stream",
          "name": "stdout",
          "text": [
            "Drive already mounted at /content/drive; to attempt to forcibly remount, call drive.mount(\"/content/drive\", force_remount=True).\n"
          ]
        }
      ],
      "source": [
        "import numpy as np\n",
        "import pandas as pd\n",
        "from google.colab import drive\n",
        "drive.mount('/content/drive')\n",
        "\n",
        "from sklearn.naive_bayes import GaussianNB\n",
        "from sklearn.ensemble import GradientBoostingClassifier\n",
        "from keras.wrappers.scikit_learn import KerasClassifier\n",
        "from tensorflow.keras.models import Sequential\n",
        "from tensorflow.keras.layers import Dense, Activation\n",
        "from tensorflow.keras.callbacks import EarlyStopping\n",
        "\n",
        "from sklearn.model_selection import cross_val_score\n",
        "from sklearn.metrics import classification_report\n",
        "from sklearn.metrics import accuracy_score\n",
        "from sklearn.metrics import confusion_matrix\n",
        "from sklearn.metrics import ConfusionMatrixDisplay\n",
        "import matplotlib.pyplot as plt\n",
        "%matplotlib inline"
      ]
    },
    {
      "cell_type": "markdown",
      "source": [
        "# Pre processing data"
      ],
      "metadata": {
        "id": "YNaYhUK-gh4t"
      },
      "id": "YNaYhUK-gh4t"
    },
    {
      "cell_type": "code",
      "execution_count": 4,
      "id": "4ef16d64",
      "metadata": {
        "id": "4ef16d64",
        "colab": {
          "base_uri": "https://localhost:8080/"
        },
        "outputId": "dd980778-5eca-4f71-cafd-d67af68cc90b"
      },
      "outputs": [
        {
          "output_type": "stream",
          "name": "stdout",
          "text": [
            "Train shape:  (14000000, 34)\n",
            "Test shape:  (6000000, 34) \n",
            "\n",
            "Train target:\n",
            " target\n",
            "legitimate    7000000\n",
            "bruteforce    1400000\n",
            "flood         1400000\n",
            "slowite       1400000\n",
            "dos           1400000\n",
            "malformed     1400000\n",
            "Name: count, dtype: int64\n",
            "Test target:\n",
            " target\n",
            "legitimate    3000000\n",
            "dos            600000\n",
            "slowite        600000\n",
            "flood          600000\n",
            "bruteforce     600000\n",
            "malformed      600000\n",
            "Name: count, dtype: int64\n"
          ]
        }
      ],
      "source": [
        "train = pd.read_csv(\"drive/MyDrive/MQTTset/train70_augmented.csv\")\n",
        "test = pd.read_csv(\"drive/MyDrive/MQTTset/test30_augmented.csv\")\n",
        "train = pd.DataFrame(train)\n",
        "test = pd.DataFrame(test)\n",
        "\n",
        "# data shape\n",
        "print(\"Train shape: \", train.shape)\n",
        "print(\"Test shape: \", test.shape, \"\\n\")\n",
        "\n",
        "print(\"Train target:\\n\", train['target'].value_counts())\n",
        "print(\"Test target:\\n\",test['target'].value_counts())"
      ]
    },
    {
      "cell_type": "code",
      "source": [
        "# features countais only values equal to 0\n",
        "print(train['mqtt.conack.flags.reserved'].unique())\n",
        "print(train['mqtt.conack.flags.sp'].unique())\n",
        "print(train['mqtt.conflag.qos'].unique())\n",
        "print(train['mqtt.conflag.reserved'].unique())\n",
        "print(train['mqtt.conflag.retain'].unique())\n",
        "print(train['mqtt.conflag.willflag'].unique())\n",
        "print(train['mqtt.sub.qos'].unique())\n",
        "print(train['mqtt.suback.qos'].unique())\n",
        "print(train['mqtt.willmsg'].unique())\n",
        "print(train['mqtt.willmsg_len'].unique())\n",
        "print(train['mqtt.willtopic'].unique())\n",
        "print(train['mqtt.willtopic_len'].unique())"
      ],
      "metadata": {
        "colab": {
          "base_uri": "https://localhost:8080/"
        },
        "id": "mlMy2UOd7GaP",
        "outputId": "cd95f47a-23ae-41be-b75c-a47f3a708966"
      },
      "id": "mlMy2UOd7GaP",
      "execution_count": 5,
      "outputs": [
        {
          "output_type": "stream",
          "name": "stdout",
          "text": [
            "[0.]\n",
            "[0.]\n",
            "[0.]\n",
            "[0.]\n",
            "[0.]\n",
            "[0.]\n",
            "[0.]\n",
            "[0.]\n",
            "[0.]\n",
            "[0.]\n",
            "[0.]\n",
            "[0.]\n"
          ]
        }
      ]
    },
    {
      "cell_type": "code",
      "execution_count": 6,
      "id": "505c10f4",
      "metadata": {
        "colab": {
          "base_uri": "https://localhost:8080/"
        },
        "id": "505c10f4",
        "outputId": "6563bc3e-08fd-4523-9389-69ba3f3febc6"
      },
      "outputs": [
        {
          "output_type": "stream",
          "name": "stdout",
          "text": [
            "(14000000, 22)\n",
            "(6000000, 22)\n"
          ]
        }
      ],
      "source": [
        "# columns_0 are columns with values equal to 0\n",
        "columns_0 = ['mqtt.conack.flags.reserved', 'mqtt.conack.flags.sp', 'mqtt.conflag.qos',\n",
        "           'mqtt.conflag.reserved', 'mqtt.conflag.retain', 'mqtt.conflag.willflag',\n",
        "           'mqtt.sub.qos', 'mqtt.suback.qos', 'mqtt.willmsg', 'mqtt.willmsg_len',\n",
        "           'mqtt.willtopic', 'mqtt.willtopic_len']\n",
        "\n",
        "train = train.drop(columns_0, axis=1)\n",
        "test = test.drop(columns_0, axis=1)\n",
        "\n",
        "# new data shape\n",
        "print(train.shape)\n",
        "print(test.shape)"
      ]
    },
    {
      "cell_type": "code",
      "execution_count": null,
      "id": "64f6bb86-474b-453b-96e2-3a564a94d2ca",
      "metadata": {
        "id": "64f6bb86-474b-453b-96e2-3a564a94d2ca"
      },
      "outputs": [],
      "source": [
        "# data balancing\n",
        "\n",
        "# train\n",
        "x = []\n",
        "for i in train.index:\n",
        "    if train['target'][i] == 'legitimate':\n",
        "        x.append(i)\n",
        "\n",
        "x = x[:5600000]\n",
        "train = train.drop(x)\n",
        "\n",
        "# ------------------------------------------------------------------------------\n",
        "\n",
        "#test\n",
        "x = []\n",
        "for i in test.index:\n",
        "    if test['target'][i] == 'legitimate':\n",
        "        x.append(i)\n",
        "\n",
        "x = x[:2400000]\n",
        "test = test.drop(x)\n",
        "\n",
        "\n",
        "# new data shape\n",
        "print(train['target'].value_counts())\n",
        "print(test['target'].value_counts())"
      ]
    },
    {
      "cell_type": "code",
      "source": [
        "from sklearn.preprocessing import LabelEncoder\n",
        "label = LabelEncoder()\n",
        "\n",
        "# features and target\n",
        "train['tcp.flags'] = label.fit_transform(train['tcp.flags'])\n",
        "train['mqtt.conack.flags'] = label.fit_transform(train['mqtt.conack.flags'])\n",
        "train['mqtt.hdrflags'] = label.fit_transform(train['mqtt.hdrflags'])\n",
        "train['mqtt.protoname'] = label.fit_transform(train['mqtt.protoname'])\n",
        "train['mqtt.msg'] = label.fit_transform(train['mqtt.msg'])\n",
        "train['mqtt.conflags'] = label.fit_transform(train['mqtt.conflags'])\n",
        "train['target'] = label.fit_transform(train['target'])\n",
        "\n",
        "test['tcp.flags'] = label.fit_transform(test['tcp.flags'])\n",
        "test['mqtt.conack.flags'] = label.fit_transform(test['mqtt.conack.flags'])\n",
        "test['mqtt.hdrflags'] = label.fit_transform(test['mqtt.hdrflags'])\n",
        "test['mqtt.protoname'] = label.fit_transform(test['mqtt.protoname'])\n",
        "test['mqtt.msg'] = label.fit_transform(test['mqtt.msg'])\n",
        "test['mqtt.conflags'] = label.fit_transform(test['mqtt.conflags'])\n",
        "test['target'] = label.fit_transform(test['target'])"
      ],
      "metadata": {
        "id": "2afuT_CcUNNj"
      },
      "id": "2afuT_CcUNNj",
      "execution_count": null,
      "outputs": []
    },
    {
      "cell_type": "code",
      "source": [
        "X_train = train.iloc[:,:-1]\n",
        "y_train = train['target']\n",
        "X_test = test.iloc[:,:-1]\n",
        "y_test = test['target']\n",
        "\n",
        "print(type(X_train))\n",
        "print(type(X_test))\n",
        "print(type(y_train))\n",
        "print(type(y_test))\n",
        "\n",
        "# convert to numpy\n",
        "X_train = X_train.values\n",
        "X_test = X_test.values\n",
        "y_train = y_train.values\n",
        "y_test = y_test.values\n",
        "\n",
        "print(type(X_train))\n",
        "print(type(X_test))\n",
        "print(type(y_train))\n",
        "print(type(y_test))"
      ],
      "metadata": {
        "id": "kl-CRRk18pwN",
        "colab": {
          "base_uri": "https://localhost:8080/"
        },
        "outputId": "977c6967-3417-44cb-a19f-4a98e06e6ee5"
      },
      "id": "kl-CRRk18pwN",
      "execution_count": 9,
      "outputs": [
        {
          "metadata": {
            "tags": null
          },
          "name": "stdout",
          "output_type": "stream",
          "text": [
            "<class 'pandas.core.frame.DataFrame'>\n",
            "<class 'pandas.core.frame.DataFrame'>\n",
            "<class 'pandas.core.series.Series'>\n",
            "<class 'pandas.core.series.Series'>\n",
            "<class 'numpy.ndarray'>\n",
            "<class 'numpy.ndarray'>\n",
            "<class 'numpy.ndarray'>\n",
            "<class 'numpy.ndarray'>\n"
          ]
        }
      ]
    },
    {
      "cell_type": "markdown",
      "source": [
        "# Gaussian Naive Bayes"
      ],
      "metadata": {
        "id": "5X2zHTXclyEt"
      },
      "id": "5X2zHTXclyEt"
    },
    {
      "cell_type": "code",
      "source": [
        "nb = GaussianNB()\n",
        "nb.fit(X_train, y_train)\n",
        "print(\"Accuracy train: \", nb.score(X_train, y_train))\n",
        "# cross validation\n",
        "scores_nb = cross_val_score(nb, X_train, y_train, cv=5)\n",
        "print(\"Cross-validation scores: {}\".format(scores_nb))\n",
        "print(\"Average cross-validation score: {:.2f}\".format(scores_nb.mean()),\"\\n\")\n",
        "\n",
        "print(\"Accuracy test: \", nb.score(X_test, y_test), \"\\n\")\n",
        "\n",
        "# classification report\n",
        "predict_nb = nb.predict(X_test)\n",
        "print(\"Classification report: \")\n",
        "print(classification_report(y_test, predict_nb), \"\\n\")\n",
        "\n",
        "# confusion matrix\n",
        "matrix_nb = confusion_matrix(y_test, predict_nb)\n",
        "print(\"Confusion matrix:\\n\", matrix_nb, \"\\n\")\n",
        "cm_nb = confusion_matrix(y_test, predict_nb, labels=nb.classes_)\n",
        "disp_nb = ConfusionMatrixDisplay(confusion_matrix=cm_nb, display_labels=nb.classes_)\n",
        "disp_nb.plot()\n",
        "plt.show()"
      ],
      "metadata": {
        "id": "gr7TIBhUzLgT",
        "colab": {
          "base_uri": "https://localhost:8080/",
          "height": 958
        },
        "outputId": "74df2375-bfde-4564-c613-5435a1567bdb"
      },
      "id": "gr7TIBhUzLgT",
      "execution_count": null,
      "outputs": [
        {
          "output_type": "stream",
          "name": "stdout",
          "text": [
            "Accuracy train:  0.5298892857142857\n",
            "Cross-validation scores: [0.52995833 0.5303256  0.52964464 0.52976488 0.52977083]\n",
            "Average cross-validation score: 0.53 \n",
            "\n",
            "Accuracy test:  0.5298541666666666 \n",
            "\n",
            "Classification report: \n",
            "              precision    recall  f1-score   support\n",
            "\n",
            "           0       0.28      1.00      0.44    600000\n",
            "           1       0.96      0.72      0.82    600000\n",
            "           2       0.98      0.49      0.65    600000\n",
            "           3       0.76      0.62      0.68    600000\n",
            "           4       1.00      0.15      0.26    600000\n",
            "           5       0.98      0.21      0.34    600000\n",
            "\n",
            "    accuracy                           0.53   3600000\n",
            "   macro avg       0.83      0.53      0.53   3600000\n",
            "weighted avg       0.83      0.53      0.53   3600000\n",
            " \n",
            "\n",
            "Confusion matrix:\n",
            " [[600000      0      0      0      0      0]\n",
            " [169519 430130      0    206    145      0]\n",
            " [303600      0 292800   3600      0      0]\n",
            " [222406      0   4714 372880      0      0]\n",
            " [439260  16980   1680  51420  88440   2220]\n",
            " [415575      0      0  61200      0 123225]] \n",
            "\n"
          ]
        },
        {
          "output_type": "display_data",
          "data": {
            "text/plain": [
              "<Figure size 640x480 with 2 Axes>"
            ],
            "image/png": "[encoded data removed]"
          },
          "metadata": {}
        }
      ]
    },
    {
      "cell_type": "markdown",
      "source": [
        "# Gradient Boosting"
      ],
      "metadata": {
        "id": "s9_3B4Sbn1e6"
      },
      "id": "s9_3B4Sbn1e6"
    },
    {
      "cell_type": "code",
      "source": [
        "# gradient boosting\n",
        "\n",
        "gb = GradientBoostingClassifier()\n",
        "gb.fit(X_train, y_train)\n",
        "print(\"Accuracy train: \", gb.score(X_train, y_train))\n",
        "# cross validation\n",
        "scores_gb = cross_val_score(gb, X_train, y_train, cv=5)\n",
        "print(\"Cross-validation scores: {}\".format(scores_gb))\n",
        "print(\"Average cross-validation score: {:.2f}\".format(scores_gb.mean()),\"\\n\")\n",
        "\n",
        "print(\"Accuracy test: \", gb.score(X_test, y_test), \"\\n\")\n",
        "\n",
        "# classification report\n",
        "predict_gb = gb.predict(X_test)\n",
        "print(\"Classification report: \")\n",
        "print(classification_report(y_test, predict_gb), \"\\n\")\n",
        "\n",
        "# confusion matrix\n",
        "matrix_gb = confusion_matrix(y_test, predict_gb)\n",
        "print(\"Confusion matrix:\\n\", matrix_gb, \"\\n\")\n",
        "cm_gb = confusion_matrix(y_test, predict_gb, labels=gb.classes_)\n",
        "disp_gb = ConfusionMatrixDisplay(confusion_matrix=cm_gb, display_labels=gb.classes_)\n",
        "disp_gb.plot()\n",
        "plt.show()"
      ],
      "metadata": {
        "id": "sko-E4WYz2sI",
        "colab": {
          "base_uri": "https://localhost:8080/",
          "height": 958
        },
        "outputId": "4d289267-7b6e-4ee7-dfa6-862cd7a6442b"
      },
      "id": "sko-E4WYz2sI",
      "execution_count": 10,
      "outputs": [
        {
          "output_type": "stream",
          "name": "stdout",
          "text": [
            "Accuracy train:  0.8640561904761904\n",
            "Cross-validation scores: [0.8636244  0.8641006  0.86455298 0.86451607 0.86429881]\n",
            "Average cross-validation score: 0.86 \n",
            "\n",
            "Accuracy test:  0.8644205555555555 \n",
            "\n",
            "Classification report: \n",
            "              precision    recall  f1-score   support\n",
            "\n",
            "           0       0.72      0.89      0.80    600000\n",
            "           1       0.91      0.88      0.89    600000\n",
            "           2       0.87      0.88      0.88    600000\n",
            "           3       0.84      0.91      0.87    600000\n",
            "           4       0.88      0.63      0.74    600000\n",
            "           5       1.00      1.00      1.00    600000\n",
            "\n",
            "    accuracy                           0.86   3600000\n",
            "   macro avg       0.87      0.86      0.86   3600000\n",
            "weighted avg       0.87      0.86      0.86   3600000\n",
            " \n",
            "\n",
            "Confusion matrix:\n",
            " [[534296  26188   1883    515  37118      0]\n",
            " [  9815 527350  19187  33029  10619      0]\n",
            " [  1200   4800 526800  63600   3600      0]\n",
            " [    80   4384  50573 544268    695      0]\n",
            " [196020  16980   5040   2760 379200      0]\n",
            " [     0      0      0      0      0 600000]] \n",
            "\n"
          ]
        },
        {
          "output_type": "display_data",
          "data": {
            "text/plain": [
              "<Figure size 640x480 with 2 Axes>"
            ],
            "image/png": "[encoded data removed]"
          },
          "metadata": {}
        }
      ]
    },
    {
      "cell_type": "markdown",
      "source": [
        "# Sequential neural network"
      ],
      "metadata": {
        "id": "WsBgYfNrm5sx"
      },
      "id": "WsBgYfNrm5sx"
    },
    {
      "cell_type": "code",
      "source": [
        "# sequential neural network\n",
        "\n",
        "model = Sequential()\n",
        "model.add(Dense(50, input_dim=X_train.shape[1], kernel_initializer='normal', activation='relu'))\n",
        "model.add(Dense(30, input_dim=X_train.shape[1], kernel_initializer='normal', activation='relu'))\n",
        "model.add(Dense(20, kernel_initializer='normal'))\n",
        "model.add(Dense(2,activation='softmax'))\n",
        "model.compile(loss='sparse_categorical_crossentropy', optimizer='adam', metrics=['accuracy'])\n",
        "monitor = EarlyStopping(monitor='val_loss', min_delta=1e-3, patience=5, verbose=1, mode='auto')\n",
        "history = model.fit(X_train,y_train,validation_data=(X_test,y_test),callbacks=[monitor],verbose=2,epochs=200,batch_size=1000)\n",
        "\n",
        "y_pred_prob = model.predict(X_test)\n",
        "y_pred = np.argmax(y_pred_prob, axis=1)\n",
        "\n",
        "print(\"\\n\")\n",
        "accuracy = accuracy_score(y_test, y_pred)\n",
        "print(\"Accuracy:\", accuracy, \"\\n\")\n",
        "\n",
        "print(\"Classification report:\")\n",
        "print(classification_report(y_test, y_pred), \"\\n\")\n",
        "\n",
        "# confusion matrix\n",
        "y_pred_prob = model.predict(X_test)\n",
        "y_pred = np.argmax(y_pred_prob, axis=1)\n",
        "conf_matrix = confusion_matrix(y_test, y_pred)\n",
        "print(\"Matriz de Confusão:\")\n",
        "print(conf_matrix, \"\\n\")\n",
        "\n",
        "plt.figure(figsize=(5, 5))\n",
        "sns.heatmap(conf_matrix, annot=True, fmt='d', cmap='Blues',\n",
        "            xticklabels=['Classe ' + str(i) for i in range(conf_matrix.shape[0])],\n",
        "            yticklabels=['Classe ' + str(i) for i in range(conf_matrix.shape[0])])\n",
        "plt.xlabel('Classe Predita')\n",
        "plt.ylabel('Classe Verdadeira')\n",
        "plt.title('Matriz de Confusão')\n",
        "plt.show()\n",
        "\n",
        "print(\"\\n\")"
      ],
      "metadata": {
        "id": "-1nM0iUtqsul",
        "colab": {
          "base_uri": "https://localhost:8080/",
          "height": 1000
        },
        "outputId": "8bb5a85d-6a60-421b-e93e-05982f0c1ec9"
      },
      "id": "-1nM0iUtqsul",
      "execution_count": null,
      "outputs": [
        {
          "output_type": "stream",
          "name": "stdout",
          "text": [
            "Epoch 1/200\n",
            "14000/14000 - 43s - loss: 0.2457 - accuracy: 0.8493 - val_loss: 0.2250 - val_accuracy: 0.8586 - 43s/epoch - 3ms/step\n",
            "Epoch 2/200\n",
            "14000/14000 - 40s - loss: 0.2233 - accuracy: 0.8661 - val_loss: 0.2144 - val_accuracy: 0.8760 - 40s/epoch - 3ms/step\n",
            "Epoch 3/200\n",
            "14000/14000 - 39s - loss: 0.2104 - accuracy: 0.8811 - val_loss: 0.2021 - val_accuracy: 0.9042 - 39s/epoch - 3ms/step\n",
            "Epoch 4/200\n",
            "14000/14000 - 39s - loss: 0.1998 - accuracy: 0.8965 - val_loss: 0.1883 - val_accuracy: 0.9074 - 39s/epoch - 3ms/step\n",
            "Epoch 5/200\n",
            "14000/14000 - 41s - loss: 0.1863 - accuracy: 0.9125 - val_loss: 0.1782 - val_accuracy: 0.9303 - 41s/epoch - 3ms/step\n",
            "Epoch 6/200\n",
            "14000/14000 - 41s - loss: 0.1797 - accuracy: 0.9182 - val_loss: 0.1742 - val_accuracy: 0.9160 - 41s/epoch - 3ms/step\n",
            "Epoch 7/200\n",
            "14000/14000 - 41s - loss: 0.1732 - accuracy: 0.9198 - val_loss: 0.1670 - val_accuracy: 0.9305 - 41s/epoch - 3ms/step\n",
            "Epoch 8/200\n",
            "14000/14000 - 41s - loss: 0.1716 - accuracy: 0.9213 - val_loss: 0.1717 - val_accuracy: 0.9236 - 41s/epoch - 3ms/step\n",
            "Epoch 9/200\n",
            "14000/14000 - 40s - loss: 0.1699 - accuracy: 0.9220 - val_loss: 0.1641 - val_accuracy: 0.9245 - 40s/epoch - 3ms/step\n",
            "Epoch 10/200\n",
            "14000/14000 - 40s - loss: 0.1671 - accuracy: 0.9227 - val_loss: 0.1632 - val_accuracy: 0.9307 - 40s/epoch - 3ms/step\n",
            "Epoch 11/200\n",
            "14000/14000 - 40s - loss: 0.1656 - accuracy: 0.9237 - val_loss: 0.1603 - val_accuracy: 0.9296 - 40s/epoch - 3ms/step\n",
            "Epoch 12/200\n",
            "14000/14000 - 40s - loss: 0.1650 - accuracy: 0.9239 - val_loss: 0.1602 - val_accuracy: 0.9220 - 40s/epoch - 3ms/step\n",
            "Epoch 13/200\n",
            "14000/14000 - 39s - loss: 0.1650 - accuracy: 0.9240 - val_loss: 0.1593 - val_accuracy: 0.9247 - 39s/epoch - 3ms/step\n",
            "Epoch 14/200\n",
            "14000/14000 - 40s - loss: 0.1633 - accuracy: 0.9246 - val_loss: 0.1604 - val_accuracy: 0.9247 - 40s/epoch - 3ms/step\n",
            "Epoch 15/200\n",
            "14000/14000 - 39s - loss: 0.1627 - accuracy: 0.9248 - val_loss: 0.1609 - val_accuracy: 0.9305 - 39s/epoch - 3ms/step\n",
            "Epoch 16/200\n",
            "14000/14000 - 40s - loss: 0.1622 - accuracy: 0.9248 - val_loss: 0.1595 - val_accuracy: 0.9246 - 40s/epoch - 3ms/step\n",
            "Epoch 16: early stopping\n",
            "187500/187500 [==============================] - 216s 1ms/step\n",
            "\n",
            "\n",
            "Accuracy: 0.9246306666666667 \n",
            "\n",
            "Classification report:\n",
            "              precision    recall  f1-score   support\n",
            "\n",
            "           0       0.87      0.99      0.93   3000000\n",
            "           1       0.99      0.86      0.92   3000000\n",
            "\n",
            "    accuracy                           0.92   6000000\n",
            "   macro avg       0.93      0.92      0.92   6000000\n",
            "weighted avg       0.93      0.92      0.92   6000000\n",
            " \n",
            "\n",
            "187500/187500 [==============================] - 214s 1ms/step\n",
            "Matriz de Confusão:\n",
            "[[2980363   19637]\n",
            " [ 432579 2567421]] \n",
            "\n"
          ]
        },
        {
          "output_type": "error",
          "ename": "NameError",
          "evalue": "name 'sns' is not defined",
          "traceback": [
            "\u001b[0;31m---------------------------------------------------------------------------\u001b[0m",
            "\u001b[0;31mNameError\u001b[0m                                 Traceback (most recent call last)",
            "\u001b[0;32m<ipython-input-11-d0f6ffc3179f>\u001b[0m in \u001b[0;36m<cell line: 30>\u001b[0;34m()\u001b[0m\n\u001b[1;32m     28\u001b[0m \u001b[0;34m\u001b[0m\u001b[0m\n\u001b[1;32m     29\u001b[0m \u001b[0mplt\u001b[0m\u001b[0;34m.\u001b[0m\u001b[0mfigure\u001b[0m\u001b[0;34m(\u001b[0m\u001b[0mfigsize\u001b[0m\u001b[0;34m=\u001b[0m\u001b[0;34m(\u001b[0m\u001b[0;36m5\u001b[0m\u001b[0;34m,\u001b[0m \u001b[0;36m5\u001b[0m\u001b[0;34m)\u001b[0m\u001b[0;34m)\u001b[0m\u001b[0;34m\u001b[0m\u001b[0;34m\u001b[0m\u001b[0m\n\u001b[0;32m---> 30\u001b[0;31m sns.heatmap(conf_matrix, annot=True, fmt='d', cmap='Blues',\n\u001b[0m\u001b[1;32m     31\u001b[0m             \u001b[0mxticklabels\u001b[0m\u001b[0;34m=\u001b[0m\u001b[0;34m[\u001b[0m\u001b[0;34m'Classe '\u001b[0m \u001b[0;34m+\u001b[0m \u001b[0mstr\u001b[0m\u001b[0;34m(\u001b[0m\u001b[0mi\u001b[0m\u001b[0;34m)\u001b[0m \u001b[0;32mfor\u001b[0m \u001b[0mi\u001b[0m \u001b[0;32min\u001b[0m \u001b[0mrange\u001b[0m\u001b[0;34m(\u001b[0m\u001b[0mconf_matrix\u001b[0m\u001b[0;34m.\u001b[0m\u001b[0mshape\u001b[0m\u001b[0;34m[\u001b[0m\u001b[0;36m0\u001b[0m\u001b[0;34m]\u001b[0m\u001b[0;34m)\u001b[0m\u001b[0;34m]\u001b[0m\u001b[0;34m,\u001b[0m\u001b[0;34m\u001b[0m\u001b[0;34m\u001b[0m\u001b[0m\n\u001b[1;32m     32\u001b[0m             yticklabels=['Classe ' + str(i) for i in range(conf_matrix.shape[0])])\n",
            "\u001b[0;31mNameError\u001b[0m: name 'sns' is not defined"
          ]
        },
        {
          "output_type": "display_data",
          "data": {
            "text/plain": [
              "<Figure size 500x500 with 0 Axes>"
            ]
          },
          "metadata": {}
        }
      ]
    }
  ],
  "metadata": {
    "kernelspec": {
      "display_name": "Python 3",
      "name": "python3"
    },
    "language_info": {
      "codemirror_mode": {
        "name": "ipython",
        "version": 3
      },
      "file_extension": ".py",
      "mimetype": "text/x-python",
      "name": "python",
      "nbconvert_exporter": "python",
      "pygments_lexer": "ipython3",
      "version": "3.11.7"
    },
    "colab": {
      "provenance": [],
      "gpuType": "V28",
      "machine_shape": "hm",
      "collapsed_sections": [
        "5X2zHTXclyEt",
        "WsBgYfNrm5sx"
      ],
      "include_colab_link": true
    },
    "accelerator": "TPU"
  },
  "nbformat": 4,
  "nbformat_minor": 5
}