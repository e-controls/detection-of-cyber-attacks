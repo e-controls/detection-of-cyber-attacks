{
  "cells": [
    {
      "cell_type": "markdown",
      "metadata": {
        "id": "view-in-github",
        "colab_type": "text"
      },
      "source": [
        "<a href=\"https://colab.research.google.com/github/matheusfigueiredoo/detection-of-cyber-attacks/blob/main/%5B1%5D_bin_mqttset.ipynb\" target=\"_parent\"><img src=\"https://colab.research.google.com/assets/colab-badge.svg\" alt=\"Open In Colab\"/></a>"
      ]
    },
    {
      "cell_type": "code",
      "execution_count": 1,
      "id": "e3fbd576",
      "metadata": {
        "id": "e3fbd576",
        "colab": {
          "base_uri": "https://localhost:8080/"
        },
        "outputId": "5bb767db-3b03-4f40-a6e0-41b7385b4755"
      },
      "outputs": [
        {
          "output_type": "stream",
          "name": "stdout",
          "text": [
            "Mounted at /content/drive\n"
          ]
        }
      ],
      "source": [
        "import numpy as np\n",
        "import pandas as pd\n",
        "from google.colab import drive\n",
        "drive.mount('/content/drive')\n",
        "\n",
        "from sklearn.tree import DecisionTreeClassifier\n",
        "from sklearn.ensemble import RandomForestClassifier\n",
        "from sklearn.neural_network import MLPClassifier\n",
        "from sklearn.model_selection import cross_val_score\n",
        "from sklearn.metrics import classification_report\n",
        "from sklearn.metrics import accuracy_score\n",
        "from sklearn.metrics import confusion_matrix\n",
        "from sklearn.metrics import ConfusionMatrixDisplay\n",
        "import matplotlib.pyplot as plt\n",
        "%matplotlib inline"
      ]
    },
    {
      "cell_type": "markdown",
      "source": [
        "# Pre processing data"
      ],
      "metadata": {
        "id": "YNaYhUK-gh4t"
      },
      "id": "YNaYhUK-gh4t"
    },
    {
      "cell_type": "code",
      "execution_count": 2,
      "id": "4ef16d64",
      "metadata": {
        "id": "4ef16d64",
        "colab": {
          "base_uri": "https://localhost:8080/"
        },
        "outputId": "2d2c6fd4-a576-4a48-df99-cde9e55a205d"
      },
      "outputs": [
        {
          "output_type": "stream",
          "name": "stdout",
          "text": [
            "Train shape:  (14000000, 34)\n",
            "Test shape:  (6000000, 34) \n",
            "\n",
            "Train target:\n",
            " target\n",
            "legitimate    7000000\n",
            "bruteforce    1400000\n",
            "flood         1400000\n",
            "slowite       1400000\n",
            "dos           1400000\n",
            "malformed     1400000\n",
            "Name: count, dtype: int64\n",
            "Test target:\n",
            " target\n",
            "legitimate    3000000\n",
            "dos            600000\n",
            "slowite        600000\n",
            "flood          600000\n",
            "bruteforce     600000\n",
            "malformed      600000\n",
            "Name: count, dtype: int64\n"
          ]
        }
      ],
      "source": [
        "train = pd.read_csv(\"drive/MyDrive/MQTTset/train70_augmented.csv\")\n",
        "test = pd.read_csv(\"drive/MyDrive/MQTTset/test30_augmented.csv\")\n",
        "train = pd.DataFrame(train)\n",
        "test = pd.DataFrame(test)\n",
        "\n",
        "# data shape\n",
        "print(\"Train shape: \", train.shape)\n",
        "print(\"Test shape: \", test.shape, \"\\n\")\n",
        "\n",
        "print(\"Train target:\\n\", train['target'].value_counts())\n",
        "print(\"Test target:\\n\",test['target'].value_counts())"
      ]
    },
    {
      "cell_type": "code",
      "source": [
        "# features countais only values equal to 0\n",
        "print(train['mqtt.conack.flags.reserved'].unique())\n",
        "print(train['mqtt.conack.flags.sp'].unique())\n",
        "print(train['mqtt.conflag.qos'].unique())\n",
        "print(train['mqtt.conflag.reserved'].unique())\n",
        "print(train['mqtt.conflag.retain'].unique())\n",
        "print(train['mqtt.conflag.willflag'].unique())\n",
        "print(train['mqtt.sub.qos'].unique())\n",
        "print(train['mqtt.suback.qos'].unique())\n",
        "print(train['mqtt.willmsg'].unique())\n",
        "print(train['mqtt.willmsg_len'].unique())\n",
        "print(train['mqtt.willtopic'].unique())\n",
        "print(train['mqtt.willtopic_len'].unique())"
      ],
      "metadata": {
        "colab": {
          "base_uri": "https://localhost:8080/"
        },
        "id": "7Ke3xlgTaAHn",
        "outputId": "5aec1575-b2c2-4630-cdbf-63546bbeac4d"
      },
      "id": "7Ke3xlgTaAHn",
      "execution_count": 3,
      "outputs": [
        {
          "output_type": "stream",
          "name": "stdout",
          "text": [
            "[0.]\n",
            "[0.]\n",
            "[0.]\n",
            "[0.]\n",
            "[0.]\n",
            "[0.]\n",
            "[0.]\n",
            "[0.]\n",
            "[0.]\n",
            "[0.]\n",
            "[0.]\n",
            "[0.]\n"
          ]
        }
      ]
    },
    {
      "cell_type": "code",
      "execution_count": null,
      "id": "505c10f4",
      "metadata": {
        "colab": {
          "base_uri": "https://localhost:8080/"
        },
        "id": "505c10f4",
        "outputId": "c59d31bb-9a5b-4c90-f309-58e0d0e5fa8d"
      },
      "outputs": [
        {
          "output_type": "stream",
          "name": "stdout",
          "text": [
            "(14000000, 22)\n",
            "(6000000, 22)\n"
          ]
        }
      ],
      "source": [
        "# columns_0 are columns with values equal to 0\n",
        "columns_0 = ['mqtt.conack.flags.reserved', 'mqtt.conack.flags.sp', 'mqtt.conflag.qos',\n",
        "           'mqtt.conflag.reserved', 'mqtt.conflag.retain', 'mqtt.conflag.willflag',\n",
        "           'mqtt.sub.qos', 'mqtt.suback.qos', 'mqtt.willmsg', 'mqtt.willmsg_len',\n",
        "           'mqtt.willtopic', 'mqtt.willtopic_len']\n",
        "\n",
        "train = train.drop(columns_0, axis=1)\n",
        "test = test.drop(columns_0, axis=1)\n",
        "\n",
        "# new data shape\n",
        "print(train.shape)\n",
        "print(test.shape)"
      ]
    },
    {
      "cell_type": "code",
      "execution_count": null,
      "id": "64f6bb86-474b-453b-96e2-3a564a94d2ca",
      "metadata": {
        "id": "64f6bb86-474b-453b-96e2-3a564a94d2ca",
        "colab": {
          "base_uri": "https://localhost:8080/"
        },
        "outputId": "d3c7081a-5015-489c-de74-c98f2e2a069a"
      },
      "outputs": [
        {
          "output_type": "stream",
          "name": "stdout",
          "text": [
            "target\n",
            "legitimate    7000000\n",
            "malicious     7000000\n",
            "Name: count, dtype: int64\n",
            "target\n",
            "malicious     3000000\n",
            "legitimate    3000000\n",
            "Name: count, dtype: int64\n"
          ]
        }
      ],
      "source": [
        "# data balancing\n",
        "\n",
        "# train\n",
        "for i in train.index:\n",
        "    if train['target'][i] != 'legitimate':\n",
        "        train.at[i, 'target'] = 'malicious'\n",
        "\n",
        "# test\n",
        "for i in test.index:\n",
        "    if test['target'][i] != 'legitimate':\n",
        "        test.at[i, 'target'] = 'malicious'\n",
        "\n",
        "# new data shape\n",
        "print(train['target'].value_counts())\n",
        "print(test['target'].value_counts())"
      ]
    },
    {
      "cell_type": "code",
      "source": [
        "from sklearn.preprocessing import LabelEncoder\n",
        "label = LabelEncoder()\n",
        "\n",
        "# features and target\n",
        "train['tcp.flags'] = label.fit_transform(train['tcp.flags'])\n",
        "train['mqtt.conack.flags'] = label.fit_transform(train['mqtt.conack.flags'])\n",
        "train['mqtt.hdrflags'] = label.fit_transform(train['mqtt.hdrflags'])\n",
        "train['mqtt.protoname'] = label.fit_transform(train['mqtt.protoname'])\n",
        "train['mqtt.msg'] = label.fit_transform(train['mqtt.msg'])\n",
        "train['mqtt.conflags'] = label.fit_transform(train['mqtt.conflags'])\n",
        "train['target'] = label.fit_transform(train['target'])\n",
        "\n",
        "test['tcp.flags'] = label.fit_transform(test['tcp.flags'])\n",
        "test['mqtt.conack.flags'] = label.fit_transform(test['mqtt.conack.flags'])\n",
        "test['mqtt.hdrflags'] = label.fit_transform(test['mqtt.hdrflags'])\n",
        "test['mqtt.protoname'] = label.fit_transform(test['mqtt.protoname'])\n",
        "test['mqtt.msg'] = label.fit_transform(test['mqtt.msg'])\n",
        "test['mqtt.conflags'] = label.fit_transform(test['mqtt.conflags'])\n",
        "test['target'] = label.fit_transform(test['target'])"
      ],
      "metadata": {
        "id": "2afuT_CcUNNj"
      },
      "id": "2afuT_CcUNNj",
      "execution_count": null,
      "outputs": []
    },
    {
      "cell_type": "code",
      "source": [
        "X_train = train.iloc[:,:-1]\n",
        "y_train = train['target']\n",
        "X_test = test.iloc[:,:-1]\n",
        "y_test = test['target']\n",
        "\n",
        "print(type(X_train))\n",
        "print(type(X_test))\n",
        "print(type(y_train))\n",
        "print(type(y_test))\n",
        "\n",
        "# convert to numpy\n",
        "X_train = X_train.values\n",
        "X_test = X_test.values\n",
        "y_train = y_train.values\n",
        "y_test = y_test.values\n",
        "\n",
        "print(type(X_train))\n",
        "print(type(X_test))\n",
        "print(type(y_train))\n",
        "print(type(y_test))"
      ],
      "metadata": {
        "id": "kl-CRRk18pwN",
        "colab": {
          "base_uri": "https://localhost:8080/"
        },
        "outputId": "a22bdd37-9bf8-4aa7-d374-c0953bd3e1f7"
      },
      "id": "kl-CRRk18pwN",
      "execution_count": null,
      "outputs": [
        {
          "output_type": "stream",
          "name": "stdout",
          "text": [
            "<class 'pandas.core.frame.DataFrame'>\n",
            "<class 'pandas.core.frame.DataFrame'>\n",
            "<class 'pandas.core.series.Series'>\n",
            "<class 'pandas.core.series.Series'>\n",
            "<class 'numpy.ndarray'>\n",
            "<class 'numpy.ndarray'>\n",
            "<class 'numpy.ndarray'>\n",
            "<class 'numpy.ndarray'>\n"
          ]
        }
      ]
    },
    {
      "cell_type": "markdown",
      "source": [
        "# Decision Tree"
      ],
      "metadata": {
        "id": "210SjP0_g1Dl"
      },
      "id": "210SjP0_g1Dl"
    },
    {
      "cell_type": "code",
      "execution_count": null,
      "id": "b26c2a9c",
      "metadata": {
        "id": "b26c2a9c",
        "colab": {
          "base_uri": "https://localhost:8080/",
          "height": 829
        },
        "outputId": "e9973b56-f063-492f-a118-54efa313b10a"
      },
      "outputs": [
        {
          "output_type": "stream",
          "name": "stdout",
          "text": [
            "Accuracy train:  0.9603655714285714\n",
            "Cross-validation scores: [0.96035714 0.9605125  0.960285   0.96031214 0.96035536]\n",
            "Average cross-validation score: 0.96 \n",
            "\n",
            "Accuracy test:  0.9606431666666667 \n",
            "\n",
            "Classification report: \n",
            "              precision    recall  f1-score   support\n",
            "\n",
            "           0       0.94      0.98      0.96   3000000\n",
            "           1       0.98      0.94      0.96   3000000\n",
            "\n",
            "    accuracy                           0.96   6000000\n",
            "   macro avg       0.96      0.96      0.96   6000000\n",
            "weighted avg       0.96      0.96      0.96   6000000\n",
            " \n",
            "\n",
            "Confusion matrix: \n",
            " [[2954845   45155]\n",
            " [ 190986 2809014]] \n",
            "\n"
          ]
        },
        {
          "output_type": "display_data",
          "data": {
            "text/plain": [
              "<Figure size 640x480 with 2 Axes>"
            ],
            "image/png": "[encoded data removed]"
          },
          "metadata": {}
        }
      ],
      "source": [
        "tree = DecisionTreeClassifier(criterion='gini', splitter='best', max_depth=None, random_state=42)\n",
        "tree.fit(X_train, y_train)\n",
        "\n",
        "print(\"Accuracy train: \", tree.score(X_train, y_train))\n",
        "\n",
        "# cross validation\n",
        "scores = cross_val_score(tree, X_train, y_train, cv=5)\n",
        "print(\"Cross-validation scores: {}\".format(scores))\n",
        "print(\"Average cross-validation score: {:.2f}\".format(scores.mean()),\"\\n\")\n",
        "print(\"Accuracy test: \", tree.score(X_test, y_test), \"\\n\")\n",
        "\n",
        "# classification report\n",
        "predict_tree = tree.predict(X_test)\n",
        "print(\"Classification report: \")\n",
        "print(classification_report(y_test, predict_tree), \"\\n\")\n",
        "\n",
        "# confusion matrix\n",
        "matrix_tree = confusion_matrix(y_test, predict_tree)\n",
        "print(\"Confusion matrix: \\n\",matrix_tree, \"\\n\")\n",
        "cm_tree = confusion_matrix(y_test, predict_tree, labels=tree.classes_)\n",
        "disp_tree = ConfusionMatrixDisplay(confusion_matrix=cm_tree, display_labels=tree.classes_)\n",
        "disp_tree.plot()\n",
        "plt.show()"
      ]
    },
    {
      "cell_type": "markdown",
      "source": [
        "# Random Forest"
      ],
      "metadata": {
        "id": "Qv1L7cizg5A4"
      },
      "id": "Qv1L7cizg5A4"
    },
    {
      "cell_type": "code",
      "source": [
        "rf = RandomForestClassifier()\n",
        "rf.fit(X_train, y_train)\n",
        "print(\"Accuracy train: \", rf.score(X_train, y_train))\n",
        "\n",
        "# cross validation\n",
        "scores_rf = cross_val_score(rf, X_train, y_train, cv=5)\n",
        "print(\"Cross-validation scores: {}\".format(scores_rf))\n",
        "print(\"Average cross-validation score: {:.2f}\".format(scores_rf.mean()),\"\\n\")\n",
        "\n",
        "print(\"Accuracy test: \", rf.score(X_test, y_test), \"\\n\")\n",
        "\n",
        "\n",
        "# classification report\n",
        "predict_rf = rf.predict(X_test)\n",
        "print(\"Classification report: \")\n",
        "print(classification_report(y_test, predict_rf), \"\\n\")\n",
        "\n",
        "# confusion matrix\n",
        "matrix_rf = confusion_matrix(y_test, predict_rf)\n",
        "print(\"Confusion matrix:\\n\", matrix_rf, \"\\n\")\n",
        "cm_rf = confusion_matrix(y_test, predict_rf, labels=rf.classes_)\n",
        "disp_rf = ConfusionMatrixDisplay(confusion_matrix=cm_rf, display_labels=rf.classes_)\n",
        "disp_rf.plot()\n",
        "plt.show()"
      ],
      "metadata": {
        "id": "rziYCu3Fjndb",
        "colab": {
          "base_uri": "https://localhost:8080/",
          "height": 829
        },
        "outputId": "24369ae5-40a6-46eb-c8d2-7a51d58e52a8"
      },
      "id": "rziYCu3Fjndb",
      "execution_count": null,
      "outputs": [
        {
          "output_type": "stream",
          "name": "stdout",
          "text": [
            "Accuracy train:  0.9603655714285714\n",
            "Cross-validation scores: [0.96035964 0.9605125  0.96028536 0.96031214 0.96035571]\n",
            "Average cross-validation score: 0.96 \n",
            "\n",
            "Accuracy test:  0.9606433333333333 \n",
            "\n",
            "Classification report: \n",
            "              precision    recall  f1-score   support\n",
            "\n",
            "           0       0.94      0.98      0.96   3000000\n",
            "           1       0.98      0.94      0.96   3000000\n",
            "\n",
            "    accuracy                           0.96   6000000\n",
            "   macro avg       0.96      0.96      0.96   6000000\n",
            "weighted avg       0.96      0.96      0.96   6000000\n",
            " \n",
            "\n",
            "Confusion matrix:\n",
            " [[2954846   45154]\n",
            " [ 190986 2809014]] \n",
            "\n"
          ]
        },
        {
          "output_type": "display_data",
          "data": {
            "text/plain": [
              "<Figure size 640x480 with 2 Axes>"
            ],
            "image/png": "[encoded data removed]"
          },
          "metadata": {}
        }
      ]
    },
    {
      "cell_type": "markdown",
      "source": [
        "# Multi-layer perceptron"
      ],
      "metadata": {
        "id": "_Miptsfplkog"
      },
      "id": "_Miptsfplkog"
    },
    {
      "cell_type": "code",
      "source": [
        "mlp = MLPClassifier(solver='adam', shuffle=True, random_state=0, alpha=0.0000001)\n",
        "mlp.fit(X_train, y_train)\n",
        "print(\"Accuracy train: \", mlp.score(X_train, y_train))\n",
        "\n",
        "# cross validation\n",
        "scores_mlp = cross_val_score(mlp, X_train, y_train, cv=5)\n",
        "print(\"Cross-validation scores: {}\".format(scores_mlp))\n",
        "print(\"Average cross-validation score: {:.2f}\".format(scores_mlp.mean()),\"\\n\")\n",
        "\n",
        "print(\"Accuracy test: \", mlp.score(X_test, y_test), \"\\n\")\n",
        "\n",
        "# classification report\n",
        "predict_mlp = mlp.predict(X_test)\n",
        "print(\"Classification report: \")\n",
        "print(classification_report(y_test, predict_mlp), \"\\n\")\n",
        "\n",
        "# confusion matrix\n",
        "matrix_mlp = confusion_matrix(y_test, predict_mlp)\n",
        "print(\"Confusion matrix:\\n\", matrix_mlp, \"\\n\")\n",
        "cm_mlp = confusion_matrix(y_test, predict_mlp, labels=mlp.classes_)\n",
        "disp_mlp = ConfusionMatrixDisplay(confusion_matrix=cm_mlp, display_labels=mlp.classes_)\n",
        "disp_mlp.plot()\n",
        "plt.show()"
      ],
      "metadata": {
        "colab": {
          "base_uri": "https://localhost:8080/",
          "height": 829
        },
        "id": "_EO0QJY9lEZ1",
        "outputId": "1d73c499-3e97-4594-e140-8f439257e20b"
      },
      "id": "_EO0QJY9lEZ1",
      "execution_count": null,
      "outputs": [
        {
          "output_type": "stream",
          "name": "stdout",
          "text": [
            "Accuracy train:  0.9217502142857142\n",
            "Cross-validation scores: [0.92178071 0.92465286 0.92444571 0.92381429 0.92167643]\n",
            "Average cross-validation score: 0.92 \n",
            "\n",
            "Accuracy test:  0.9219808333333334 \n",
            "\n",
            "Classification report: \n",
            "              precision    recall  f1-score   support\n",
            "\n",
            "           0       0.87      0.99      0.93   3000000\n",
            "           1       0.98      0.86      0.92   3000000\n",
            "\n",
            "    accuracy                           0.92   6000000\n",
            "   macro avg       0.93      0.92      0.92   6000000\n",
            "weighted avg       0.93      0.92      0.92   6000000\n",
            " \n",
            "\n",
            "Confusion matrix:\n",
            " [[2955046   44954]\n",
            " [ 423161 2576839]] \n",
            "\n"
          ]
        },
        {
          "output_type": "display_data",
          "data": {
            "text/plain": [
              "<Figure size 640x480 with 2 Axes>"
            ],
            "image/png": "[encoded data removed]"
          },
          "metadata": {}
        }
      ]
    }
  ],
  "metadata": {
    "kernelspec": {
      "display_name": "Python 3",
      "name": "python3"
    },
    "language_info": {
      "codemirror_mode": {
        "name": "ipython",
        "version": 3
      },
      "file_extension": ".py",
      "mimetype": "text/x-python",
      "name": "python",
      "nbconvert_exporter": "python",
      "pygments_lexer": "ipython3",
      "version": "3.11.7"
    },
    "colab": {
      "provenance": [],
      "gpuType": "V28",
      "machine_shape": "hm",
      "include_colab_link": true
    },
    "accelerator": "TPU"
  },
  "nbformat": 4,
  "nbformat_minor": 5
}